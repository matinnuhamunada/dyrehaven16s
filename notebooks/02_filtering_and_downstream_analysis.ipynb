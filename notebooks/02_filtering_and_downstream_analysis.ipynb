{
 "cells": [
  {
   "cell_type": "markdown",
   "metadata": {},
   "source": [
    "To do:\n",
    "*  [x] Filtering\n",
    "    * [x] Filter rep seqs\n",
    "    * [x] Filter tables\n",
    "*  [x] Build Phylogenetic Tree\n",
    "    - [x] Build tree for PICRUST & Downstream Analysis\n",
    "    - [x] Build Tree (with genomes)\n",
    "* [x] Alpha rarefaction\n",
    "* [ ] Calculate and explore diversity metrics\n",
    "* [x] Assign taxonomy"
   ]
  },
  {
   "cell_type": "code",
   "execution_count": 9,
   "metadata": {},
   "outputs": [],
   "source": [
    "import os\n",
    "import pandas as pd\n",
    "\n",
    "from qiime2 import Visualization"
   ]
  },
  {
   "cell_type": "code",
   "execution_count": 136,
   "metadata": {},
   "outputs": [
    {
     "data": {
      "text/html": [
       "<div>\n",
       "<style scoped>\n",
       "    .dataframe tbody tr th:only-of-type {\n",
       "        vertical-align: middle;\n",
       "    }\n",
       "\n",
       "    .dataframe tbody tr th {\n",
       "        vertical-align: top;\n",
       "    }\n",
       "\n",
       "    .dataframe thead th {\n",
       "        text-align: right;\n",
       "    }\n",
       "</style>\n",
       "<table border=\"1\" class=\"dataframe\">\n",
       "  <thead>\n",
       "    <tr style=\"text-align: right;\">\n",
       "      <th></th>\n",
       "      <th>SampleID</th>\n",
       "    </tr>\n",
       "  </thead>\n",
       "  <tbody>\n",
       "    <tr>\n",
       "      <th>50</th>\n",
       "      <td>P5-rep1</td>\n",
       "    </tr>\n",
       "    <tr>\n",
       "      <th>51</th>\n",
       "      <td>P5-rep2</td>\n",
       "    </tr>\n",
       "    <tr>\n",
       "      <th>52</th>\n",
       "      <td>P5-rep3</td>\n",
       "    </tr>\n",
       "    <tr>\n",
       "      <th>53</th>\n",
       "      <td>P5-rep4</td>\n",
       "    </tr>\n",
       "    <tr>\n",
       "      <th>54</th>\n",
       "      <td>P5-rep5</td>\n",
       "    </tr>\n",
       "    <tr>\n",
       "      <th>55</th>\n",
       "      <td>P8-rep1</td>\n",
       "    </tr>\n",
       "    <tr>\n",
       "      <th>56</th>\n",
       "      <td>P8-rep2</td>\n",
       "    </tr>\n",
       "    <tr>\n",
       "      <th>57</th>\n",
       "      <td>P8-rep3</td>\n",
       "    </tr>\n",
       "    <tr>\n",
       "      <th>58</th>\n",
       "      <td>P8-rep4</td>\n",
       "    </tr>\n",
       "    <tr>\n",
       "      <th>59</th>\n",
       "      <td>P8-rep5</td>\n",
       "    </tr>\n",
       "    <tr>\n",
       "      <th>60</th>\n",
       "      <td>P9_rep1</td>\n",
       "    </tr>\n",
       "    <tr>\n",
       "      <th>61</th>\n",
       "      <td>P9_rep2</td>\n",
       "    </tr>\n",
       "    <tr>\n",
       "      <th>62</th>\n",
       "      <td>P9_rep3</td>\n",
       "    </tr>\n",
       "    <tr>\n",
       "      <th>63</th>\n",
       "      <td>P9_rep4</td>\n",
       "    </tr>\n",
       "    <tr>\n",
       "      <th>64</th>\n",
       "      <td>P9_rep5</td>\n",
       "    </tr>\n",
       "  </tbody>\n",
       "</table>\n",
       "</div>"
      ],
      "text/plain": [
       "   SampleID\n",
       "50  P5-rep1\n",
       "51  P5-rep2\n",
       "52  P5-rep3\n",
       "53  P5-rep4\n",
       "54  P5-rep5\n",
       "55  P8-rep1\n",
       "56  P8-rep2\n",
       "57  P8-rep3\n",
       "58  P8-rep4\n",
       "59  P8-rep5\n",
       "60  P9_rep1\n",
       "61  P9_rep2\n",
       "62  P9_rep3\n",
       "63  P9_rep4\n",
       "64  P9_rep5"
      ]
     },
     "execution_count": 136,
     "metadata": {},
     "output_type": "execute_result"
    }
   ],
   "source": [
    "metadata = pd.read_csv('../data/metadata/sample-metadata.tsv', sep='\\t')\n",
    "metadata = metadata[metadata.Sample.isin(['P5', 'P8', 'P9'])]\n",
    "df = metadata.loc[:,'#SampleID'].to_frame()\n",
    "df = df.rename(columns={'#SampleID':'SampleID'})\n",
    "df.to_csv('../data/metadata/samples-to-keep.tsv',sep='\\t', index=False)\n",
    "df"
   ]
  },
  {
   "cell_type": "code",
   "execution_count": 169,
   "metadata": {},
   "outputs": [
    {
     "data": {
      "text/html": [
       "<div>\n",
       "<style scoped>\n",
       "    .dataframe tbody tr th:only-of-type {\n",
       "        vertical-align: middle;\n",
       "    }\n",
       "\n",
       "    .dataframe tbody tr th {\n",
       "        vertical-align: top;\n",
       "    }\n",
       "\n",
       "    .dataframe thead th {\n",
       "        text-align: right;\n",
       "    }\n",
       "</style>\n",
       "<table border=\"1\" class=\"dataframe\">\n",
       "  <thead>\n",
       "    <tr style=\"text-align: right;\">\n",
       "      <th></th>\n",
       "      <th>SampleID</th>\n",
       "      <th>Location</th>\n",
       "    </tr>\n",
       "  </thead>\n",
       "  <tbody>\n",
       "    <tr>\n",
       "      <th>50</th>\n",
       "      <td>P5-rep1</td>\n",
       "      <td>P5</td>\n",
       "    </tr>\n",
       "    <tr>\n",
       "      <th>51</th>\n",
       "      <td>P5-rep2</td>\n",
       "      <td>P5</td>\n",
       "    </tr>\n",
       "    <tr>\n",
       "      <th>52</th>\n",
       "      <td>P5-rep3</td>\n",
       "      <td>P5</td>\n",
       "    </tr>\n",
       "    <tr>\n",
       "      <th>53</th>\n",
       "      <td>P5-rep4</td>\n",
       "      <td>P5</td>\n",
       "    </tr>\n",
       "    <tr>\n",
       "      <th>54</th>\n",
       "      <td>P5-rep5</td>\n",
       "      <td>P5</td>\n",
       "    </tr>\n",
       "    <tr>\n",
       "      <th>55</th>\n",
       "      <td>P8-rep1</td>\n",
       "      <td>P8</td>\n",
       "    </tr>\n",
       "    <tr>\n",
       "      <th>56</th>\n",
       "      <td>P8-rep2</td>\n",
       "      <td>P8</td>\n",
       "    </tr>\n",
       "    <tr>\n",
       "      <th>57</th>\n",
       "      <td>P8-rep3</td>\n",
       "      <td>P8</td>\n",
       "    </tr>\n",
       "    <tr>\n",
       "      <th>58</th>\n",
       "      <td>P8-rep4</td>\n",
       "      <td>P8</td>\n",
       "    </tr>\n",
       "    <tr>\n",
       "      <th>59</th>\n",
       "      <td>P8-rep5</td>\n",
       "      <td>P8</td>\n",
       "    </tr>\n",
       "    <tr>\n",
       "      <th>60</th>\n",
       "      <td>P9_rep1</td>\n",
       "      <td>P9</td>\n",
       "    </tr>\n",
       "    <tr>\n",
       "      <th>61</th>\n",
       "      <td>P9_rep2</td>\n",
       "      <td>P9</td>\n",
       "    </tr>\n",
       "    <tr>\n",
       "      <th>62</th>\n",
       "      <td>P9_rep3</td>\n",
       "      <td>P9</td>\n",
       "    </tr>\n",
       "    <tr>\n",
       "      <th>63</th>\n",
       "      <td>P9_rep4</td>\n",
       "      <td>P9</td>\n",
       "    </tr>\n",
       "    <tr>\n",
       "      <th>64</th>\n",
       "      <td>P9_rep5</td>\n",
       "      <td>P9</td>\n",
       "    </tr>\n",
       "  </tbody>\n",
       "</table>\n",
       "</div>"
      ],
      "text/plain": [
       "   SampleID Location\n",
       "50  P5-rep1       P5\n",
       "51  P5-rep2       P5\n",
       "52  P5-rep3       P5\n",
       "53  P5-rep4       P5\n",
       "54  P5-rep5       P5\n",
       "55  P8-rep1       P8\n",
       "56  P8-rep2       P8\n",
       "57  P8-rep3       P8\n",
       "58  P8-rep4       P8\n",
       "59  P8-rep5       P8\n",
       "60  P9_rep1       P9\n",
       "61  P9_rep2       P9\n",
       "62  P9_rep3       P9\n",
       "63  P9_rep4       P9\n",
       "64  P9_rep5       P9"
      ]
     },
     "execution_count": 169,
     "metadata": {},
     "output_type": "execute_result"
    }
   ],
   "source": [
    "loc = []\n",
    "for i in ['P5', 'P8', 'P9']:\n",
    "    for x in range(5):\n",
    "        loc.append(i)\n",
    "df['Location'] = loc\n",
    "df.to_csv('../data/metadata/filtered_sample.tsv',sep='\\t', index=False)\n",
    "df"
   ]
  },
  {
   "cell_type": "code",
   "execution_count": 127,
   "metadata": {},
   "outputs": [
    {
     "name": "stdout",
     "output_type": "stream",
     "text": [
      "mkdir: cannot create directory ‘../data/qiime2/filtered’: File exists\n",
      "\u001b[32mSaved FeatureTable[Frequency] to: ../data/qiime2/filtered/table.qza\u001b[0m\n",
      "\u001b[32mSaved FeatureData[Sequence] to: ../data/qiime2/filtered/rep-seqs.qza\u001b[0m\n",
      "\u001b[32mSaved Visualization to: ../data/qiime2/filtered/table.qzv\u001b[0m\n",
      "\u001b[32mSaved Visualization to: ../data/qiime2/filtered/rep-seqs.qzv\u001b[0m\n"
     ]
    }
   ],
   "source": [
    "! mkdir ../data/qiime2/filtered\n",
    "\n",
    "! qiime feature-table filter-samples \\\n",
    "    --i-table ../data/qiime2/table.qza \\\n",
    "    --m-metadata-file ../data/metadata/samples-to-keep.tsv \\\n",
    "    --o-filtered-table ../data/qiime2/filtered/table.qza\n",
    "\n",
    "! qiime feature-table filter-seqs \\\n",
    "    --i-data ../data/qiime2/rep-seqs.qza \\\n",
    "    --i-table ../data/qiime2/filtered/table.qza \\\n",
    "    --o-filtered-data ../data/qiime2/filtered/rep-seqs.qza\n",
    "\n",
    "! qiime feature-table summarize \\\n",
    "    --i-table ../data/qiime2/filtered/table.qza \\\n",
    "    --o-visualization ../data/qiime2/filtered/table.qzv\n",
    "\n",
    "! qiime feature-table tabulate-seqs \\\n",
    "    --i-data ../data/qiime2/filtered/rep-seqs.qza \\\n",
    "    --o-visualization ../data/qiime2/filtered/rep-seqs.qzv"
   ]
  },
  {
   "cell_type": "code",
   "execution_count": 128,
   "metadata": {},
   "outputs": [
    {
     "name": "stdout",
     "output_type": "stream",
     "text": [
      "\u001b[32mSaved FeatureData[AlignedSequence] to: ../data/qiime2/filtered/tree/aligned-rep-seqs.qza\u001b[0m\n",
      "\u001b[32mSaved FeatureData[AlignedSequence] to: ../data/qiime2/filtered/tree/masked-aligned-rep-seqs.qza\u001b[0m\n",
      "\u001b[32mSaved Phylogeny[Unrooted] to: ../data/qiime2/filtered/tree/unrooted-tree.qza\u001b[0m\n",
      "\u001b[32mSaved Phylogeny[Rooted] to: ../data/qiime2/filtered/tree/rooted-tree.qza\u001b[0m\n"
     ]
    }
   ],
   "source": [
    "#carry out a multiple seqeunce alignment using Mafft\n",
    "! mkdir ../data/qiime2/filtered/tree\n",
    "\n",
    "! qiime alignment mafft \\\n",
    "  --i-sequences ../data/qiime2/filtered/rep-seqs.qza \\\n",
    "  --o-alignment ../data/qiime2/filtered/tree/aligned-rep-seqs.qza\n",
    "\n",
    "#mask (or filter) the alignment to remove positions that are highly variable. These positions are generally considered to add noise to a resulting phylogenetic tree.\n",
    "! qiime alignment mask \\\n",
    "  --i-alignment ../data/qiime2/filtered/tree/aligned-rep-seqs.qza \\\n",
    "  --o-masked-alignment ../data/qiime2/filtered/tree/masked-aligned-rep-seqs.qza\n",
    "\n",
    "#create the tree using the Fasttree program\n",
    "! qiime phylogeny fasttree \\\n",
    "  --i-alignment ../data/qiime2/filtered/tree/masked-aligned-rep-seqs.qza \\\n",
    "  --o-tree ../data/qiime2/filtered/tree/unrooted-tree.qza\n",
    "\n",
    "#root the tree using the longest root\n",
    "! qiime phylogeny midpoint-root \\\n",
    "  --i-tree ../data/qiime2/filtered/tree/unrooted-tree.qza \\\n",
    "  --o-rooted-tree ../data/qiime2/filtered/tree/rooted-tree.qza"
   ]
  },
  {
   "cell_type": "code",
   "execution_count": 138,
   "metadata": {},
   "outputs": [
    {
     "data": {
      "text/html": [
       "<div><img onload=\"(function(div, url){\n",
       "if (typeof require !== 'undefined') {\n",
       "    var baseURL = require.toUrl('').split('/').slice(0, -2).join('/');\n",
       "} else {\n",
       "    var baseURL = JSON.parse(\n",
       "        document.getElementById('jupyter-config-data').innerHTML\n",
       "    ).baseUrl.slice(0, -1);\n",
       "}\n",
       "url = baseURL + url;\n",
       "fetch(url).then(function(res) {\n",
       "    if (res.status === 404) {\n",
       "        div.innerHTML = 'Install QIIME 2 Jupyter extension with:<br />' +\n",
       "                        '<code>jupyter serverextension enable --py qiime2' +\n",
       "                        ' --sys-prefix</code><br />then restart your server.' +\n",
       "                        '<br /><br />(Interactive output not available on ' +\n",
       "                        'static notebook viewer services like nbviewer.)';\n",
       "    } else if (res.status === 409) {\n",
       "        div.innerHTML = 'Visualization no longer in scope. Re-run this cell' +\n",
       "                        ' to see the visualization.';\n",
       "    } else if (res.ok) {\n",
       "        url = res.url;\n",
       "        div.innerHTML = '<iframe src=\\'' + url + '\\' style=\\'' +\n",
       "                        'width: 100%; height: 700px; border: 0;\\'>' +\n",
       "                        '</iframe><hr />Open in a: <a href=\\'' + url + '\\'' +\n",
       "                        ' target=\\'_blank\\'>new window</a>'\n",
       "    } else {\n",
       "        div.innerHTML = 'Something has gone wrong. Check notebook server for' +\n",
       "                        ' errors.';\n",
       "    }\n",
       "});\n",
       "})(this.parentElement, '/qiime2/redirect?location=/tmp/qiime2-archive-7w7pap1i')\" src=\"data:image/gif;base64,R0lGODlhAQABAIAAAP///wAAACH5BAEAAAAALAAAAAABAAEAAAICRAEAOw==\" /></div>"
      ],
      "text/plain": [
       "<visualization: Visualization uuid: 52ee05c6-4e5c-4ea7-9f72-4d291552741b>"
      ]
     },
     "execution_count": 138,
     "metadata": {},
     "output_type": "execute_result"
    }
   ],
   "source": [
    "Visualization.load('../data/qiime2/filtered/rep-seqs.qzv')"
   ]
  },
  {
   "cell_type": "code",
   "execution_count": 139,
   "metadata": {},
   "outputs": [
    {
     "name": "stdout",
     "output_type": "stream",
     "text": [
      "\u001b[32mImported ../data/genomes/16sgenome.fasta as DNASequencesDirectoryFormat to ../data/genomes/16sgenome.qza\u001b[0m\n"
     ]
    }
   ],
   "source": [
    "! qiime tools import \\\n",
    "  --input-path ../data/genomes/16sgenome.fasta \\\n",
    "  --output-path ../data/genomes/16sgenome.qza \\\n",
    "  --type 'FeatureData[Sequence]'"
   ]
  },
  {
   "cell_type": "code",
   "execution_count": 143,
   "metadata": {},
   "outputs": [
    {
     "name": "stdout",
     "output_type": "stream",
     "text": [
      "\u001b[32mSaved FeatureData[Sequence] to: ../data/qiime2/filtered/rep-seqs-with-genome.qza\u001b[0m\n"
     ]
    }
   ],
   "source": [
    "! qiime feature-table merge-seqs \\\n",
    "    --i-data ../data/genomes/16sgenome.qza ../data/qiime2/filtered/rep-seqs.qza \\\n",
    "    --o-merged-data ../data/qiime2/filtered/rep-seqs-with-genome.qza"
   ]
  },
  {
   "cell_type": "code",
   "execution_count": 149,
   "metadata": {},
   "outputs": [
    {
     "name": "stdout",
     "output_type": "stream",
     "text": [
      "mkdir: cannot create directory ‘../data/qiime2/filtered/tree_with_genomes’: File exists\n",
      "\u001b[32mSaved FeatureData[AlignedSequence] to: ../data/qiime2/filtered/tree_with_genomes/aligned-rep-seqs.qza\u001b[0m\n",
      "\u001b[32mSaved FeatureData[AlignedSequence] to: ../data/qiime2/filtered/tree_with_genomes/masked-aligned-rep-seqs.qza\u001b[0m\n",
      "\u001b[32mSaved Phylogeny[Unrooted] to: ../data/qiime2/filtered/tree_with_genomes/unrooted-tree.qza\u001b[0m\n",
      "\u001b[32mSaved Phylogeny[Rooted] to: ../data/qiime2/filtered/tree_with_genomes/rooted-tree.qza\u001b[0m\n"
     ]
    }
   ],
   "source": [
    "#carry out a multiple seqeunce alignment using Mafft\n",
    "! mkdir ../data/qiime2/filtered/tree_with_genomes\n",
    "\n",
    "! qiime alignment mafft \\\n",
    "  --i-sequences ../data/qiime2/filtered/rep-seqs-with-genome.qza \\\n",
    "  --o-alignment ../data/qiime2/filtered/tree_with_genomes/aligned-rep-seqs.qza\n",
    "\n",
    "#mask (or filter) the alignment to remove positions that are highly variable. These positions are generally considered to add noise to a resulting phylogenetic tree.\n",
    "! qiime alignment mask \\\n",
    "  --i-alignment ../data/qiime2/filtered/tree_with_genomes/aligned-rep-seqs.qza \\\n",
    "  --o-masked-alignment ../data/qiime2/filtered/tree_with_genomes/masked-aligned-rep-seqs.qza\n",
    "\n",
    "#create the tree using the Fasttree program\n",
    "! qiime phylogeny fasttree \\\n",
    "  --i-alignment ../data/qiime2/filtered/tree_with_genomes/masked-aligned-rep-seqs.qza \\\n",
    "  --o-tree ../data/qiime2/filtered/tree_with_genomes/unrooted-tree.qza\n",
    "\n",
    "#root the tree using the longest root\n",
    "! qiime phylogeny midpoint-root \\\n",
    "  --i-tree ../data/qiime2/filtered/tree_with_genomes/unrooted-tree.qza \\\n",
    "  --o-rooted-tree ../data/qiime2/filtered/tree_with_genomes/rooted-tree.qza"
   ]
  },
  {
   "cell_type": "code",
   "execution_count": 150,
   "metadata": {},
   "outputs": [
    {
     "name": "stdout",
     "output_type": "stream",
     "text": [
      "\u001b[32mExported ../data/qiime2/filtered/tree_with_genomes/rooted-tree.qza as NewickDirectoryFormat to directory ../data/qiime2/filtered/tree_with_genomes/rooted-tree\u001b[0m\n"
     ]
    }
   ],
   "source": [
    "! qiime tools export \\\n",
    "    --input-path ../data/qiime2/filtered/tree_with_genomes/rooted-tree.qza \\\n",
    "    --output-path ../data/qiime2/filtered/tree_with_genomes/rooted-tree"
   ]
  },
  {
   "cell_type": "code",
   "execution_count": 151,
   "metadata": {},
   "outputs": [
    {
     "name": "stdout",
     "output_type": "stream",
     "text": [
      "\u001b[32mExported ../data/qiime2/filtered/tree_with_genomes/masked-aligned-rep-seqs.qza as AlignedDNASequencesDirectoryFormat to directory ../data/qiime2/filtered/tree_with_genomes/masked-aligned-rep-seqs\u001b[0m\n"
     ]
    }
   ],
   "source": [
    "! qiime tools export \\\n",
    "    --input-path ../data/qiime2/filtered/tree_with_genomes/masked-aligned-rep-seqs.qza \\\n",
    "    --output-path ../data/qiime2/filtered/tree_with_genomes/masked-aligned-rep-seqs"
   ]
  },
  {
   "cell_type": "code",
   "execution_count": 152,
   "metadata": {},
   "outputs": [
    {
     "name": "stdout",
     "output_type": "stream",
     "text": [
      "\u001b[32mExported ../data/qiime2/filtered/tree_with_genomes/unrooted-tree.qza as NewickDirectoryFormat to directory ../data/qiime2/filtered/tree_with_genomes/unrooted-tree\u001b[0m\n"
     ]
    }
   ],
   "source": [
    "! qiime tools export \\\n",
    "    --input-path ../data/qiime2/filtered/tree_with_genomes/unrooted-tree.qza \\\n",
    "    --output-path ../data/qiime2/filtered/tree_with_genomes/unrooted-tree"
   ]
  },
  {
   "cell_type": "markdown",
   "metadata": {},
   "source": [
    "# Alpha Rarefaction"
   ]
  },
  {
   "cell_type": "code",
   "execution_count": 174,
   "metadata": {},
   "outputs": [
    {
     "data": {
      "text/html": [
       "<div><img onload=\"(function(div, url){\n",
       "if (typeof require !== 'undefined') {\n",
       "    var baseURL = require.toUrl('').split('/').slice(0, -2).join('/');\n",
       "} else {\n",
       "    var baseURL = JSON.parse(\n",
       "        document.getElementById('jupyter-config-data').innerHTML\n",
       "    ).baseUrl.slice(0, -1);\n",
       "}\n",
       "url = baseURL + url;\n",
       "fetch(url).then(function(res) {\n",
       "    if (res.status === 404) {\n",
       "        div.innerHTML = 'Install QIIME 2 Jupyter extension with:<br />' +\n",
       "                        '<code>jupyter serverextension enable --py qiime2' +\n",
       "                        ' --sys-prefix</code><br />then restart your server.' +\n",
       "                        '<br /><br />(Interactive output not available on ' +\n",
       "                        'static notebook viewer services like nbviewer.)';\n",
       "    } else if (res.status === 409) {\n",
       "        div.innerHTML = 'Visualization no longer in scope. Re-run this cell' +\n",
       "                        ' to see the visualization.';\n",
       "    } else if (res.ok) {\n",
       "        url = res.url;\n",
       "        div.innerHTML = '<iframe src=\\'' + url + '\\' style=\\'' +\n",
       "                        'width: 100%; height: 700px; border: 0;\\'>' +\n",
       "                        '</iframe><hr />Open in a: <a href=\\'' + url + '\\'' +\n",
       "                        ' target=\\'_blank\\'>new window</a>'\n",
       "    } else {\n",
       "        div.innerHTML = 'Something has gone wrong. Check notebook server for' +\n",
       "                        ' errors.';\n",
       "    }\n",
       "});\n",
       "})(this.parentElement, '/qiime2/redirect?location=/tmp/qiime2-archive-lgjelkhm')\" src=\"data:image/gif;base64,R0lGODlhAQABAIAAAP///wAAACH5BAEAAAAALAAAAAABAAEAAAICRAEAOw==\" /></div>"
      ],
      "text/plain": [
       "<visualization: Visualization uuid: 2759c58a-2f47-45c6-b5a1-5be8047cb9af>"
      ]
     },
     "execution_count": 174,
     "metadata": {},
     "output_type": "execute_result"
    }
   ],
   "source": [
    "Visualization.load('../data/qiime2/filtered/table.qzv')"
   ]
  },
  {
   "cell_type": "code",
   "execution_count": 178,
   "metadata": {},
   "outputs": [
    {
     "name": "stdout",
     "output_type": "stream",
     "text": [
      "\u001b[32mSaved Visualization to: ../data/qiime2/filtered/alpha-rarefaction.qzv\u001b[0m\n"
     ]
    }
   ],
   "source": [
    "! qiime diversity alpha-rarefaction \\\n",
    "  --i-table ../data/qiime2/filtered/table.qza \\\n",
    "  --i-phylogeny ../data/qiime2/filtered/tree/rooted-tree.qza \\\n",
    "  --p-max-depth 1000 \\\n",
    "  --m-metadata-file ../data/metadata/filtered_sample.tsv \\\n",
    "  --o-visualization ../data/qiime2/filtered/alpha-rarefaction.qzv"
   ]
  },
  {
   "cell_type": "code",
   "execution_count": 179,
   "metadata": {},
   "outputs": [
    {
     "data": {
      "text/html": [
       "<div><img onload=\"(function(div, url){\n",
       "if (typeof require !== 'undefined') {\n",
       "    var baseURL = require.toUrl('').split('/').slice(0, -2).join('/');\n",
       "} else {\n",
       "    var baseURL = JSON.parse(\n",
       "        document.getElementById('jupyter-config-data').innerHTML\n",
       "    ).baseUrl.slice(0, -1);\n",
       "}\n",
       "url = baseURL + url;\n",
       "fetch(url).then(function(res) {\n",
       "    if (res.status === 404) {\n",
       "        div.innerHTML = 'Install QIIME 2 Jupyter extension with:<br />' +\n",
       "                        '<code>jupyter serverextension enable --py qiime2' +\n",
       "                        ' --sys-prefix</code><br />then restart your server.' +\n",
       "                        '<br /><br />(Interactive output not available on ' +\n",
       "                        'static notebook viewer services like nbviewer.)';\n",
       "    } else if (res.status === 409) {\n",
       "        div.innerHTML = 'Visualization no longer in scope. Re-run this cell' +\n",
       "                        ' to see the visualization.';\n",
       "    } else if (res.ok) {\n",
       "        url = res.url;\n",
       "        div.innerHTML = '<iframe src=\\'' + url + '\\' style=\\'' +\n",
       "                        'width: 100%; height: 700px; border: 0;\\'>' +\n",
       "                        '</iframe><hr />Open in a: <a href=\\'' + url + '\\'' +\n",
       "                        ' target=\\'_blank\\'>new window</a>'\n",
       "    } else {\n",
       "        div.innerHTML = 'Something has gone wrong. Check notebook server for' +\n",
       "                        ' errors.';\n",
       "    }\n",
       "});\n",
       "})(this.parentElement, '/qiime2/redirect?location=/tmp/qiime2-archive-kcw6_zkd')\" src=\"data:image/gif;base64,R0lGODlhAQABAIAAAP///wAAACH5BAEAAAAALAAAAAABAAEAAAICRAEAOw==\" /></div>"
      ],
      "text/plain": [
       "<visualization: Visualization uuid: 446e04e6-8d2c-4dd2-9d1d-d65a1ea2da3e>"
      ]
     },
     "execution_count": 179,
     "metadata": {},
     "output_type": "execute_result"
    }
   ],
   "source": [
    "Visualization.load('../data/qiime2/filtered/alpha-rarefaction.qzv')"
   ]
  },
  {
   "cell_type": "markdown",
   "metadata": {},
   "source": [
    "# Calculate and explore diversity metrics"
   ]
  },
  {
   "cell_type": "code",
   "execution_count": 180,
   "metadata": {},
   "outputs": [
    {
     "name": "stdout",
     "output_type": "stream",
     "text": [
      "\u001b[32mSaved FeatureTable[Frequency] to: ../data/qiime2/filtered/core-metrics-results/rarefied_table.qza\u001b[0m\n",
      "\u001b[32mSaved SampleData[AlphaDiversity] % Properties('phylogenetic') to: ../data/qiime2/filtered/core-metrics-results/faith_pd_vector.qza\u001b[0m\n",
      "\u001b[32mSaved SampleData[AlphaDiversity] to: ../data/qiime2/filtered/core-metrics-results/observed_otus_vector.qza\u001b[0m\n",
      "\u001b[32mSaved SampleData[AlphaDiversity] to: ../data/qiime2/filtered/core-metrics-results/shannon_vector.qza\u001b[0m\n",
      "\u001b[32mSaved SampleData[AlphaDiversity] to: ../data/qiime2/filtered/core-metrics-results/evenness_vector.qza\u001b[0m\n",
      "\u001b[32mSaved DistanceMatrix % Properties('phylogenetic') to: ../data/qiime2/filtered/core-metrics-results/unweighted_unifrac_distance_matrix.qza\u001b[0m\n",
      "\u001b[32mSaved DistanceMatrix % Properties('phylogenetic') to: ../data/qiime2/filtered/core-metrics-results/weighted_unifrac_distance_matrix.qza\u001b[0m\n",
      "\u001b[32mSaved DistanceMatrix to: ../data/qiime2/filtered/core-metrics-results/jaccard_distance_matrix.qza\u001b[0m\n",
      "\u001b[32mSaved DistanceMatrix to: ../data/qiime2/filtered/core-metrics-results/bray_curtis_distance_matrix.qza\u001b[0m\n",
      "\u001b[32mSaved PCoAResults to: ../data/qiime2/filtered/core-metrics-results/unweighted_unifrac_pcoa_results.qza\u001b[0m\n",
      "\u001b[32mSaved PCoAResults to: ../data/qiime2/filtered/core-metrics-results/weighted_unifrac_pcoa_results.qza\u001b[0m\n",
      "\u001b[32mSaved PCoAResults to: ../data/qiime2/filtered/core-metrics-results/jaccard_pcoa_results.qza\u001b[0m\n",
      "\u001b[32mSaved PCoAResults to: ../data/qiime2/filtered/core-metrics-results/bray_curtis_pcoa_results.qza\u001b[0m\n",
      "\u001b[32mSaved Visualization to: ../data/qiime2/filtered/core-metrics-results/unweighted_unifrac_emperor.qzv\u001b[0m\n",
      "\u001b[32mSaved Visualization to: ../data/qiime2/filtered/core-metrics-results/weighted_unifrac_emperor.qzv\u001b[0m\n",
      "\u001b[32mSaved Visualization to: ../data/qiime2/filtered/core-metrics-results/jaccard_emperor.qzv\u001b[0m\n",
      "\u001b[32mSaved Visualization to: ../data/qiime2/filtered/core-metrics-results/bray_curtis_emperor.qzv\u001b[0m\n"
     ]
    }
   ],
   "source": [
    "! qiime diversity core-metrics-phylogenetic \\\n",
    "  --i-phylogeny ../data/qiime2/filtered/tree/rooted-tree.qza \\\n",
    "  --i-table ../data/qiime2/filtered/table.qza \\\n",
    "  --p-sampling-depth 1000 \\\n",
    "  --m-metadata-file ../data/metadata/filtered_sample.tsv \\\n",
    "  --output-dir ../data/qiime2/filtered/core-metrics-results"
   ]
  },
  {
   "cell_type": "code",
   "execution_count": 181,
   "metadata": {},
   "outputs": [
    {
     "name": "stdout",
     "output_type": "stream",
     "text": [
      "\u001b[32mSaved Visualization to: ../data/qiime2/filtered/core-metrics-results/faith-pd-group-significance.qzv\u001b[0m\n",
      "\u001b[32mSaved Visualization to: ../data/qiime2/filtered/core-metrics-results/evenness-group-significance.qzv\u001b[0m\n",
      "\u001b[32mSaved Visualization to: ../data/qiime2/filtered/core-metrics-results/shannon_group-significance.qzv\u001b[0m\n"
     ]
    }
   ],
   "source": [
    "! qiime diversity alpha-group-significance \\\n",
    "  --i-alpha-diversity ../data/qiime2/filtered/core-metrics-results/faith_pd_vector.qza \\\n",
    "  --m-metadata-file ../data/metadata/filtered_sample.tsv \\\n",
    "  --o-visualization ../data/qiime2/filtered/core-metrics-results/faith-pd-group-significance.qzv\n",
    "\n",
    "! qiime diversity alpha-group-significance \\\n",
    "  --i-alpha-diversity ../data/qiime2/filtered/core-metrics-results/evenness_vector.qza \\\n",
    "  --m-metadata-file ../data/metadata/filtered_sample.tsv \\\n",
    "  --o-visualization ../data/qiime2/filtered/core-metrics-results/evenness-group-significance.qzv\n",
    "\n",
    "! qiime diversity alpha-group-significance \\\n",
    "  --i-alpha-diversity ../data/qiime2/filtered/core-metrics-results/shannon_vector.qza \\\n",
    "  --m-metadata-file ../data/metadata/filtered_sample.tsv \\\n",
    "  --o-visualization ../data/qiime2/filtered/core-metrics-results/shannon_group-significance.qzv"
   ]
  },
  {
   "cell_type": "code",
   "execution_count": 183,
   "metadata": {},
   "outputs": [
    {
     "data": {
      "text/html": [
       "<div><img onload=\"(function(div, url){\n",
       "if (typeof require !== 'undefined') {\n",
       "    var baseURL = require.toUrl('').split('/').slice(0, -2).join('/');\n",
       "} else {\n",
       "    var baseURL = JSON.parse(\n",
       "        document.getElementById('jupyter-config-data').innerHTML\n",
       "    ).baseUrl.slice(0, -1);\n",
       "}\n",
       "url = baseURL + url;\n",
       "fetch(url).then(function(res) {\n",
       "    if (res.status === 404) {\n",
       "        div.innerHTML = 'Install QIIME 2 Jupyter extension with:<br />' +\n",
       "                        '<code>jupyter serverextension enable --py qiime2' +\n",
       "                        ' --sys-prefix</code><br />then restart your server.' +\n",
       "                        '<br /><br />(Interactive output not available on ' +\n",
       "                        'static notebook viewer services like nbviewer.)';\n",
       "    } else if (res.status === 409) {\n",
       "        div.innerHTML = 'Visualization no longer in scope. Re-run this cell' +\n",
       "                        ' to see the visualization.';\n",
       "    } else if (res.ok) {\n",
       "        url = res.url;\n",
       "        div.innerHTML = '<iframe src=\\'' + url + '\\' style=\\'' +\n",
       "                        'width: 100%; height: 700px; border: 0;\\'>' +\n",
       "                        '</iframe><hr />Open in a: <a href=\\'' + url + '\\'' +\n",
       "                        ' target=\\'_blank\\'>new window</a>'\n",
       "    } else {\n",
       "        div.innerHTML = 'Something has gone wrong. Check notebook server for' +\n",
       "                        ' errors.';\n",
       "    }\n",
       "});\n",
       "})(this.parentElement, '/qiime2/redirect?location=/tmp/qiime2-archive-kqm1hraj')\" src=\"data:image/gif;base64,R0lGODlhAQABAIAAAP///wAAACH5BAEAAAAALAAAAAABAAEAAAICRAEAOw==\" /></div>"
      ],
      "text/plain": [
       "<visualization: Visualization uuid: a7ac5e81-286f-4f24-8fc5-c995c94e845a>"
      ]
     },
     "execution_count": 183,
     "metadata": {},
     "output_type": "execute_result"
    }
   ],
   "source": [
    "Visualization.load('../data/qiime2/filtered/core-metrics-results/evenness-group-significance.qzv')"
   ]
  },
  {
   "cell_type": "markdown",
   "metadata": {},
   "source": [
    "# Assign Taxonomy"
   ]
  },
  {
   "cell_type": "code",
   "execution_count": null,
   "metadata": {},
   "outputs": [],
   "source": []
  },
  {
   "cell_type": "code",
   "execution_count": 157,
   "metadata": {},
   "outputs": [
    {
     "name": "stdout",
     "output_type": "stream",
     "text": [
      "--2021-03-21 07:51:03--  https://data.qiime2.org/2019.10/common/gg-13-8-99-515-806-nb-classifier.qza\n",
      "Resolving data.qiime2.org (data.qiime2.org)... 54.200.1.12\n",
      "Connecting to data.qiime2.org (data.qiime2.org)|54.200.1.12|:443... connected.\n",
      "HTTP request sent, awaiting response... 302 FOUND\n",
      "Location: https://s3-us-west-2.amazonaws.com/qiime2-data/2019.10/common/gg-13-8-99-515-806-nb-classifier.qza [following]\n",
      "--2021-03-21 07:51:04--  https://s3-us-west-2.amazonaws.com/qiime2-data/2019.10/common/gg-13-8-99-515-806-nb-classifier.qza\n",
      "Resolving s3-us-west-2.amazonaws.com (s3-us-west-2.amazonaws.com)... 52.218.204.216\n",
      "Connecting to s3-us-west-2.amazonaws.com (s3-us-west-2.amazonaws.com)|52.218.204.216|:443... connected.\n",
      "HTTP request sent, awaiting response... 200 OK\n",
      "Length: 28373760 (27M) [binary/octet-stream]\n",
      "Saving to: ‘../data/qiime2/gg-13-8-99-515-806-nb-classifier.qza’\n",
      "\n",
      "../data/qiime2/gg-1 100%[===================>]  27.06M  8.21MB/s    in 3.3s    \n",
      "\n",
      "2021-03-21 07:51:10 (8.21 MB/s) - ‘../data/qiime2/gg-13-8-99-515-806-nb-classifier.qza’ saved [28373760/28373760]\n",
      "\n"
     ]
    }
   ],
   "source": [
    "! wget -O \"../data/qiime2/gg-13-8-99-515-806-nb-classifier.qza\" \"https://data.qiime2.org/2019.10/common/gg-13-8-99-515-806-nb-classifier.qza\"\n",
    "#! qiime feature-classifier --version"
   ]
  },
  {
   "cell_type": "code",
   "execution_count": 161,
   "metadata": {},
   "outputs": [
    {
     "name": "stdout",
     "output_type": "stream",
     "text": [
      "\u001b[32mSaved FeatureData[Taxonomy] to: ../data/qiime2/filtered/taxonomy.qza\u001b[0m\n"
     ]
    }
   ],
   "source": [
    "! qiime feature-classifier classify-sklearn \\\n",
    "    --p-n-jobs 6 \\\n",
    "    --i-classifier ../data/qiime2/gg-13-8-99-515-806-nb-classifier.qza \\\n",
    "    --i-reads ../data/qiime2/filtered/rep-seqs.qza \\\n",
    "    --o-classification ../data/qiime2/filtered/taxonomy.qza \\\n",
    "    --verbose"
   ]
  },
  {
   "cell_type": "code",
   "execution_count": 172,
   "metadata": {},
   "outputs": [
    {
     "name": "stdout",
     "output_type": "stream",
     "text": [
      "\u001b[32mSaved Visualization to: ../data/qiime2/filtered/taxonomy.qzv\u001b[0m\n",
      "\u001b[32mSaved Visualization to: ../data/qiime2/filtered/taxa-bar-plots.qzv\u001b[0m\n"
     ]
    },
    {
     "data": {
      "text/plain": [
       "'\\n#first, export your data as a .biom\\n! qiime tools export   ../data/qiime2/filtered/feature-table.qza   --output-dir ../data/qiime2/filtered/exported-feature-table\\n\\n#then export taxonomy info\\n! qiime tools export   ../data/qiime2/filtered/taxonomy.qza   --output-dir ../data/qiime2/filtered/exported-feature-table\\n\\n#then combine the two using the biome package (dependence loaded as part of QIIME2 install)\\n'"
      ]
     },
     "execution_count": 172,
     "metadata": {},
     "output_type": "execute_result"
    }
   ],
   "source": [
    "! qiime metadata tabulate \\\n",
    "  --m-input-file ../data/qiime2/filtered/taxonomy.qza \\\n",
    "  --o-visualization ../data/qiime2/filtered/taxonomy.qzv\n",
    "\n",
    "! qiime taxa barplot \\\n",
    "  --i-table ../data/qiime2/filtered/table.qza \\\n",
    "  --i-taxonomy ../data/qiime2/filtered/taxonomy.qza \\\n",
    "  --m-metadata-file ../data/metadata/filtered_sample.tsv \\\n",
    "  --o-visualization ../data/qiime2/filtered/taxa-bar-plots.qzv\n",
    "'''\n",
    "#first, export your data as a .biom\n",
    "! qiime tools export \\\n",
    "  ../data/qiime2/filtered/feature-table.qza \\\n",
    "  --output-dir ../data/qiime2/filtered/exported-feature-table\n",
    "\n",
    "#then export taxonomy info\n",
    "! qiime tools export \\\n",
    "  ../data/qiime2/filtered/taxonomy.qza \\\n",
    "  --output-dir ../data/qiime2/filtered/exported-feature-table\n",
    "\n",
    "#then combine the two using the biome package (dependence loaded as part of QIIME2 install)\n",
    "'''"
   ]
  },
  {
   "cell_type": "code",
   "execution_count": 173,
   "metadata": {},
   "outputs": [
    {
     "data": {
      "text/html": [
       "<div><img onload=\"(function(div, url){\n",
       "if (typeof require !== 'undefined') {\n",
       "    var baseURL = require.toUrl('').split('/').slice(0, -2).join('/');\n",
       "} else {\n",
       "    var baseURL = JSON.parse(\n",
       "        document.getElementById('jupyter-config-data').innerHTML\n",
       "    ).baseUrl.slice(0, -1);\n",
       "}\n",
       "url = baseURL + url;\n",
       "fetch(url).then(function(res) {\n",
       "    if (res.status === 404) {\n",
       "        div.innerHTML = 'Install QIIME 2 Jupyter extension with:<br />' +\n",
       "                        '<code>jupyter serverextension enable --py qiime2' +\n",
       "                        ' --sys-prefix</code><br />then restart your server.' +\n",
       "                        '<br /><br />(Interactive output not available on ' +\n",
       "                        'static notebook viewer services like nbviewer.)';\n",
       "    } else if (res.status === 409) {\n",
       "        div.innerHTML = 'Visualization no longer in scope. Re-run this cell' +\n",
       "                        ' to see the visualization.';\n",
       "    } else if (res.ok) {\n",
       "        url = res.url;\n",
       "        div.innerHTML = '<iframe src=\\'' + url + '\\' style=\\'' +\n",
       "                        'width: 100%; height: 700px; border: 0;\\'>' +\n",
       "                        '</iframe><hr />Open in a: <a href=\\'' + url + '\\'' +\n",
       "                        ' target=\\'_blank\\'>new window</a>'\n",
       "    } else {\n",
       "        div.innerHTML = 'Something has gone wrong. Check notebook server for' +\n",
       "                        ' errors.';\n",
       "    }\n",
       "});\n",
       "})(this.parentElement, '/qiime2/redirect?location=/tmp/qiime2-archive-z_768s8b')\" src=\"data:image/gif;base64,R0lGODlhAQABAIAAAP///wAAACH5BAEAAAAALAAAAAABAAEAAAICRAEAOw==\" /></div>"
      ],
      "text/plain": [
       "<visualization: Visualization uuid: b82dbeae-eaa6-440e-ae87-cd0f5e547077>"
      ]
     },
     "execution_count": 173,
     "metadata": {},
     "output_type": "execute_result"
    }
   ],
   "source": [
    "Visualization.load('../data/qiime2/filtered/taxa-bar-plots.qzv')"
   ]
  },
  {
   "cell_type": "code",
   "execution_count": 2,
   "metadata": {},
   "outputs": [
    {
     "name": "stdout",
     "output_type": "stream",
     "text": [
      "\u001b[32mExported ../data/qiime2/filtered/table.qza as BIOMV210DirFmt to directory ../data/qiime2/filtered/exported-feature-table\u001b[0m\n",
      "\u001b[32mExported ../data/qiime2/filtered/taxonomy.qza as TSVTaxonomyDirectoryFormat to directory ../data/qiime2/filtered/exported-feature-table\u001b[0m\n"
     ]
    }
   ],
   "source": [
    "#first, export your data as a .biom\n",
    "! qiime tools export \\\n",
    "  --input-path ../data/qiime2/filtered/table.qza \\\n",
    "  --output-path ../data/qiime2/filtered/exported-feature-table\n",
    "\n",
    "#then export taxonomy info\n",
    "! qiime tools export \\\n",
    "  --input-path ../data/qiime2/filtered/taxonomy.qza \\\n",
    "  --output-path ../data/qiime2/filtered/exported-feature-table"
   ]
  },
  {
   "cell_type": "code",
   "execution_count": 7,
   "metadata": {},
   "outputs": [],
   "source": [
    "! biom convert -i ../data/qiime2/filtered/exported-feature-table/feature-table.biom \\\n",
    "    -o ../data/qiime2/filtered/exported-feature-table/feature-table.tsv \\\n",
    "    --to-tsv"
   ]
  },
  {
   "cell_type": "code",
   "execution_count": 28,
   "metadata": {},
   "outputs": [
    {
     "data": {
      "text/html": [
       "<div>\n",
       "<style scoped>\n",
       "    .dataframe tbody tr th:only-of-type {\n",
       "        vertical-align: middle;\n",
       "    }\n",
       "\n",
       "    .dataframe tbody tr th {\n",
       "        vertical-align: top;\n",
       "    }\n",
       "\n",
       "    .dataframe thead th {\n",
       "        text-align: right;\n",
       "    }\n",
       "</style>\n",
       "<table border=\"1\" class=\"dataframe\">\n",
       "  <thead>\n",
       "    <tr style=\"text-align: right;\">\n",
       "      <th></th>\n",
       "      <th>P5_rep1</th>\n",
       "      <th>P5_rep2</th>\n",
       "      <th>P5_rep3</th>\n",
       "      <th>P5_rep4</th>\n",
       "      <th>P5_rep5</th>\n",
       "      <th>P8_rep1</th>\n",
       "      <th>P8_rep2</th>\n",
       "      <th>P8_rep3</th>\n",
       "      <th>P8_rep4</th>\n",
       "      <th>P8_rep5</th>\n",
       "      <th>P9_rep1</th>\n",
       "      <th>P9_rep2</th>\n",
       "      <th>P9_rep3</th>\n",
       "      <th>P9_rep4</th>\n",
       "      <th>P9_rep5</th>\n",
       "    </tr>\n",
       "    <tr>\n",
       "      <th>asv</th>\n",
       "      <th></th>\n",
       "      <th></th>\n",
       "      <th></th>\n",
       "      <th></th>\n",
       "      <th></th>\n",
       "      <th></th>\n",
       "      <th></th>\n",
       "      <th></th>\n",
       "      <th></th>\n",
       "      <th></th>\n",
       "      <th></th>\n",
       "      <th></th>\n",
       "      <th></th>\n",
       "      <th></th>\n",
       "      <th></th>\n",
       "    </tr>\n",
       "  </thead>\n",
       "  <tbody>\n",
       "    <tr>\n",
       "      <th>0010861f41d656beec7cf63fe0dbad15</th>\n",
       "      <td>0.0</td>\n",
       "      <td>0.0</td>\n",
       "      <td>0.0</td>\n",
       "      <td>0.0</td>\n",
       "      <td>0.0</td>\n",
       "      <td>0.0</td>\n",
       "      <td>0.0</td>\n",
       "      <td>0.0</td>\n",
       "      <td>0.0</td>\n",
       "      <td>0.0</td>\n",
       "      <td>0.0</td>\n",
       "      <td>0.0</td>\n",
       "      <td>0.0</td>\n",
       "      <td>3.0</td>\n",
       "      <td>0.0</td>\n",
       "    </tr>\n",
       "    <tr>\n",
       "      <th>001234c4ae948797dac11b95df511a13</th>\n",
       "      <td>0.0</td>\n",
       "      <td>0.0</td>\n",
       "      <td>0.0</td>\n",
       "      <td>0.0</td>\n",
       "      <td>0.0</td>\n",
       "      <td>0.0</td>\n",
       "      <td>9.0</td>\n",
       "      <td>0.0</td>\n",
       "      <td>0.0</td>\n",
       "      <td>0.0</td>\n",
       "      <td>0.0</td>\n",
       "      <td>0.0</td>\n",
       "      <td>0.0</td>\n",
       "      <td>0.0</td>\n",
       "      <td>0.0</td>\n",
       "    </tr>\n",
       "    <tr>\n",
       "      <th>001dd75457b196d7102586b8624ddbc3</th>\n",
       "      <td>0.0</td>\n",
       "      <td>0.0</td>\n",
       "      <td>0.0</td>\n",
       "      <td>0.0</td>\n",
       "      <td>0.0</td>\n",
       "      <td>0.0</td>\n",
       "      <td>0.0</td>\n",
       "      <td>0.0</td>\n",
       "      <td>0.0</td>\n",
       "      <td>0.0</td>\n",
       "      <td>18.0</td>\n",
       "      <td>0.0</td>\n",
       "      <td>0.0</td>\n",
       "      <td>0.0</td>\n",
       "      <td>0.0</td>\n",
       "    </tr>\n",
       "    <tr>\n",
       "      <th>002c52fa5c956fc05b69474b3de0bdbe</th>\n",
       "      <td>6.0</td>\n",
       "      <td>2.0</td>\n",
       "      <td>0.0</td>\n",
       "      <td>0.0</td>\n",
       "      <td>0.0</td>\n",
       "      <td>0.0</td>\n",
       "      <td>0.0</td>\n",
       "      <td>0.0</td>\n",
       "      <td>0.0</td>\n",
       "      <td>0.0</td>\n",
       "      <td>0.0</td>\n",
       "      <td>0.0</td>\n",
       "      <td>0.0</td>\n",
       "      <td>0.0</td>\n",
       "      <td>0.0</td>\n",
       "    </tr>\n",
       "    <tr>\n",
       "      <th>00342672701d10d40f879d4de14090dc</th>\n",
       "      <td>0.0</td>\n",
       "      <td>0.0</td>\n",
       "      <td>2.0</td>\n",
       "      <td>0.0</td>\n",
       "      <td>0.0</td>\n",
       "      <td>0.0</td>\n",
       "      <td>0.0</td>\n",
       "      <td>0.0</td>\n",
       "      <td>0.0</td>\n",
       "      <td>0.0</td>\n",
       "      <td>0.0</td>\n",
       "      <td>0.0</td>\n",
       "      <td>0.0</td>\n",
       "      <td>0.0</td>\n",
       "      <td>0.0</td>\n",
       "    </tr>\n",
       "    <tr>\n",
       "      <th>...</th>\n",
       "      <td>...</td>\n",
       "      <td>...</td>\n",
       "      <td>...</td>\n",
       "      <td>...</td>\n",
       "      <td>...</td>\n",
       "      <td>...</td>\n",
       "      <td>...</td>\n",
       "      <td>...</td>\n",
       "      <td>...</td>\n",
       "      <td>...</td>\n",
       "      <td>...</td>\n",
       "      <td>...</td>\n",
       "      <td>...</td>\n",
       "      <td>...</td>\n",
       "      <td>...</td>\n",
       "    </tr>\n",
       "    <tr>\n",
       "      <th>ff50bc5a98ccf879e4bae091b504436a</th>\n",
       "      <td>0.0</td>\n",
       "      <td>0.0</td>\n",
       "      <td>0.0</td>\n",
       "      <td>0.0</td>\n",
       "      <td>0.0</td>\n",
       "      <td>0.0</td>\n",
       "      <td>0.0</td>\n",
       "      <td>0.0</td>\n",
       "      <td>0.0</td>\n",
       "      <td>1.0</td>\n",
       "      <td>0.0</td>\n",
       "      <td>0.0</td>\n",
       "      <td>0.0</td>\n",
       "      <td>0.0</td>\n",
       "      <td>0.0</td>\n",
       "    </tr>\n",
       "    <tr>\n",
       "      <th>ff7e1290218e7e38098328f36e206ad5</th>\n",
       "      <td>0.0</td>\n",
       "      <td>0.0</td>\n",
       "      <td>0.0</td>\n",
       "      <td>0.0</td>\n",
       "      <td>0.0</td>\n",
       "      <td>0.0</td>\n",
       "      <td>1.0</td>\n",
       "      <td>1.0</td>\n",
       "      <td>0.0</td>\n",
       "      <td>0.0</td>\n",
       "      <td>0.0</td>\n",
       "      <td>0.0</td>\n",
       "      <td>0.0</td>\n",
       "      <td>0.0</td>\n",
       "      <td>0.0</td>\n",
       "    </tr>\n",
       "    <tr>\n",
       "      <th>ff8401c9e2a024f4fd2fe2964fff69ab</th>\n",
       "      <td>0.0</td>\n",
       "      <td>0.0</td>\n",
       "      <td>0.0</td>\n",
       "      <td>0.0</td>\n",
       "      <td>0.0</td>\n",
       "      <td>0.0</td>\n",
       "      <td>0.0</td>\n",
       "      <td>0.0</td>\n",
       "      <td>0.0</td>\n",
       "      <td>0.0</td>\n",
       "      <td>0.0</td>\n",
       "      <td>0.0</td>\n",
       "      <td>0.0</td>\n",
       "      <td>0.0</td>\n",
       "      <td>3.0</td>\n",
       "    </tr>\n",
       "    <tr>\n",
       "      <th>ffce01c8099c14e264ae88e0bff064bc</th>\n",
       "      <td>0.0</td>\n",
       "      <td>0.0</td>\n",
       "      <td>0.0</td>\n",
       "      <td>0.0</td>\n",
       "      <td>0.0</td>\n",
       "      <td>0.0</td>\n",
       "      <td>0.0</td>\n",
       "      <td>0.0</td>\n",
       "      <td>0.0</td>\n",
       "      <td>0.0</td>\n",
       "      <td>0.0</td>\n",
       "      <td>0.0</td>\n",
       "      <td>0.0</td>\n",
       "      <td>0.0</td>\n",
       "      <td>3.0</td>\n",
       "    </tr>\n",
       "    <tr>\n",
       "      <th>ffe3ce4b0799147fbcae8e230a5d5fc0</th>\n",
       "      <td>0.0</td>\n",
       "      <td>0.0</td>\n",
       "      <td>0.0</td>\n",
       "      <td>0.0</td>\n",
       "      <td>0.0</td>\n",
       "      <td>0.0</td>\n",
       "      <td>0.0</td>\n",
       "      <td>0.0</td>\n",
       "      <td>0.0</td>\n",
       "      <td>0.0</td>\n",
       "      <td>2.0</td>\n",
       "      <td>0.0</td>\n",
       "      <td>0.0</td>\n",
       "      <td>0.0</td>\n",
       "      <td>0.0</td>\n",
       "    </tr>\n",
       "  </tbody>\n",
       "</table>\n",
       "<p>2218 rows × 15 columns</p>\n",
       "</div>"
      ],
      "text/plain": [
       "                                  P5_rep1  P5_rep2  P5_rep3  P5_rep4  P5_rep5  \\\n",
       "asv                                                                             \n",
       "0010861f41d656beec7cf63fe0dbad15      0.0      0.0      0.0      0.0      0.0   \n",
       "001234c4ae948797dac11b95df511a13      0.0      0.0      0.0      0.0      0.0   \n",
       "001dd75457b196d7102586b8624ddbc3      0.0      0.0      0.0      0.0      0.0   \n",
       "002c52fa5c956fc05b69474b3de0bdbe      6.0      2.0      0.0      0.0      0.0   \n",
       "00342672701d10d40f879d4de14090dc      0.0      0.0      2.0      0.0      0.0   \n",
       "...                                   ...      ...      ...      ...      ...   \n",
       "ff50bc5a98ccf879e4bae091b504436a      0.0      0.0      0.0      0.0      0.0   \n",
       "ff7e1290218e7e38098328f36e206ad5      0.0      0.0      0.0      0.0      0.0   \n",
       "ff8401c9e2a024f4fd2fe2964fff69ab      0.0      0.0      0.0      0.0      0.0   \n",
       "ffce01c8099c14e264ae88e0bff064bc      0.0      0.0      0.0      0.0      0.0   \n",
       "ffe3ce4b0799147fbcae8e230a5d5fc0      0.0      0.0      0.0      0.0      0.0   \n",
       "\n",
       "                                  P8_rep1  P8_rep2  P8_rep3  P8_rep4  P8_rep5  \\\n",
       "asv                                                                             \n",
       "0010861f41d656beec7cf63fe0dbad15      0.0      0.0      0.0      0.0      0.0   \n",
       "001234c4ae948797dac11b95df511a13      0.0      9.0      0.0      0.0      0.0   \n",
       "001dd75457b196d7102586b8624ddbc3      0.0      0.0      0.0      0.0      0.0   \n",
       "002c52fa5c956fc05b69474b3de0bdbe      0.0      0.0      0.0      0.0      0.0   \n",
       "00342672701d10d40f879d4de14090dc      0.0      0.0      0.0      0.0      0.0   \n",
       "...                                   ...      ...      ...      ...      ...   \n",
       "ff50bc5a98ccf879e4bae091b504436a      0.0      0.0      0.0      0.0      1.0   \n",
       "ff7e1290218e7e38098328f36e206ad5      0.0      1.0      1.0      0.0      0.0   \n",
       "ff8401c9e2a024f4fd2fe2964fff69ab      0.0      0.0      0.0      0.0      0.0   \n",
       "ffce01c8099c14e264ae88e0bff064bc      0.0      0.0      0.0      0.0      0.0   \n",
       "ffe3ce4b0799147fbcae8e230a5d5fc0      0.0      0.0      0.0      0.0      0.0   \n",
       "\n",
       "                                  P9_rep1  P9_rep2  P9_rep3  P9_rep4  P9_rep5  \n",
       "asv                                                                            \n",
       "0010861f41d656beec7cf63fe0dbad15      0.0      0.0      0.0      3.0      0.0  \n",
       "001234c4ae948797dac11b95df511a13      0.0      0.0      0.0      0.0      0.0  \n",
       "001dd75457b196d7102586b8624ddbc3     18.0      0.0      0.0      0.0      0.0  \n",
       "002c52fa5c956fc05b69474b3de0bdbe      0.0      0.0      0.0      0.0      0.0  \n",
       "00342672701d10d40f879d4de14090dc      0.0      0.0      0.0      0.0      0.0  \n",
       "...                                   ...      ...      ...      ...      ...  \n",
       "ff50bc5a98ccf879e4bae091b504436a      0.0      0.0      0.0      0.0      0.0  \n",
       "ff7e1290218e7e38098328f36e206ad5      0.0      0.0      0.0      0.0      0.0  \n",
       "ff8401c9e2a024f4fd2fe2964fff69ab      0.0      0.0      0.0      0.0      3.0  \n",
       "ffce01c8099c14e264ae88e0bff064bc      0.0      0.0      0.0      0.0      3.0  \n",
       "ffe3ce4b0799147fbcae8e230a5d5fc0      2.0      0.0      0.0      0.0      0.0  \n",
       "\n",
       "[2218 rows x 15 columns]"
      ]
     },
     "execution_count": 28,
     "metadata": {},
     "output_type": "execute_result"
    }
   ],
   "source": [
    "df_biom = pd.read_csv('../data/qiime2/filtered/exported-feature-table/feature-table.txt', sep='\\t', skiprows=1, index_col=0)\n",
    "df_biom.columns = [i.replace('-','_') for i in df_biom.columns.values]\n",
    "df_biom.index.name = 'asv'\n",
    "df_biom"
   ]
  },
  {
   "cell_type": "code",
   "execution_count": 32,
   "metadata": {},
   "outputs": [],
   "source": [
    "df_tax = pd.read_csv('../data/qiime2/filtered/exported-feature-table/taxonomy.tsv', sep='\\t', index_col=0)"
   ]
  },
  {
   "cell_type": "code",
   "execution_count": 36,
   "metadata": {},
   "outputs": [],
   "source": [
    "df_tax = df_tax.drop(columns=['Confidence'])"
   ]
  },
  {
   "cell_type": "code",
   "execution_count": 39,
   "metadata": {},
   "outputs": [
    {
     "ename": "AttributeError",
     "evalue": "'Series' object has no attribute 'split'",
     "output_type": "error",
     "traceback": [
      "\u001b[0;31m---------------------------------------------------------------------------\u001b[0m",
      "\u001b[0;31mAttributeError\u001b[0m                            Traceback (most recent call last)",
      "\u001b[0;32m<ipython-input-39-5a3128805e5c>\u001b[0m in \u001b[0;36m<module>\u001b[0;34m\u001b[0m\n\u001b[0;32m----> 1\u001b[0;31m \u001b[0mdf_tax\u001b[0m\u001b[0;34m.\u001b[0m\u001b[0mTaxon\u001b[0m\u001b[0;34m.\u001b[0m\u001b[0msplit\u001b[0m\u001b[0;34m(\u001b[0m\u001b[0;34m';'\u001b[0m\u001b[0;34m)\u001b[0m\u001b[0;34m\u001b[0m\u001b[0;34m\u001b[0m\u001b[0m\n\u001b[0m",
      "\u001b[0;32m~/miniconda3/envs/qiime2-2019.10/lib/python3.6/site-packages/pandas/core/generic.py\u001b[0m in \u001b[0;36m__getattr__\u001b[0;34m(self, name)\u001b[0m\n\u001b[1;32m   5177\u001b[0m             \u001b[0;32mif\u001b[0m \u001b[0mself\u001b[0m\u001b[0;34m.\u001b[0m\u001b[0m_info_axis\u001b[0m\u001b[0;34m.\u001b[0m\u001b[0m_can_hold_identifiers_and_holds_name\u001b[0m\u001b[0;34m(\u001b[0m\u001b[0mname\u001b[0m\u001b[0;34m)\u001b[0m\u001b[0;34m:\u001b[0m\u001b[0;34m\u001b[0m\u001b[0;34m\u001b[0m\u001b[0m\n\u001b[1;32m   5178\u001b[0m                 \u001b[0;32mreturn\u001b[0m \u001b[0mself\u001b[0m\u001b[0;34m[\u001b[0m\u001b[0mname\u001b[0m\u001b[0;34m]\u001b[0m\u001b[0;34m\u001b[0m\u001b[0;34m\u001b[0m\u001b[0m\n\u001b[0;32m-> 5179\u001b[0;31m             \u001b[0;32mreturn\u001b[0m \u001b[0mobject\u001b[0m\u001b[0;34m.\u001b[0m\u001b[0m__getattribute__\u001b[0m\u001b[0;34m(\u001b[0m\u001b[0mself\u001b[0m\u001b[0;34m,\u001b[0m \u001b[0mname\u001b[0m\u001b[0;34m)\u001b[0m\u001b[0;34m\u001b[0m\u001b[0;34m\u001b[0m\u001b[0m\n\u001b[0m\u001b[1;32m   5180\u001b[0m \u001b[0;34m\u001b[0m\u001b[0m\n\u001b[1;32m   5181\u001b[0m     \u001b[0;32mdef\u001b[0m \u001b[0m__setattr__\u001b[0m\u001b[0;34m(\u001b[0m\u001b[0mself\u001b[0m\u001b[0;34m,\u001b[0m \u001b[0mname\u001b[0m\u001b[0;34m,\u001b[0m \u001b[0mvalue\u001b[0m\u001b[0;34m)\u001b[0m\u001b[0;34m:\u001b[0m\u001b[0;34m\u001b[0m\u001b[0;34m\u001b[0m\u001b[0m\n",
      "\u001b[0;31mAttributeError\u001b[0m: 'Series' object has no attribute 'split'"
     ]
    }
   ],
   "source": [
    "df_tax.Taxon.split(';')"
   ]
  },
  {
   "cell_type": "code",
   "execution_count": null,
   "metadata": {},
   "outputs": [],
   "source": []
  }
 ],
 "metadata": {
  "kernelspec": {
   "display_name": "Python 3",
   "language": "python",
   "name": "python3"
  },
  "language_info": {
   "codemirror_mode": {
    "name": "ipython",
    "version": 3
   },
   "file_extension": ".py",
   "mimetype": "text/x-python",
   "name": "python",
   "nbconvert_exporter": "python",
   "pygments_lexer": "ipython3",
   "version": "3.6.12"
  }
 },
 "nbformat": 4,
 "nbformat_minor": 4
}
