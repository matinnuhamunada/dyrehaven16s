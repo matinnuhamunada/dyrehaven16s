{
 "cells": [
  {
   "cell_type": "markdown",
   "id": "correct-repository",
   "metadata": {},
   "source": [
    "# Helper script for metacoder\n",
    "Takes in the exported feature table and create inputs for metacoder - works for SILVA"
   ]
  },
  {
   "cell_type": "code",
   "execution_count": 3,
   "id": "great-arbor",
   "metadata": {},
   "outputs": [
    {
     "name": "stdout",
     "output_type": "stream",
     "text": [
      "directory exist\n"
     ]
    }
   ],
   "source": [
    "import pandas as pd\n",
    "import os\n",
    "\n",
    "try:\n",
    "    os.mkdir('../data/metacoder')\n",
    "except FileExistsError:\n",
    "    print('directory exist')"
   ]
  },
  {
   "cell_type": "code",
   "execution_count": 4,
   "id": "moved-nightmare",
   "metadata": {},
   "outputs": [],
   "source": [
    "# load input\n",
    "df_abundance = pd.read_csv('../data/qiime2/filtered/exported-feature-table/feature-table.tsv', sep='\\t', skiprows=1)\n",
    "df_taxonomy = pd.read_csv('../data/qiime2/filtered/exported-feature-table/taxonomy.tsv', sep='\\t')\n",
    "\n",
    "# split taxonomy files\n",
    "df_tax_split = pd.DataFrame(columns=['Kingdom', 'Phylum', 'Class', 'Order', 'Family', 'Genus', 'Species', 'Other'])\n",
    "for num, a in enumerate(df_taxonomy['Taxon']):\n",
    "    #print(num)\n",
    "    for i in a.split(';'):\n",
    "        try:\n",
    "            level = i.split('__')[0]\n",
    "            taxa = i.split('__')[1]\n",
    "        except IndexError:\n",
    "            df_tax_split.loc[num, 'Other'] = a\n",
    "        if 'k' in level:\n",
    "            df_tax_split.loc[num, 'Kingdom'] = taxa\n",
    "        elif 'p' in level:\n",
    "            df_tax_split.loc[num, 'Phylum'] = taxa\n",
    "        elif 'c' in level:\n",
    "            df_tax_split.loc[num, 'Class'] = taxa\n",
    "        elif 'o' in level:\n",
    "            df_tax_split.loc[num, 'Order'] = taxa\n",
    "        elif 'f' in level:\n",
    "            df_tax_split.loc[num, 'Family'] = taxa\n",
    "        elif 'g' in level:\n",
    "            df_tax_split.loc[num, 'Genus'] = taxa\n",
    "        elif 's' in level:\n",
    "            df_tax_split.loc[num, 'Species'] = taxa \n",
    "df_tax_split = df_tax_split.drop(columns=['Other'])\n",
    "df_asv = pd.merge(df_taxonomy, df_tax_split, left_index=True, right_index=True)\n",
    "first = df_asv.pop('Confidence')\n",
    "df_asv.insert(9, 'Confidence', first.values)\n",
    "\n",
    "sample = [i for i in df_abundance.columns][1:]\n",
    "data = [i.split('_')[0] for i in [i.replace('-','_') for i in sample]]\n",
    "\n",
    "df_sample = pd.DataFrame(data={'SampleID':sample, 'Sites':data})\n",
    "df_asv = df_asv.rename(columns={'Feature ID':'OTU_ID'})\n",
    "df_abundance = df_abundance.rename(columns={'#OTU ID':'OTU_ID'})\n",
    "\n",
    "df_abundance.to_csv('../data/metacoder/asv_table.tsv', sep='\\t', index=False)\n",
    "df_asv.to_csv('../data/metacoder/tax_assignments.tsv', sep='\\t', index=False)\n",
    "df_sample.to_csv('../data/metacoder/sample_metadata.tsv', sep='\\t', index=False)"
   ]
  }
 ],
 "metadata": {
  "kernelspec": {
   "display_name": "Python 3",
   "language": "python",
   "name": "python3"
  },
  "language_info": {
   "codemirror_mode": {
    "name": "ipython",
    "version": 3
   },
   "file_extension": ".py",
   "mimetype": "text/x-python",
   "name": "python",
   "nbconvert_exporter": "python",
   "pygments_lexer": "ipython3",
   "version": "3.9.2"
  }
 },
 "nbformat": 4,
 "nbformat_minor": 5
}
