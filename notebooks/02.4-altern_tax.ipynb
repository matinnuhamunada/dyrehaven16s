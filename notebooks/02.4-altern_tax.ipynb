{
 "cells": [
  {
   "cell_type": "markdown",
   "metadata": {},
   "source": [
    "To do:\n",
    "*  [x] Filtering\n",
    "    * [x] Filter rep seqs\n",
    "    * [x] Filter tables\n",
    "*  [x] Build Phylogenetic Tree\n",
    "    - [x] Build tree for PICRUST & Downstream Analysis\n",
    "    - [x] Build Tree (with genomes)\n",
    "* [x] Alpha rarefaction\n",
    "* [ ] Calculate and explore diversity metrics\n",
    "* [x] Assign taxonomy"
   ]
  },
  {
   "cell_type": "code",
   "execution_count": 13,
   "metadata": {},
   "outputs": [],
   "source": [
    "import os\n",
    "import pandas as pd\n",
    "\n",
    "from qiime2 import Visualization"
   ]
  },
  {
   "cell_type": "markdown",
   "metadata": {},
   "source": [
    "# Assign Taxonomy"
   ]
  },
  {
   "cell_type": "code",
   "execution_count": 4,
   "metadata": {},
   "outputs": [
    {
     "name": "stdout",
     "output_type": "stream",
     "text": [
      "--2021-04-16 12:53:31--  https://data.qiime2.org/2021.2/common/gg-13-8-99-nb-classifier.qza\n",
      "Resolving data.qiime2.org (data.qiime2.org)... 54.200.1.12\n",
      "Connecting to data.qiime2.org (data.qiime2.org)|54.200.1.12|:443... connected.\n",
      "HTTP request sent, awaiting response... 302 FOUND\n",
      "Location: https://s3-us-west-2.amazonaws.com/qiime2-data/2021.2/common/gg-13-8-99-nb-classifier.qza [following]\n",
      "--2021-04-16 12:53:32--  https://s3-us-west-2.amazonaws.com/qiime2-data/2021.2/common/gg-13-8-99-nb-classifier.qza\n",
      "Resolving s3-us-west-2.amazonaws.com (s3-us-west-2.amazonaws.com)... 52.218.251.136\n",
      "Connecting to s3-us-west-2.amazonaws.com (s3-us-west-2.amazonaws.com)|52.218.251.136|:443... connected.\n",
      "HTTP request sent, awaiting response... 200 OK\n",
      "Length: 104510980 (100M) [binary/octet-stream]\n",
      "Saving to: ‘../data/qiime2/gg-13-8-99-nb-classifier.qza’\n",
      "\n",
      "../data/qiime2/gg-1 100%[===================>]  99.67M  8.13MB/s    in 13s     \n",
      "\n",
      "2021-04-16 12:53:46 (7.42 MB/s) - ‘../data/qiime2/gg-13-8-99-nb-classifier.qza’ saved [104510980/104510980]\n",
      "\n",
      "--2021-04-16 12:53:46--  https://data.qiime2.org/2021.2/common/gg-13-8-99-515-806-nb-classifier.qza\n",
      "Resolving data.qiime2.org (data.qiime2.org)... 54.200.1.12\n",
      "Connecting to data.qiime2.org (data.qiime2.org)|54.200.1.12|:443... connected.\n",
      "HTTP request sent, awaiting response... 302 FOUND\n",
      "Location: https://s3-us-west-2.amazonaws.com/qiime2-data/2021.2/common/gg-13-8-99-515-806-nb-classifier.qza [following]\n",
      "--2021-04-16 12:53:47--  https://s3-us-west-2.amazonaws.com/qiime2-data/2021.2/common/gg-13-8-99-515-806-nb-classifier.qza\n",
      "Resolving s3-us-west-2.amazonaws.com (s3-us-west-2.amazonaws.com)... 52.218.251.136\n",
      "Connecting to s3-us-west-2.amazonaws.com (s3-us-west-2.amazonaws.com)|52.218.251.136|:443... connected.\n",
      "HTTP request sent, awaiting response... 200 OK\n",
      "Length: 28285585 (27M) [binary/octet-stream]\n",
      "Saving to: ‘../data/qiime2/gg-13-8-99-515-806-nb-classifier.qza’\n",
      "\n",
      "../data/qiime2/gg-1 100%[===================>]  26.97M  8.01MB/s    in 3.9s    \n",
      "\n",
      "2021-04-16 12:53:51 (6.99 MB/s) - ‘../data/qiime2/gg-13-8-99-515-806-nb-classifier.qza’ saved [28285585/28285585]\n",
      "\n"
     ]
    }
   ],
   "source": [
    "#! wget -O \"../data/qiime2/silva-138-99-515-806-nb-classifier.qza\" \"https://data.qiime2.org/2021.2/common/silva-138-99-515-806-nb-classifier.qza\"\n",
    "#! wget -O \"../data/qiime2/silva-138-99-nb-classifier.qza\" \"https://data.qiime2.org/2021.2/common/silva-138-99-nb-classifier.qza\"\n",
    "#! wget -O \"../data/qiime2/gg-13-8-99-nb-classifier.qza\" \"https://data.qiime2.org/2021.2/common/gg-13-8-99-nb-classifier.qza\"\n",
    "#! wget -O \"../data/qiime2/gg-13-8-99-515-806-nb-classifier.qza\" \"https://data.qiime2.org/2021.2/common/gg-13-8-99-515-806-nb-classifier.qza\"\n",
    "#! qiime feature-classifier --version"
   ]
  },
  {
   "cell_type": "code",
   "execution_count": 9,
   "metadata": {},
   "outputs": [],
   "source": [
    "tax_db = [\"silva-138-99-nb-classifier\", \"silva-138-99-515-806-nb-classifier\", \"gg-13-8-99-nb-classifier\", \"gg-13-8-99-515-806-nb-classifier\"]"
   ]
  },
  {
   "cell_type": "code",
   "execution_count": null,
   "metadata": {},
   "outputs": [],
   "source": [
    "for i in tax_db:\n",
    "          ! qiime feature-classifier classify-sklearn \\\n",
    "              --p-n-jobs 8 \\\n",
    "              --i-classifier ../data/qiime2/{i}.qza \\\n",
    "              --i-reads ../data/qiime2/rep-seqs-deblur.qza \\\n",
    "              --o-classification ../data/qiime2/filtered/taxonomy_{i}.qza \\\n",
    "              --verbose"
   ]
  },
  {
   "cell_type": "code",
   "execution_count": 11,
   "metadata": {},
   "outputs": [
    {
     "name": "stdout",
     "output_type": "stream",
     "text": [
      "\u001b[32mSaved Visualization to: ../data/qiime2/filtered/taxonomy_silva-138-99-nb-classifier.qzv\u001b[0m\n",
      "\u001b[32mSaved Visualization to: ../data/qiime2/filtered/taxa-bar-plots_silva-138-99-nb-classifier.qzv\u001b[0m\n",
      "\u001b[32mExported ../data/qiime2/filtered/taxonomy_silva-138-99-nb-classifier.qza as TSVTaxonomyDirectoryFormat to directory ../data/qiime2/filtered/exported-feature-table/taxonomy_silva-138-99-nb-classifier.tsv\u001b[0m\n",
      "\u001b[32mSaved Visualization to: ../data/qiime2/filtered/taxonomy_gg-13-8-99-nb-classifier.qzv\u001b[0m\n",
      "\u001b[32mSaved Visualization to: ../data/qiime2/filtered/taxa-bar-plots_gg-13-8-99-nb-classifier.qzv\u001b[0m\n",
      "\u001b[32mExported ../data/qiime2/filtered/taxonomy_gg-13-8-99-nb-classifier.qza as TSVTaxonomyDirectoryFormat to directory ../data/qiime2/filtered/exported-feature-table/taxonomy_gg-13-8-99-nb-classifier.tsv\u001b[0m\n",
      "\u001b[32mSaved Visualization to: ../data/qiime2/filtered/taxonomy_gg-13-8-99-515-806-nb-classifier.qzv\u001b[0m\n",
      "\u001b[32mSaved Visualization to: ../data/qiime2/filtered/taxa-bar-plots_gg-13-8-99-515-806-nb-classifier.qzv\u001b[0m\n",
      "\u001b[32mExported ../data/qiime2/filtered/taxonomy_gg-13-8-99-515-806-nb-classifier.qza as TSVTaxonomyDirectoryFormat to directory ../data/qiime2/filtered/exported-feature-table/taxonomy_gg-13-8-99-515-806-nb-classifier.tsv\u001b[0m\n"
     ]
    }
   ],
   "source": [
    "for i in tax_db:\n",
    "    ! qiime metadata tabulate \\\n",
    "        --m-input-file ../data/qiime2/filtered/taxonomy_{i}.qza \\\n",
    "        --o-visualization ../data/qiime2/filtered/taxonomy_{i}.qzv\n",
    "\n",
    "    ! qiime taxa barplot \\\n",
    "        --i-table ../data/qiime2/table-deblur.qza \\\n",
    "        --i-taxonomy ../data/qiime2/filtered/taxonomy_{i}.qza \\\n",
    "        --m-metadata-file ../data/metadata/metadata-selection.tsv \\\n",
    "        --o-visualization ../data/qiime2/filtered/taxa-bar-plots_{i}.qzv\n",
    "    \n",
    "    ! qiime tools export \\\n",
    "        --input-path ../data/qiime2/filtered/taxonomy_{i}.qza \\\n",
    "        --output-path ../data/qiime2/filtered/exported-feature-table/taxonomy_{i}"
   ]
  },
  {
   "cell_type": "code",
   "execution_count": 14,
   "metadata": {},
   "outputs": [
    {
     "data": {
      "text/html": [
       "<div><img onload=\"(function(div, url){\n",
       "if (typeof require !== 'undefined') {\n",
       "    var baseURL = require.toUrl('').split('/').slice(0, -2).join('/');\n",
       "} else {\n",
       "    var baseURL = JSON.parse(\n",
       "        document.getElementById('jupyter-config-data').innerHTML\n",
       "    ).baseUrl.slice(0, -1);\n",
       "}\n",
       "url = baseURL + url;\n",
       "fetch(url).then(function(res) {\n",
       "    if (res.status === 404) {\n",
       "        div.innerHTML = 'Install QIIME 2 Jupyter extension with:<br />' +\n",
       "                        '<code>jupyter serverextension enable --py qiime2' +\n",
       "                        ' --sys-prefix</code><br />then restart your server.' +\n",
       "                        '<br /><br />(Interactive output not available on ' +\n",
       "                        'static notebook viewer services like nbviewer.)';\n",
       "    } else if (res.status === 409) {\n",
       "        div.innerHTML = 'Visualization no longer in scope. Re-run this cell' +\n",
       "                        ' to see the visualization.';\n",
       "    } else if (res.ok) {\n",
       "        url = res.url;\n",
       "        div.innerHTML = '<iframe src=\\'' + url + '\\' style=\\'' +\n",
       "                        'width: 100%; height: 700px; border: 0;\\'>' +\n",
       "                        '</iframe><hr />Open in a: <a href=\\'' + url + '\\'' +\n",
       "                        ' target=\\'_blank\\'>new window</a>'\n",
       "    } else {\n",
       "        div.innerHTML = 'Something has gone wrong. Check notebook server for' +\n",
       "                        ' errors.';\n",
       "    }\n",
       "});\n",
       "})(this.parentElement, '/qiime2/redirect?location=/tmp/qiime2-archive-64t5yu2e')\" src=\"data:image/gif;base64,R0lGODlhAQABAIAAAP///wAAACH5BAEAAAAALAAAAAABAAEAAAICRAEAOw==\" /></div>"
      ],
      "text/plain": [
       "<visualization: Visualization uuid: 9c77fd8f-4353-457a-8f23-5093c82d8f8f>"
      ]
     },
     "execution_count": 14,
     "metadata": {},
     "output_type": "execute_result"
    }
   ],
   "source": [
    "Visualization.load('../data/qiime2/filtered/taxa-bar-plots_gg-13-8-99-515-806-nb-classifier.qzv')"
   ]
  },
  {
   "cell_type": "code",
   "execution_count": 15,
   "metadata": {},
   "outputs": [
    {
     "data": {
      "text/html": [
       "<div><img onload=\"(function(div, url){\n",
       "if (typeof require !== 'undefined') {\n",
       "    var baseURL = require.toUrl('').split('/').slice(0, -2).join('/');\n",
       "} else {\n",
       "    var baseURL = JSON.parse(\n",
       "        document.getElementById('jupyter-config-data').innerHTML\n",
       "    ).baseUrl.slice(0, -1);\n",
       "}\n",
       "url = baseURL + url;\n",
       "fetch(url).then(function(res) {\n",
       "    if (res.status === 404) {\n",
       "        div.innerHTML = 'Install QIIME 2 Jupyter extension with:<br />' +\n",
       "                        '<code>jupyter serverextension enable --py qiime2' +\n",
       "                        ' --sys-prefix</code><br />then restart your server.' +\n",
       "                        '<br /><br />(Interactive output not available on ' +\n",
       "                        'static notebook viewer services like nbviewer.)';\n",
       "    } else if (res.status === 409) {\n",
       "        div.innerHTML = 'Visualization no longer in scope. Re-run this cell' +\n",
       "                        ' to see the visualization.';\n",
       "    } else if (res.ok) {\n",
       "        url = res.url;\n",
       "        div.innerHTML = '<iframe src=\\'' + url + '\\' style=\\'' +\n",
       "                        'width: 100%; height: 700px; border: 0;\\'>' +\n",
       "                        '</iframe><hr />Open in a: <a href=\\'' + url + '\\'' +\n",
       "                        ' target=\\'_blank\\'>new window</a>'\n",
       "    } else {\n",
       "        div.innerHTML = 'Something has gone wrong. Check notebook server for' +\n",
       "                        ' errors.';\n",
       "    }\n",
       "});\n",
       "})(this.parentElement, '/qiime2/redirect?location=/tmp/qiime2-archive-n_806msu')\" src=\"data:image/gif;base64,R0lGODlhAQABAIAAAP///wAAACH5BAEAAAAALAAAAAABAAEAAAICRAEAOw==\" /></div>"
      ],
      "text/plain": [
       "<visualization: Visualization uuid: ba43749a-1f1f-4786-8daf-42ab41cbc20f>"
      ]
     },
     "execution_count": 15,
     "metadata": {},
     "output_type": "execute_result"
    }
   ],
   "source": [
    "Visualization.load('../data/qiime2/filtered/taxa-bar-plots_gg-13-8-99-nb-classifier.qzv')"
   ]
  },
  {
   "cell_type": "code",
   "execution_count": 17,
   "metadata": {},
   "outputs": [
    {
     "data": {
      "text/html": [
       "<div><img onload=\"(function(div, url){\n",
       "if (typeof require !== 'undefined') {\n",
       "    var baseURL = require.toUrl('').split('/').slice(0, -2).join('/');\n",
       "} else {\n",
       "    var baseURL = JSON.parse(\n",
       "        document.getElementById('jupyter-config-data').innerHTML\n",
       "    ).baseUrl.slice(0, -1);\n",
       "}\n",
       "url = baseURL + url;\n",
       "fetch(url).then(function(res) {\n",
       "    if (res.status === 404) {\n",
       "        div.innerHTML = 'Install QIIME 2 Jupyter extension with:<br />' +\n",
       "                        '<code>jupyter serverextension enable --py qiime2' +\n",
       "                        ' --sys-prefix</code><br />then restart your server.' +\n",
       "                        '<br /><br />(Interactive output not available on ' +\n",
       "                        'static notebook viewer services like nbviewer.)';\n",
       "    } else if (res.status === 409) {\n",
       "        div.innerHTML = 'Visualization no longer in scope. Re-run this cell' +\n",
       "                        ' to see the visualization.';\n",
       "    } else if (res.ok) {\n",
       "        url = res.url;\n",
       "        div.innerHTML = '<iframe src=\\'' + url + '\\' style=\\'' +\n",
       "                        'width: 100%; height: 700px; border: 0;\\'>' +\n",
       "                        '</iframe><hr />Open in a: <a href=\\'' + url + '\\'' +\n",
       "                        ' target=\\'_blank\\'>new window</a>'\n",
       "    } else {\n",
       "        div.innerHTML = 'Something has gone wrong. Check notebook server for' +\n",
       "                        ' errors.';\n",
       "    }\n",
       "});\n",
       "})(this.parentElement, '/qiime2/redirect?location=/tmp/qiime2-archive-3rk_g7ms')\" src=\"data:image/gif;base64,R0lGODlhAQABAIAAAP///wAAACH5BAEAAAAALAAAAAABAAEAAAICRAEAOw==\" /></div>"
      ],
      "text/plain": [
       "<visualization: Visualization uuid: 9c1dfa1c-60ab-4fee-b66f-d0ddac5fe26b>"
      ]
     },
     "execution_count": 17,
     "metadata": {},
     "output_type": "execute_result"
    }
   ],
   "source": [
    "Visualization.load('../data/qiime2/filtered/taxa-bar-plots_silva-138-99-nb-classifier.qzv')"
   ]
  },
  {
   "cell_type": "code",
   "execution_count": 18,
   "metadata": {},
   "outputs": [
    {
     "data": {
      "text/html": [
       "<div><img onload=\"(function(div, url){\n",
       "if (typeof require !== 'undefined') {\n",
       "    var baseURL = require.toUrl('').split('/').slice(0, -2).join('/');\n",
       "} else {\n",
       "    var baseURL = JSON.parse(\n",
       "        document.getElementById('jupyter-config-data').innerHTML\n",
       "    ).baseUrl.slice(0, -1);\n",
       "}\n",
       "url = baseURL + url;\n",
       "fetch(url).then(function(res) {\n",
       "    if (res.status === 404) {\n",
       "        div.innerHTML = 'Install QIIME 2 Jupyter extension with:<br />' +\n",
       "                        '<code>jupyter serverextension enable --py qiime2' +\n",
       "                        ' --sys-prefix</code><br />then restart your server.' +\n",
       "                        '<br /><br />(Interactive output not available on ' +\n",
       "                        'static notebook viewer services like nbviewer.)';\n",
       "    } else if (res.status === 409) {\n",
       "        div.innerHTML = 'Visualization no longer in scope. Re-run this cell' +\n",
       "                        ' to see the visualization.';\n",
       "    } else if (res.ok) {\n",
       "        url = res.url;\n",
       "        div.innerHTML = '<iframe src=\\'' + url + '\\' style=\\'' +\n",
       "                        'width: 100%; height: 700px; border: 0;\\'>' +\n",
       "                        '</iframe><hr />Open in a: <a href=\\'' + url + '\\'' +\n",
       "                        ' target=\\'_blank\\'>new window</a>'\n",
       "    } else {\n",
       "        div.innerHTML = 'Something has gone wrong. Check notebook server for' +\n",
       "                        ' errors.';\n",
       "    }\n",
       "});\n",
       "})(this.parentElement, '/qiime2/redirect?location=/tmp/qiime2-archive-g8kiehdl')\" src=\"data:image/gif;base64,R0lGODlhAQABAIAAAP///wAAACH5BAEAAAAALAAAAAABAAEAAAICRAEAOw==\" /></div>"
      ],
      "text/plain": [
       "<visualization: Visualization uuid: cc602fa2-d9af-490b-8b10-200e06fe8326>"
      ]
     },
     "execution_count": 18,
     "metadata": {},
     "output_type": "execute_result"
    }
   ],
   "source": [
    "Visualization.load('../data/qiime2/filtered/taxa-bar-plots.qzv')"
   ]
  },
  {
   "cell_type": "code",
   "execution_count": 1,
   "metadata": {},
   "outputs": [
    {
     "name": "stdout",
     "output_type": "stream",
     "text": [
      "\u001b[32mExported ../data/qiime2/table-deblur.qza as BIOMV210DirFmt to directory ../data/qiime2/filtered/exported-feature-table\u001b[0m\n",
      "\u001b[32mExported ../data/qiime2/filtered/taxonomy.qza as TSVTaxonomyDirectoryFormat to directory ../data/qiime2/filtered/exported-feature-table\u001b[0m\n",
      "\u001b[32mExported ../data/qiime2/rep-seqs-deblur.qza as DNASequencesDirectoryFormat to directory ../data/qiime2/filtered/exported-feature-table\u001b[0m\n"
     ]
    }
   ],
   "source": [
    "#first, export your data as a .biom\n",
    "\n",
    "\n",
    "#then export taxonomy info\n",
    "! qiime tools export \\\n",
    "  --input-path ../data/qiime2/filtered/taxonomy_silva_full.qza \\\n",
    "  --output-path ../data/qiime2/filtered/"
   ]
  },
  {
   "cell_type": "code",
   "execution_count": 16,
   "metadata": {},
   "outputs": [
    {
     "name": "stdout",
     "output_type": "stream",
     "text": [
      "Usage: \u001b[34mqiime feature-classifier extract-reads\u001b[0m [OPTIONS]\n",
      "\n",
      "  Extract simulated amplicon reads from a reference database. Performs in-\n",
      "  silico PCR to extract simulated amplicons from reference sequences that\n",
      "  match the input primer sequences (within the mismatch threshold specified\n",
      "  by `identity`). Both primer sequences must be in the 5' -> 3' orientation.\n",
      "  Sequences that fail to match both primers will be excluded. Reads are\n",
      "  extracted, trimmed, and filtered in the following order: 1. reads are\n",
      "  extracted in specified orientation; 2. primers are removed; 3. reads\n",
      "  longer than `max_length` are removed; 4. reads are trimmed with\n",
      "  `trim_right`; 5. reads are truncated to `trunc_len`; 6. reads are trimmed\n",
      "  with `trim_left`; 7. reads shorter than `min_length` are removed.\n",
      "\n",
      "\u001b[1mInputs\u001b[0m:\n",
      "  \u001b[34m\u001b[4m--i-sequences\u001b[0m ARTIFACT \u001b[32mFeatureData[Sequence]\u001b[0m\n",
      "                                                                    \u001b[35m[required]\u001b[0m\n",
      "\u001b[1mParameters\u001b[0m:\n",
      "  \u001b[34m\u001b[4m--p-f-primer\u001b[0m TEXT       forward primer sequence (5' -> 3').       \u001b[35m[required]\u001b[0m\n",
      "  \u001b[34m\u001b[4m--p-r-primer\u001b[0m TEXT       reverse primer sequence (5' -> 3'). Do not use\n",
      "                          reverse-complemented primer sequence.     \u001b[35m[required]\u001b[0m\n",
      "  \u001b[34m--p-trim-right\u001b[0m INTEGER  \u001b[4mtrim-right\u001b[0m nucleotides are removed from the 3' end\n",
      "                          if \u001b[4mtrim-right\u001b[0m is positive. Applied before \u001b[4mtrunc-len\u001b[0m\n",
      "                          and \u001b[4mtrim-left\u001b[0m.                          \u001b[35m[default: 0]\u001b[0m\n",
      "  \u001b[34m--p-trunc-len\u001b[0m INTEGER   read is cut to \u001b[4mtrunc-len\u001b[0m if \u001b[4mtrunc-len\u001b[0m is positive.\n",
      "                          Applied after \u001b[4mtrim-right\u001b[0m but before \u001b[4mtrim-left\u001b[0m.\n",
      "                                                                  \u001b[35m[default: 0]\u001b[0m\n",
      "  \u001b[34m--p-trim-left\u001b[0m INTEGER   \u001b[4mtrim-left\u001b[0m nucleotides are removed from the 5' end\n",
      "                          if \u001b[4mtrim-left\u001b[0m is positive. Applied after \u001b[4mtrim-right\u001b[0m\n",
      "                          and \u001b[4mtrunc-len\u001b[0m.                          \u001b[35m[default: 0]\u001b[0m\n",
      "  \u001b[34m--p-identity\u001b[0m NUMBER     minimum combined primer match identity threshold.\n",
      "                                                                \u001b[35m[default: 0.8]\u001b[0m\n",
      "  \u001b[34m--p-min-length\u001b[0m INTEGER  Minimum amplicon length. Shorter amplicons are\n",
      "    \u001b[32mRange(0, None)\u001b[0m        discarded. Applied after trimming and truncation, so\n",
      "                          be aware that trimming may impact sequence\n",
      "                          retention. Set to zero to disable min length\n",
      "                          filtering.                             \u001b[35m[default: 50]\u001b[0m\n",
      "  \u001b[34m--p-max-length\u001b[0m INTEGER  Maximum amplicon length. Longer amplicons are\n",
      "    \u001b[32mRange(0, None)\u001b[0m        discarded. Applied before trimming and truncation,\n",
      "                          so plan accordingly. Set to zero (default) to\n",
      "                          disable max length filtering.           \u001b[35m[default: 0]\u001b[0m\n",
      "  \u001b[34m--p-n-jobs\u001b[0m INTEGER      Number of seperate processes to run.\n",
      "    \u001b[32mRange(1, None)\u001b[0m                                                \u001b[35m[default: 1]\u001b[0m\n",
      "  \u001b[34m--p-batch-size\u001b[0m VALUE \u001b[32mInt % Range(1, None) | Str % Choices('auto')\u001b[0m\n",
      "                          Number of sequences to process in a batch. The\n",
      "                          `auto` option is calculated from the number of\n",
      "                          sequences and number of jobs specified.\n",
      "                                                             \u001b[35m[default: 'auto']\u001b[0m\n",
      "  \u001b[34m--p-read-orientation\u001b[0m TEXT \u001b[32mChoices('both', 'forward', 'reverse')\u001b[0m\n",
      "                          Orientation of primers relative to the sequences:\n",
      "                          \"forward\" searches for primer hits in the forward\n",
      "                          direction, \"reverse\" searches reverse-complement,\n",
      "                          and \"both\" searches both directions.\n",
      "                                                             \u001b[35m[default: 'both']\u001b[0m\n",
      "\u001b[1mOutputs\u001b[0m:\n",
      "  \u001b[34m\u001b[4m--o-reads\u001b[0m ARTIFACT \u001b[32mFeatureData[Sequence]\u001b[0m\n",
      "                                                                    \u001b[35m[required]\u001b[0m\n",
      "\u001b[1mMiscellaneous\u001b[0m:\n",
      "  \u001b[34m--output-dir\u001b[0m PATH       Output unspecified results to a directory\n",
      "  \u001b[34m--verbose\u001b[0m / \u001b[34m--quiet\u001b[0m     Display verbose output to stdout and/or stderr\n",
      "                          during execution of this action. Or silence output\n",
      "                          if execution is successful (silence is golden).\n",
      "  \u001b[34m--examples\u001b[0m              Show usage examples and exit.\n",
      "  \u001b[34m--citations\u001b[0m             Show citations and exit.\n",
      "  \u001b[34m--help\u001b[0m                  Show this message and exit.\n",
      "\n",
      "\u001b[33m                  There were some problems with the command:                  \u001b[0m\n",
      "\u001b[31m\u001b[1m (1/4) Missing option '--i-sequences'.\u001b[0m\n",
      "\u001b[31m\u001b[1m (2/4) Missing option '--p-f-primer'.\u001b[0m\n",
      "\u001b[31m\u001b[1m (3/4) Missing option '--p-r-primer'.\u001b[0m\n",
      "\u001b[31m\u001b[1m (4/4) Missing option '--o-reads'.  (\"--output-dir\" may also be used)\u001b[0m\n"
     ]
    }
   ],
   "source": [
    "! qiime feature-classifier extract-reads"
   ]
  },
  {
   "cell_type": "code",
   "execution_count": null,
   "metadata": {},
   "outputs": [],
   "source": []
  }
 ],
 "metadata": {
  "kernelspec": {
   "display_name": "Python 3",
   "language": "python",
   "name": "python3"
  },
  "language_info": {
   "codemirror_mode": {
    "name": "ipython",
    "version": 3
   },
   "file_extension": ".py",
   "mimetype": "text/x-python",
   "name": "python",
   "nbconvert_exporter": "python",
   "pygments_lexer": "ipython3",
   "version": "3.6.13"
  }
 },
 "nbformat": 4,
 "nbformat_minor": 4
}
