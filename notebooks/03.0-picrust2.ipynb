{
 "cells": [
  {
   "cell_type": "markdown",
   "id": "greek-australian",
   "metadata": {},
   "source": [
    "## PICRUST \n",
    "Input is the three files after denoising: metadata.tsv, repseqs.fna, and table.biom\n",
    "First thing to do is to export the repseq and table into recognizeable format\n"
   ]
  },
  {
   "cell_type": "code",
   "execution_count": 1,
   "id": "spectacular-satin",
   "metadata": {},
   "outputs": [
    {
     "data": {
      "text/plain": [
       "['.ipynb_checkpoints',\n",
       " 'taxonomy.tsv',\n",
       " 'taxonomy_silva-138-99-nb-classifier.tsv',\n",
       " 'taxonomy_gg-13-8-99-nb-classifier.tsv',\n",
       " 'taxonomy_gg-13-8-99-515-806-nb-classifier.tsv',\n",
       " 'dna-sequences.fasta',\n",
       " 'feature-table.tsv',\n",
       " 'feature-table.biom']"
      ]
     },
     "execution_count": 1,
     "metadata": {},
     "output_type": "execute_result"
    }
   ],
   "source": [
    "import os\n",
    "import pandas as pd\n",
    "path = '../data/qiime2/filtered/'\n",
    "i_path = os.path.join(path, 'exported-feature-table')\n",
    "os.listdir(i_path)"
   ]
  },
  {
   "cell_type": "code",
   "execution_count": 2,
   "id": "raising-savannah",
   "metadata": {},
   "outputs": [
    {
     "name": "stdout",
     "output_type": "stream",
     "text": [
      "# Constructed from biom file\n",
      "#OTU ID\tP8-rep4\tP5-rep4\tP9-rep1\tP9-rep5\tP9-rep4\n",
      "e5400356daabbc5a41f935af70513043\t1598.0\t630.0\t297.0\t795.0\t1449.0\n",
      "7cbebea20e305a557ffc3dc23bae61ae\t1111.0\t36.0\t127.0\t335.0\t610.0\n",
      "4dc5023fdc00f325e169fced16dca21c\t1022.0\t93.0\t323.0\t863.0\t2013.0\n",
      "4c076cffb4dc7aaae47cb237d7067066\t739.0\t942.0\t104.0\t347.0\t814.0\n",
      "3c4c98cf9b1264b89f9ecd0812a0f7d8\t632.0\t195.0\t224.0\t571.0\t1259.0\n",
      "Num samples: 15\n",
      "Num observations: 8,820\n",
      "Total count: 685,458\n",
      "Table density (fraction of non-zero values): 0.337\n",
      "\n",
      "Counts/sample summary:\n",
      " Min: 7,212.000\n",
      " Max: 119,925.000\n",
      " Median: 40,711.000\n",
      " Mean: 45,697.200\n",
      " Std. dev.: 29,845.346\n",
      " Sample Metadata Categories: None provided\n",
      " Observation Metadata Categories: None provided\n",
      "\n",
      "Counts/sample detail:\n",
      "P8-rep1: 7,212.000\n",
      "P9-rep2: 13,593.000\n",
      "P5-rep3: 18,002.000\n",
      "P5-rep1: 25,899.000\n",
      "P9-rep1: 26,396.000\n",
      "P5-rep5: 34,762.000\n",
      "P8-rep4: 39,851.000\n",
      "P8-rep3: 40,711.000\n",
      "P8-rep5: 42,000.000\n",
      "P5-rep4: 43,658.000\n",
      "P5-rep2: 48,907.000\n",
      "P9-rep5: 61,270.000\n",
      "P8-rep2: 61,943.000\n",
      "P9-rep4: 101,329.000\n",
      "P9-rep3: 119,925.000\n"
     ]
    }
   ],
   "source": [
    "! biom head -i {i_path}/feature-table.biom\n",
    "! biom summarize-table -i {i_path}/feature-table.biom"
   ]
  },
  {
   "cell_type": "code",
   "execution_count": 3,
   "id": "hungry-tracy",
   "metadata": {},
   "outputs": [
    {
     "name": "stdout",
     "output_type": "stream",
     "text": [
      "hmmalign --trim --dna --mapali /home/WIN.DTU.DK/matinnu/miniconda3/envs/picrust2/lib/python3.6/site-packages/picrust2/default_files/prokaryotic/pro_ref/pro_ref.fna.gz --informat FASTA -o ../data/picrust2/01-intermediate/place_seqs/query_align.stockholm /home/WIN.DTU.DK/matinnu/miniconda3/envs/picrust2/lib/python3.6/site-packages/picrust2/default_files/prokaryotic/pro_ref/pro_ref.hmm ../data/qiime2/filtered//exported-feature-table/dna-sequences.fasta\n",
      "\n",
      "\n",
      "All raw input sequences were the same length (400)\n",
      "\n",
      "epa-ng --tree /home/WIN.DTU.DK/matinnu/miniconda3/envs/picrust2/lib/python3.6/site-packages/picrust2/default_files/prokaryotic/pro_ref/pro_ref.tre --ref-msa ../data/picrust2/01-intermediate/place_seqs/ref_seqs_hmmalign.fasta --query ../data/picrust2/01-intermediate/place_seqs/study_seqs_hmmalign.fasta --chunk-size 5000 -T 8 -m /home/WIN.DTU.DK/matinnu/miniconda3/envs/picrust2/lib/python3.6/site-packages/picrust2/default_files/prokaryotic/pro_ref/pro_ref.model -w ../data/picrust2/01-intermediate/place_seqs/epa_out --filter-acc-lwr 0.99 --filter-max 100\n",
      "INFO Selected: Output dir: ../data/picrust2/01-intermediate/place_seqs/epa_out/\n",
      "INFO Selected: Query file: ../data/picrust2/01-intermediate/place_seqs/study_seqs_hmmalign.fasta\n",
      "INFO Selected: Tree file: /home/WIN.DTU.DK/matinnu/miniconda3/envs/picrust2/lib/python3.6/site-packages/picrust2/default_files/prokaryotic/pro_ref/pro_ref.tre\n",
      "INFO Selected: Reference MSA: ../data/picrust2/01-intermediate/place_seqs/ref_seqs_hmmalign.fasta\n",
      "INFO Selected: Filtering by accumulated threshold: 0.99\n",
      "INFO Selected: Maximum number of placements per query: 100\n",
      "INFO Selected: Automatic switching of use of per rate scalers\n",
      "INFO Selected: Preserving the root of the input tree\n",
      "INFO Selected: Specified model file: /home/WIN.DTU.DK/matinnu/miniconda3/envs/picrust2/lib/python3.6/site-packages/picrust2/default_files/prokaryotic/pro_ref/pro_ref.model\n",
      "INFO    Rate heterogeneity: GAMMA (4 cats, mean),  alpha: 0.453141 (user),  weights&rates: (0.25,0.0250674) (0.25,0.220229) (0.25,0.782933) (0.25,2.97177) \n",
      "        Base frequencies (user): 0.229585 0.22008 0.298596 0.251739 \n",
      "        Substitution rates (user): 1.00319 2.79077 1.5301 0.87441 3.83966 1\n",
      "INFO Selected: Reading queries in chunks of: 5000\n",
      "INFO Selected: Using threads: 8\n",
      "INFO     ______ ____   ___           _   __ ______\n",
      "        / ____// __ \\ /   |         / | / // ____/\n",
      "       / __/  / /_/ // /| | ______ /  |/ // / __  \n",
      "      / /___ / ____// ___ |/_____// /|  // /_/ /  \n",
      "     /_____//_/    /_/  |_|      /_/ |_/ \\____/ (v0.3.6)\n",
      "INFO Output file: ../data/picrust2/01-intermediate/place_seqs/epa_out/epa_result.jplace\n",
      "INFO 5000 Sequences done!\n",
      "INFO 8820 Sequences done!\n",
      "INFO Time spent placing: 60s\n",
      "INFO Elapsed Time: 63s\n",
      "\n",
      "\n",
      "gappa examine graft --jplace-path ../data/picrust2/01-intermediate/place_seqs/epa_out/epa_result_parsed.jplace --fully-resolve --out-dir ../data/picrust2/01-intermediate/place_seqs/epa_out\n",
      "                                              ....      ....  \n",
      "                                             '' '||.   .||'   \n",
      "                                                  ||  ||      \n",
      "                                                  '|.|'       \n",
      "     ...'   ....   ... ...  ... ...   ....        .|'|.       \n",
      "    |  ||  '' .||   ||'  ||  ||'  || '' .||      .|'  ||      \n",
      "     |''   .|' ||   ||    |  ||    | .|' ||     .|'|.  ||     \n",
      "    '....  '|..'|'. ||...'   ||...'  '|..'|.    '||'    ||:.  \n",
      "    '....'          ||       ||                               \n",
      "                   ''''     ''''    v0.5.1, (c) 2017-2019\n",
      "                                    by Lucas Czech and Pierre Barbera\n",
      "\n",
      "Invocation:                        gappa examine graft --jplace-path ../data/picrust2/01-intermediate/place_seqs/epa_out/epa_result_parsed.jplace --fully-resolve --out-dir ../data/picrust2/01-intermediate/place_seqs/epa_out\n",
      "Command:                           gappa examine graft\n",
      "\n",
      "Input:\n",
      "  --jplace-path                    ../data/picrust2/01-intermediate/place_seqs/epa_out/epa_result_parsed.jplace\n",
      "\n",
      "Settings:\n",
      "  --fully-resolve                  true\n",
      "  --name-prefix\n",
      "\n",
      "Output:\n",
      "  --out-dir                        ../data/picrust2/01-intermediate/place_seqs/epa_out\n",
      "\n",
      "Global Options:\n",
      "  --allow-file-overwriting         false\n",
      "  --verbose                        false\n",
      "  --threads                        16\n",
      "  --log-file\n",
      "\n",
      "Run the following command to get the references that need to be cited:\n",
      "`gappa tools citation Czech2019-genesis-and-gappa`\n",
      "\n",
      "Started 2021-04-17 09:20:02\n",
      "\n",
      "Found 1 jplace file\n",
      "\n",
      "Finished 2021-04-17 09:20:02\n",
      "\n",
      "\n",
      "mv ../data/picrust2/01-intermediate/place_seqs/epa_out/epa_result_parsed.newick ../data/picrust2/01-out.tre\n"
     ]
    }
   ],
   "source": [
    "! place_seqs.py -s {path}/exported-feature-table/dna-sequences.fasta \\\n",
    "    -o ../data/picrust2/01-out.tre \\\n",
    "    -p 8 \\\n",
    "    --intermediate ../data/picrust2/01-intermediate/place_seqs \\\n",
    "    --verbose"
   ]
  },
  {
   "cell_type": "code",
   "execution_count": 4,
   "id": "following-probability",
   "metadata": {},
   "outputs": [
    {
     "name": "stdout",
     "output_type": "stream",
     "text": [
      "Rscript /home/WIN.DTU.DK/matinnu/miniconda3/envs/picrust2/lib/python3.6/site-packages/picrust2/Rscripts/castor_nsti.R ../data/picrust2/01-out.tre /tmp/tmpuiar1fq0/known_tips.txt /tmp/tmpuiar1fq0/nsti_out.txt\n",
      "\n",
      "\n",
      "Rscript /home/WIN.DTU.DK/matinnu/miniconda3/envs/picrust2/lib/python3.6/site-packages/picrust2/Rscripts/castor_hsp.R ../data/picrust2/01-out.tre /tmp/tmphysr9cyp/subset_tab_0 mp FALSE FALSE /tmp/tmp0f3t_adq/predicted_counts.txt /tmp/tmp0f3t_adq/predicted_ci.txt 100\n",
      "\n",
      "\n",
      "Rscript /home/WIN.DTU.DK/matinnu/miniconda3/envs/picrust2/lib/python3.6/site-packages/picrust2/Rscripts/castor_hsp.R ../data/picrust2/01-out.tre /tmp/tmpinw307sa/subset_tab_0 mp FALSE FALSE /tmp/tmpr_fwp7yb/predicted_counts.txt /tmp/tmpr_fwp7yb/predicted_ci.txt 100\n",
      "Rscript /home/WIN.DTU.DK/matinnu/miniconda3/envs/picrust2/lib/python3.6/site-packages/picrust2/Rscripts/castor_hsp.R ../data/picrust2/01-out.tre /tmp/tmpinw307sa/subset_tab_2 mp FALSE FALSE /tmp/tmpz6hvxmy6/predicted_counts.txt /tmp/tmpz6hvxmy6/predicted_ci.txt 100\n",
      "Rscript /home/WIN.DTU.DK/matinnu/miniconda3/envs/picrust2/lib/python3.6/site-packages/picrust2/Rscripts/castor_hsp.R ../data/picrust2/01-out.tre /tmp/tmpinw307sa/subset_tab_1 mp FALSE FALSE /tmp/tmpatyfg7__/predicted_counts.txt /tmp/tmpatyfg7__/predicted_ci.txt 100\n",
      "Rscript /home/WIN.DTU.DK/matinnu/miniconda3/envs/picrust2/lib/python3.6/site-packages/picrust2/Rscripts/castor_hsp.R ../data/picrust2/01-out.tre /tmp/tmpinw307sa/subset_tab_4 mp FALSE FALSE /tmp/tmpv2tpvmvk/predicted_counts.txt /tmp/tmpv2tpvmvk/predicted_ci.txt 100\n",
      "Rscript /home/WIN.DTU.DK/matinnu/miniconda3/envs/picrust2/lib/python3.6/site-packages/picrust2/Rscripts/castor_hsp.R ../data/picrust2/01-out.tre /tmp/tmpinw307sa/subset_tab_5 mp FALSE FALSE /tmp/tmpew0dd7sw/predicted_counts.txt /tmp/tmpew0dd7sw/predicted_ci.txt 100\n",
      "Rscript /home/WIN.DTU.DK/matinnu/miniconda3/envs/picrust2/lib/python3.6/site-packages/picrust2/Rscripts/castor_hsp.R ../data/picrust2/01-out.tre /tmp/tmpinw307sa/subset_tab_3 mp FALSE FALSE /tmp/tmpgh9d6_0_/predicted_counts.txt /tmp/tmpgh9d6_0_/predicted_ci.txt 100\n",
      "\n",
      "\n",
      "\n",
      "\n",
      "\n",
      "\n",
      "\n",
      "\n",
      "\n",
      "\n",
      "\n",
      "\n"
     ]
    }
   ],
   "source": [
    "! hsp.py \\\n",
    "    -i 16S \\\n",
    "    -t ../data/picrust2/01-out.tre \\\n",
    "    -o ../data/picrust2/02-marker_predicted_and_nsti.tsv.gz \\\n",
    "    -p 8 -n \\\n",
    "    --verbose\n",
    "\n",
    "! hsp.py \\\n",
    "    -i EC \\\n",
    "    -t ../data/picrust2/01-out.tre \\\n",
    "    -o ../data/picrust2/02-EC_predicted.tsv.gz \\\n",
    "    -p 8 \\\n",
    "    --verbose"
   ]
  },
  {
   "cell_type": "code",
   "execution_count": 5,
   "id": "featured-offset",
   "metadata": {},
   "outputs": [],
   "source": [
    "#! zless -S ../data/picrust2/02-marker_predicted_and_nsti.tsv.gz\n",
    "#! zless -S ../data/picrust2/02-EC_predicted.tsv.gz"
   ]
  },
  {
   "cell_type": "code",
   "execution_count": 6,
   "id": "joint-myanmar",
   "metadata": {},
   "outputs": [
    {
     "name": "stdout",
     "output_type": "stream",
     "text": [
      "80 of 8820 ASVs were above the max NSTI cut-off of 2.0 and were removed.\n"
     ]
    }
   ],
   "source": [
    "! metagenome_pipeline.py \\\n",
    "    -i {i_path}/feature-table.biom \\\n",
    "    -m ../data/picrust2/02-marker_predicted_and_nsti.tsv.gz \\\n",
    "    -f ../data/picrust2/02-EC_predicted.tsv.gz \\\n",
    "    -o ../data/picrust2/03-EC_metagenome_out \\\n",
    "    --strat_out"
   ]
  },
  {
   "cell_type": "code",
   "execution_count": 7,
   "id": "liquid-banks",
   "metadata": {},
   "outputs": [],
   "source": [
    "# ! zless -S ../data/picrust2/03-EC_metagenome_out/pred_metagenome_contrib.tsv.gz"
   ]
  },
  {
   "cell_type": "code",
   "execution_count": 13,
   "id": "contrary-melbourne",
   "metadata": {},
   "outputs": [
    {
     "name": "stdout",
     "output_type": "stream",
     "text": [
      "Traceback (most recent call last):\n",
      "  File \"/home/WIN.DTU.DK/matinnu/miniconda3/envs/picrust2/bin/pathway_pipeline.py\", line 272, in <module>\n",
      "    main()\n",
      "  File \"/home/WIN.DTU.DK/matinnu/miniconda3/envs/picrust2/bin/pathway_pipeline.py\", line 210, in main\n",
      "    verbose=args.verbose)\n",
      "  File \"/home/WIN.DTU.DK/matinnu/miniconda3/envs/picrust2/lib/python3.6/site-packages/picrust2/pathway_pipeline.py\", line 355, in pathway_pipeline\n",
      "    index=False)\n",
      "  File \"/home/WIN.DTU.DK/matinnu/miniconda3/envs/picrust2/lib/python3.6/site-packages/pandas/core/generic.py\", line 3228, in to_csv\n",
      "    formatter.save()\n",
      "  File \"/home/WIN.DTU.DK/matinnu/miniconda3/envs/picrust2/lib/python3.6/site-packages/pandas/io/formats/csvs.py\", line 202, in save\n",
      "    self._save()\n",
      "  File \"/home/WIN.DTU.DK/matinnu/miniconda3/envs/picrust2/lib/python3.6/site-packages/pandas/io/formats/csvs.py\", line 324, in _save\n",
      "    self._save_chunk(start_i, end_i)\n",
      "  File \"/home/WIN.DTU.DK/matinnu/miniconda3/envs/picrust2/lib/python3.6/site-packages/pandas/io/formats/csvs.py\", line 356, in _save_chunk\n",
      "    libwriters.write_csv_rows(self.data, ix, self.nlevels, self.cols, self.writer)\n",
      "  File \"pandas/_libs/writers.pyx\", line 69, in pandas._libs.writers.write_csv_rows\n",
      "OSError: [Errno 28] No space left on device\n"
     ]
    }
   ],
   "source": [
    "! pathway_pipeline.py \\\n",
    "    -i ../data/picrust2/03-EC_metagenome_out/pred_metagenome_contrib.tsv.gz \\\n",
    "    -o ../data/picrust2/04-pathways_out_per_seq \\\n",
    "    --per_sequence_contrib \\\n",
    "    --per_sequence_abun ../data/picrust2/03-EC_metagenome_out/seqtab_norm.tsv.gz \\\n",
    "    --per_sequence_function ../data/picrust2/02-EC_predicted.tsv.gz"
   ]
  },
  {
   "cell_type": "code",
   "execution_count": 14,
   "id": "asian-stone",
   "metadata": {},
   "outputs": [
    {
     "name": "stdout",
     "output_type": "stream",
     "text": [
      "Traceback (most recent call last):\n",
      "  File \"/home/WIN.DTU.DK/matinnu/miniconda3/envs/picrust2/lib/python3.6/site-packages/pandas/io/formats/csvs.py\", line 202, in save\n",
      "    self._save()\n",
      "  File \"/home/WIN.DTU.DK/matinnu/miniconda3/envs/picrust2/lib/python3.6/site-packages/pandas/io/formats/csvs.py\", line 324, in _save\n",
      "    self._save_chunk(start_i, end_i)\n",
      "  File \"/home/WIN.DTU.DK/matinnu/miniconda3/envs/picrust2/lib/python3.6/site-packages/pandas/io/formats/csvs.py\", line 356, in _save_chunk\n",
      "    libwriters.write_csv_rows(self.data, ix, self.nlevels, self.cols, self.writer)\n",
      "  File \"pandas/_libs/writers.pyx\", line 69, in pandas._libs.writers.write_csv_rows\n",
      "OSError: [Errno 28] No space left on device\n",
      "\n",
      "During handling of the above exception, another exception occurred:\n",
      "\n",
      "OSError: [Errno 28] No space left on device\n",
      "\n",
      "During handling of the above exception, another exception occurred:\n",
      "\n",
      "Traceback (most recent call last):\n",
      "  File \"/home/WIN.DTU.DK/matinnu/miniconda3/envs/picrust2/bin/pathway_pipeline.py\", line 272, in <module>\n",
      "    main()\n",
      "  File \"/home/WIN.DTU.DK/matinnu/miniconda3/envs/picrust2/bin/pathway_pipeline.py\", line 210, in main\n",
      "    verbose=args.verbose)\n",
      "  File \"/home/WIN.DTU.DK/matinnu/miniconda3/envs/picrust2/lib/python3.6/site-packages/picrust2/pathway_pipeline.py\", line 355, in pathway_pipeline\n",
      "    index=False)\n",
      "  File \"/home/WIN.DTU.DK/matinnu/miniconda3/envs/picrust2/lib/python3.6/site-packages/pandas/core/generic.py\", line 3228, in to_csv\n",
      "    formatter.save()\n",
      "  File \"/home/WIN.DTU.DK/matinnu/miniconda3/envs/picrust2/lib/python3.6/site-packages/pandas/io/formats/csvs.py\", line 220, in save\n",
      "    f.close()\n",
      "OSError: [Errno 28] No space left on device\n"
     ]
    }
   ],
   "source": [
    "! pathway_pipeline.py \\\n",
    "    -i ../data/picrust2/03-EC_metagenome_out/pred_metagenome_contrib.tsv.gz \\\n",
    "    -o ../data/picrust2/04-pathways_out"
   ]
  },
  {
   "cell_type": "code",
   "execution_count": 15,
   "id": "organizational-aging",
   "metadata": {},
   "outputs": [],
   "source": [
    "! pathway_pipeline.py \\\n",
    "    -i ../data/picrust2/03-EC_metagenome_out/pred_metagenome_unstrat.tsv.gz \\\n",
    "    -o ../data/picrust2/04-pathways_out \\\n",
    "    --intermediate ../data/picrust2/04-pathways_out/minpath_working"
   ]
  },
  {
   "cell_type": "code",
   "execution_count": 11,
   "id": "surprising-survey",
   "metadata": {},
   "outputs": [],
   "source": [
    "#! zless ../data/picrust2/04-pathways_out_per_seq/path_abun_contrib.tsv.gz"
   ]
  },
  {
   "cell_type": "code",
   "execution_count": 12,
   "id": "tight-commonwealth",
   "metadata": {},
   "outputs": [
    {
     "ename": "FileNotFoundError",
     "evalue": "[Errno 2] File b'test/q2-picrust2_output/ec_metagenome/ec.tsv' does not exist: b'test/q2-picrust2_output/ec_metagenome/ec.tsv'",
     "output_type": "error",
     "traceback": [
      "\u001b[0;31m---------------------------------------------------------------------------\u001b[0m",
      "\u001b[0;31mFileNotFoundError\u001b[0m                         Traceback (most recent call last)",
      "\u001b[0;32m<ipython-input-12-8cf30a65e03e>\u001b[0m in \u001b[0;36m<module>\u001b[0;34m()\u001b[0m\n\u001b[0;32m----> 1\u001b[0;31m \u001b[0mdf_ec\u001b[0m \u001b[0;34m=\u001b[0m \u001b[0mpd\u001b[0m\u001b[0;34m.\u001b[0m\u001b[0mread_csv\u001b[0m\u001b[0;34m(\u001b[0m\u001b[0;34m'test/q2-picrust2_output/ec_metagenome/ec.tsv'\u001b[0m\u001b[0;34m,\u001b[0m \u001b[0msep\u001b[0m\u001b[0;34m=\u001b[0m\u001b[0;34m(\u001b[0m\u001b[0;34m'\\t'\u001b[0m\u001b[0;34m)\u001b[0m\u001b[0;34m,\u001b[0m \u001b[0mskiprows\u001b[0m\u001b[0;34m=\u001b[0m\u001b[0;34m[\u001b[0m\u001b[0;36m0\u001b[0m\u001b[0;34m]\u001b[0m\u001b[0;34m,\u001b[0m \u001b[0mindex_col\u001b[0m\u001b[0;34m=\u001b[0m\u001b[0;36m0\u001b[0m\u001b[0;34m)\u001b[0m\u001b[0;34m\u001b[0m\u001b[0;34m\u001b[0m\u001b[0m\n\u001b[0m\u001b[1;32m      2\u001b[0m \u001b[0mdf_p8\u001b[0m \u001b[0;34m=\u001b[0m \u001b[0mdf_ec\u001b[0m\u001b[0;34m[\u001b[0m\u001b[0;34m[\u001b[0m\u001b[0;34m'P8-rep1'\u001b[0m\u001b[0;34m,\u001b[0m \u001b[0;34m'P8-rep2'\u001b[0m\u001b[0;34m,\u001b[0m \u001b[0;34m'P8-rep3'\u001b[0m\u001b[0;34m,\u001b[0m \u001b[0;34m'P8-rep4'\u001b[0m\u001b[0;34m,\u001b[0m \u001b[0;34m'P8-rep5'\u001b[0m\u001b[0;34m]\u001b[0m\u001b[0;34m]\u001b[0m\u001b[0;34m.\u001b[0m\u001b[0msort_values\u001b[0m\u001b[0;34m(\u001b[0m\u001b[0;34m'P8-rep2'\u001b[0m\u001b[0;34m,\u001b[0m \u001b[0mascending\u001b[0m \u001b[0;34m=\u001b[0m \u001b[0;32mFalse\u001b[0m\u001b[0;34m)\u001b[0m\u001b[0;34m\u001b[0m\u001b[0;34m\u001b[0m\u001b[0m\n\u001b[1;32m      3\u001b[0m \u001b[0mdf_p8\u001b[0m\u001b[0;34m.\u001b[0m\u001b[0mloc\u001b[0m\u001b[0;34m[\u001b[0m\u001b[0;34m~\u001b[0m\u001b[0;34m(\u001b[0m\u001b[0mdf_p8\u001b[0m\u001b[0;34m==\u001b[0m\u001b[0;36m0\u001b[0m\u001b[0;34m)\u001b[0m\u001b[0;34m.\u001b[0m\u001b[0mall\u001b[0m\u001b[0;34m(\u001b[0m\u001b[0maxis\u001b[0m\u001b[0;34m=\u001b[0m\u001b[0;36m1\u001b[0m\u001b[0;34m)\u001b[0m\u001b[0;34m]\u001b[0m\u001b[0;34m.\u001b[0m\u001b[0mhead\u001b[0m\u001b[0;34m(\u001b[0m\u001b[0;36m10\u001b[0m\u001b[0;34m)\u001b[0m\u001b[0;34m.\u001b[0m\u001b[0mstyle\u001b[0m\u001b[0;34m.\u001b[0m\u001b[0mbackground_gradient\u001b[0m\u001b[0;34m(\u001b[0m\u001b[0mcmap\u001b[0m \u001b[0;34m=\u001b[0m\u001b[0;34m'viridis'\u001b[0m\u001b[0;34m)\u001b[0m\u001b[0;34m\u001b[0m\u001b[0;34m\u001b[0m\u001b[0m\n\u001b[1;32m      4\u001b[0m \u001b[0mget_ipython\u001b[0m\u001b[0;34m(\u001b[0m\u001b[0;34m)\u001b[0m\u001b[0;34m.\u001b[0m\u001b[0msystem\u001b[0m\u001b[0;34m(\u001b[0m\u001b[0;34m' biom convert -i test/table-0.1/feature-table.biom -o test/table-0.1/feature-table.tsv --to-tsv'\u001b[0m\u001b[0;34m)\u001b[0m\u001b[0;34m\u001b[0m\u001b[0;34m\u001b[0m\u001b[0m\n\u001b[1;32m      5\u001b[0m \u001b[0mdf_ec\u001b[0m \u001b[0;34m=\u001b[0m \u001b[0mpd\u001b[0m\u001b[0;34m.\u001b[0m\u001b[0mread_csv\u001b[0m\u001b[0;34m(\u001b[0m\u001b[0;34m'test/table-0.1/feature-table.tsv'\u001b[0m\u001b[0;34m,\u001b[0m \u001b[0msep\u001b[0m\u001b[0;34m=\u001b[0m\u001b[0;34m(\u001b[0m\u001b[0;34m'\\t'\u001b[0m\u001b[0;34m)\u001b[0m\u001b[0;34m,\u001b[0m \u001b[0mskiprows\u001b[0m\u001b[0;34m=\u001b[0m\u001b[0;34m[\u001b[0m\u001b[0;36m0\u001b[0m\u001b[0;34m]\u001b[0m\u001b[0;34m,\u001b[0m \u001b[0mindex_col\u001b[0m\u001b[0;34m=\u001b[0m\u001b[0;36m0\u001b[0m\u001b[0;34m)\u001b[0m\u001b[0;34m\u001b[0m\u001b[0;34m\u001b[0m\u001b[0m\n",
      "\u001b[0;32m/home/WIN.DTU.DK/matinnu/miniconda3/envs/picrust2/lib/python3.6/site-packages/pandas/io/parsers.py\u001b[0m in \u001b[0;36mparser_f\u001b[0;34m(filepath_or_buffer, sep, delimiter, header, names, index_col, usecols, squeeze, prefix, mangle_dupe_cols, dtype, engine, converters, true_values, false_values, skipinitialspace, skiprows, skipfooter, nrows, na_values, keep_default_na, na_filter, verbose, skip_blank_lines, parse_dates, infer_datetime_format, keep_date_col, date_parser, dayfirst, cache_dates, iterator, chunksize, compression, thousands, decimal, lineterminator, quotechar, quoting, doublequote, escapechar, comment, encoding, dialect, error_bad_lines, warn_bad_lines, delim_whitespace, low_memory, memory_map, float_precision)\u001b[0m\n\u001b[1;32m    683\u001b[0m         )\n\u001b[1;32m    684\u001b[0m \u001b[0;34m\u001b[0m\u001b[0m\n\u001b[0;32m--> 685\u001b[0;31m         \u001b[0;32mreturn\u001b[0m \u001b[0m_read\u001b[0m\u001b[0;34m(\u001b[0m\u001b[0mfilepath_or_buffer\u001b[0m\u001b[0;34m,\u001b[0m \u001b[0mkwds\u001b[0m\u001b[0;34m)\u001b[0m\u001b[0;34m\u001b[0m\u001b[0;34m\u001b[0m\u001b[0m\n\u001b[0m\u001b[1;32m    686\u001b[0m \u001b[0;34m\u001b[0m\u001b[0m\n\u001b[1;32m    687\u001b[0m     \u001b[0mparser_f\u001b[0m\u001b[0;34m.\u001b[0m\u001b[0m__name__\u001b[0m \u001b[0;34m=\u001b[0m \u001b[0mname\u001b[0m\u001b[0;34m\u001b[0m\u001b[0;34m\u001b[0m\u001b[0m\n",
      "\u001b[0;32m/home/WIN.DTU.DK/matinnu/miniconda3/envs/picrust2/lib/python3.6/site-packages/pandas/io/parsers.py\u001b[0m in \u001b[0;36m_read\u001b[0;34m(filepath_or_buffer, kwds)\u001b[0m\n\u001b[1;32m    455\u001b[0m \u001b[0;34m\u001b[0m\u001b[0m\n\u001b[1;32m    456\u001b[0m     \u001b[0;31m# Create the parser.\u001b[0m\u001b[0;34m\u001b[0m\u001b[0;34m\u001b[0m\u001b[0;34m\u001b[0m\u001b[0m\n\u001b[0;32m--> 457\u001b[0;31m     \u001b[0mparser\u001b[0m \u001b[0;34m=\u001b[0m \u001b[0mTextFileReader\u001b[0m\u001b[0;34m(\u001b[0m\u001b[0mfp_or_buf\u001b[0m\u001b[0;34m,\u001b[0m \u001b[0;34m**\u001b[0m\u001b[0mkwds\u001b[0m\u001b[0;34m)\u001b[0m\u001b[0;34m\u001b[0m\u001b[0;34m\u001b[0m\u001b[0m\n\u001b[0m\u001b[1;32m    458\u001b[0m \u001b[0;34m\u001b[0m\u001b[0m\n\u001b[1;32m    459\u001b[0m     \u001b[0;32mif\u001b[0m \u001b[0mchunksize\u001b[0m \u001b[0;32mor\u001b[0m \u001b[0miterator\u001b[0m\u001b[0;34m:\u001b[0m\u001b[0;34m\u001b[0m\u001b[0;34m\u001b[0m\u001b[0m\n",
      "\u001b[0;32m/home/WIN.DTU.DK/matinnu/miniconda3/envs/picrust2/lib/python3.6/site-packages/pandas/io/parsers.py\u001b[0m in \u001b[0;36m__init__\u001b[0;34m(self, f, engine, **kwds)\u001b[0m\n\u001b[1;32m    893\u001b[0m             \u001b[0mself\u001b[0m\u001b[0;34m.\u001b[0m\u001b[0moptions\u001b[0m\u001b[0;34m[\u001b[0m\u001b[0;34m\"has_index_names\"\u001b[0m\u001b[0;34m]\u001b[0m \u001b[0;34m=\u001b[0m \u001b[0mkwds\u001b[0m\u001b[0;34m[\u001b[0m\u001b[0;34m\"has_index_names\"\u001b[0m\u001b[0;34m]\u001b[0m\u001b[0;34m\u001b[0m\u001b[0;34m\u001b[0m\u001b[0m\n\u001b[1;32m    894\u001b[0m \u001b[0;34m\u001b[0m\u001b[0m\n\u001b[0;32m--> 895\u001b[0;31m         \u001b[0mself\u001b[0m\u001b[0;34m.\u001b[0m\u001b[0m_make_engine\u001b[0m\u001b[0;34m(\u001b[0m\u001b[0mself\u001b[0m\u001b[0;34m.\u001b[0m\u001b[0mengine\u001b[0m\u001b[0;34m)\u001b[0m\u001b[0;34m\u001b[0m\u001b[0;34m\u001b[0m\u001b[0m\n\u001b[0m\u001b[1;32m    896\u001b[0m \u001b[0;34m\u001b[0m\u001b[0m\n\u001b[1;32m    897\u001b[0m     \u001b[0;32mdef\u001b[0m \u001b[0mclose\u001b[0m\u001b[0;34m(\u001b[0m\u001b[0mself\u001b[0m\u001b[0;34m)\u001b[0m\u001b[0;34m:\u001b[0m\u001b[0;34m\u001b[0m\u001b[0;34m\u001b[0m\u001b[0m\n",
      "\u001b[0;32m/home/WIN.DTU.DK/matinnu/miniconda3/envs/picrust2/lib/python3.6/site-packages/pandas/io/parsers.py\u001b[0m in \u001b[0;36m_make_engine\u001b[0;34m(self, engine)\u001b[0m\n\u001b[1;32m   1133\u001b[0m     \u001b[0;32mdef\u001b[0m \u001b[0m_make_engine\u001b[0m\u001b[0;34m(\u001b[0m\u001b[0mself\u001b[0m\u001b[0;34m,\u001b[0m \u001b[0mengine\u001b[0m\u001b[0;34m=\u001b[0m\u001b[0;34m\"c\"\u001b[0m\u001b[0;34m)\u001b[0m\u001b[0;34m:\u001b[0m\u001b[0;34m\u001b[0m\u001b[0;34m\u001b[0m\u001b[0m\n\u001b[1;32m   1134\u001b[0m         \u001b[0;32mif\u001b[0m \u001b[0mengine\u001b[0m \u001b[0;34m==\u001b[0m \u001b[0;34m\"c\"\u001b[0m\u001b[0;34m:\u001b[0m\u001b[0;34m\u001b[0m\u001b[0;34m\u001b[0m\u001b[0m\n\u001b[0;32m-> 1135\u001b[0;31m             \u001b[0mself\u001b[0m\u001b[0;34m.\u001b[0m\u001b[0m_engine\u001b[0m \u001b[0;34m=\u001b[0m \u001b[0mCParserWrapper\u001b[0m\u001b[0;34m(\u001b[0m\u001b[0mself\u001b[0m\u001b[0;34m.\u001b[0m\u001b[0mf\u001b[0m\u001b[0;34m,\u001b[0m \u001b[0;34m**\u001b[0m\u001b[0mself\u001b[0m\u001b[0;34m.\u001b[0m\u001b[0moptions\u001b[0m\u001b[0;34m)\u001b[0m\u001b[0;34m\u001b[0m\u001b[0;34m\u001b[0m\u001b[0m\n\u001b[0m\u001b[1;32m   1136\u001b[0m         \u001b[0;32melse\u001b[0m\u001b[0;34m:\u001b[0m\u001b[0;34m\u001b[0m\u001b[0;34m\u001b[0m\u001b[0m\n\u001b[1;32m   1137\u001b[0m             \u001b[0;32mif\u001b[0m \u001b[0mengine\u001b[0m \u001b[0;34m==\u001b[0m \u001b[0;34m\"python\"\u001b[0m\u001b[0;34m:\u001b[0m\u001b[0;34m\u001b[0m\u001b[0;34m\u001b[0m\u001b[0m\n",
      "\u001b[0;32m/home/WIN.DTU.DK/matinnu/miniconda3/envs/picrust2/lib/python3.6/site-packages/pandas/io/parsers.py\u001b[0m in \u001b[0;36m__init__\u001b[0;34m(self, src, **kwds)\u001b[0m\n\u001b[1;32m   1915\u001b[0m         \u001b[0mkwds\u001b[0m\u001b[0;34m[\u001b[0m\u001b[0;34m\"usecols\"\u001b[0m\u001b[0;34m]\u001b[0m \u001b[0;34m=\u001b[0m \u001b[0mself\u001b[0m\u001b[0;34m.\u001b[0m\u001b[0musecols\u001b[0m\u001b[0;34m\u001b[0m\u001b[0;34m\u001b[0m\u001b[0m\n\u001b[1;32m   1916\u001b[0m \u001b[0;34m\u001b[0m\u001b[0m\n\u001b[0;32m-> 1917\u001b[0;31m         \u001b[0mself\u001b[0m\u001b[0;34m.\u001b[0m\u001b[0m_reader\u001b[0m \u001b[0;34m=\u001b[0m \u001b[0mparsers\u001b[0m\u001b[0;34m.\u001b[0m\u001b[0mTextReader\u001b[0m\u001b[0;34m(\u001b[0m\u001b[0msrc\u001b[0m\u001b[0;34m,\u001b[0m \u001b[0;34m**\u001b[0m\u001b[0mkwds\u001b[0m\u001b[0;34m)\u001b[0m\u001b[0;34m\u001b[0m\u001b[0;34m\u001b[0m\u001b[0m\n\u001b[0m\u001b[1;32m   1918\u001b[0m         \u001b[0mself\u001b[0m\u001b[0;34m.\u001b[0m\u001b[0munnamed_cols\u001b[0m \u001b[0;34m=\u001b[0m \u001b[0mself\u001b[0m\u001b[0;34m.\u001b[0m\u001b[0m_reader\u001b[0m\u001b[0;34m.\u001b[0m\u001b[0munnamed_cols\u001b[0m\u001b[0;34m\u001b[0m\u001b[0;34m\u001b[0m\u001b[0m\n\u001b[1;32m   1919\u001b[0m \u001b[0;34m\u001b[0m\u001b[0m\n",
      "\u001b[0;32mpandas/_libs/parsers.pyx\u001b[0m in \u001b[0;36mpandas._libs.parsers.TextReader.__cinit__\u001b[0;34m()\u001b[0m\n",
      "\u001b[0;32mpandas/_libs/parsers.pyx\u001b[0m in \u001b[0;36mpandas._libs.parsers.TextReader._setup_parser_source\u001b[0;34m()\u001b[0m\n",
      "\u001b[0;31mFileNotFoundError\u001b[0m: [Errno 2] File b'test/q2-picrust2_output/ec_metagenome/ec.tsv' does not exist: b'test/q2-picrust2_output/ec_metagenome/ec.tsv'"
     ]
    }
   ],
   "source": [
    "df_ec = pd.read_csv('test/q2-picrust2_output/ec_metagenome/ec.tsv', sep=('\\t'), skiprows=[0], index_col=0)\n",
    "df_p8 = df_ec[['P8-rep1', 'P8-rep2', 'P8-rep3', 'P8-rep4', 'P8-rep5']].sort_values('P8-rep2', ascending = False)\n",
    "df_p8.loc[~(df_p8==0).all(axis=1)].head(10).style.background_gradient(cmap ='viridis')\n",
    "! biom convert -i test/table-0.1/feature-table.biom -o test/table-0.1/feature-table.tsv --to-tsv\n",
    "df_ec = pd.read_csv('test/table-0.1/feature-table.tsv', sep=('\\t'), skiprows=[0], index_col=0)\n",
    "#df_p8 = df_ec[['P8-rep1', 'P8-rep2', 'P8-rep3', 'P8-rep4', 'P8-rep5']].sort_values('P8-rep2', ascending = False)\n",
    "df_p8.loc[~(df_p8==0).all(axis=1)].head(10).style.background_gradient(cmap ='viridis')"
   ]
  }
 ],
 "metadata": {
  "kernelspec": {
   "display_name": "Python 3",
   "language": "python",
   "name": "python3"
  },
  "language_info": {
   "codemirror_mode": {
    "name": "ipython",
    "version": 3
   },
   "file_extension": ".py",
   "mimetype": "text/x-python",
   "name": "python",
   "nbconvert_exporter": "python",
   "pygments_lexer": "ipython3",
   "version": "3.6.13"
  }
 },
 "nbformat": 4,
 "nbformat_minor": 5
}
