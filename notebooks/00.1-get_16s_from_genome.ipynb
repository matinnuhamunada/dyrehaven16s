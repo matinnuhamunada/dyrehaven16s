{
 "cells": [
  {
   "cell_type": "markdown",
   "id": "loving-maryland",
   "metadata": {},
   "source": [
    "# Return 16s rRNA region from Genomes\n",
    "In this step, I want to simulate amplification of 16s rRNA genes from genome isolates using the primer pairs used for NGS.\n",
    "\n",
    "This notebook uses the bgc_analytics environment, see: [../env/bgc_analytics.yml](../env/bgc_analytics.yml)\n",
    "\n",
    "* **Input:** \n",
    "    * Path to genomes (.gbk) folder = \"../data/genomes\"\n",
    "* **Output:**\n",
    "    * [../data/genomes/16sgenome.fasta](../data/genomes/16sgenome.fasta)"
   ]
  },
  {
   "cell_type": "code",
   "execution_count": 1,
   "id": "minus-baptist",
   "metadata": {},
   "outputs": [],
   "source": [
    "\n",
    "# load library\n",
    "import os\n",
    "from Bio import SeqIO\n",
    "from Bio.SeqRecord import SeqRecord\n",
    "from Bio.Seq import Seq\n",
    "import sys"
   ]
  },
  {
   "cell_type": "code",
   "execution_count": 2,
   "id": "collect-black",
   "metadata": {},
   "outputs": [],
   "source": [
    "# find 16s based on annotation\n",
    "def find_16s(path):\n",
    "    records = []\n",
    "    ctr = 0\n",
    "    records_list = SeqIO.parse(open(path, 'r'), \"genbank\")\n",
    "    for rec in records_list:\n",
    "        for feat in rec.features :\n",
    "            if feat.type == \"rRNA\":\n",
    "                if feat.qualifiers['product'][0] == '16S ribosomal RNA':\n",
    "                    print('contig :', rec.id)\n",
    "                    start = feat.location.start - 1\n",
    "                    end = feat.location.end - 1\n",
    "                    strand = feat.location.strand\n",
    "                    #print('product :', feat.qualifiers['product'][0])\n",
    "                    print(start, ':', end, '| strand :', strand, '| length :', len(rec.seq[start:end]))\n",
    "                    record = SeqRecord(rec.seq[start:end],\n",
    "                                       id=rec.id, \n",
    "                                       name=\"16S ribosomal RNA\",\n",
    "                                       description=\"strand:\"+str(strand)+\"_loc:\"+str(start)+\"-\"+str(end))\n",
    "                    records.append((record))\n",
    "    return records\n",
    "\n",
    "# read genomes, append 16s record to *result*\n",
    "path = '../data/genomes/'\n",
    "x = [os.path.join(path, i) for i in os.listdir('../data/genomes/') if i.endswith('.gbk')]\n",
    "result = []\n",
    "for i in x:\n",
    "    result.append(find_16s(i))"
   ]
  },
  {
   "cell_type": "code",
   "execution_count": 3,
   "id": "identified-tours",
   "metadata": {},
   "outputs": [],
   "source": [
    "# find v3-v4 region using part of the primer (p1 and p2)\n",
    "def v3(seq):\n",
    "    p1 = Seq(\"CCTACGGG\") #CCTACGGGNGGCWGCAG\n",
    "    p2 = Seq(\"GACTAC\").reverse_complement() #\"GACTACHVGGGTATCTAATCC\"\n",
    "    try:\n",
    "        start = seq.index(p1)\n",
    "        end = seq.index(p2)\n",
    "    except:\n",
    "        end = seq.index(p1.reverse_complement())\n",
    "        start = seq.index(p2.reverse_complement())\n",
    "    sequence = seq[start:end] \n",
    "    return sequence\n",
    "\n",
    "# full primers\n",
    "p1_full = 'CCTACGGGNGGCWGCAG'\n",
    "p2_full = \"GACTACHVGGGTATCTAATCC\"\n",
    "\n",
    "# return clean ASV from the 16s (minus the primers)\n",
    "for record in result:\n",
    "    for seq in record:\n",
    "        strand = seq.description.split('_')\n",
    "        if strand[0] == 'strand:-1':\n",
    "            v3v4 =  v3(seq.seq.reverse_complement())[len(p1_full):-len(p2_full)]\n",
    "            s = str('>'+seq.id+'-'+seq.description+'\\n'+v3v4)\n",
    "        else:\n",
    "            v3v4 = v3(seq.seq)[len(p1_full):-len(p2_full)]\n",
    "            s = str('>'+seq.id+'-'+seq.description+'\\n'+v3v4)\n",
    "        print(len(v3v4), s)"
   ]
  },
  {
   "cell_type": "code",
   "execution_count": 6,
   "id": "fleet-xerox",
   "metadata": {
    "tags": []
   },
   "outputs": [],
   "source": [
    "# write result to a fasta files\n",
    "original_stdout = sys.stdout # Save a reference to the original standard output\n",
    "\n",
    "p1_full = 'CCTACGGGNGGCWGCAG'\n",
    "p2_full = \"GACTACHVGGGTATCTAATCC\"\n",
    "\n",
    "with open('../data/genomes/16sgenome.fasta', 'w') as f: # output fasta files\n",
    "    sys.stdout = f # Change the standard output to the file we created.\n",
    "    for record in result:\n",
    "        for seq in record:\n",
    "            strand = seq.description.split('_')\n",
    "            prev = v3v4 # counter for previous result\n",
    "            if strand[0] == 'strand:-1':\n",
    "                v3v4 =  v3(seq.seq.reverse_complement())[len(p1_full):-len(p2_full)]\n",
    "                s = str('>'+seq.id+'-'+seq.description+'\\n'+v3v4)\n",
    "                #s = str('>'+seq.id+'\\n'+v3v4)\n",
    "            else:\n",
    "                v3v4 = v3(seq.seq)[len(p1_full):-len(p2_full)]\n",
    "                s = str('>'+seq.id+'-'+seq.description+'\\n'+v3v4)\n",
    "                #s = str('>'+seq.id+'\\n'+v3v4)\n",
    "            # there are 6 copies in genome, if result are the same then skip\n",
    "            if v3v4 == prev:\n",
    "                pass\n",
    "            else:\n",
    "                print(s)\n",
    "    sys.stdout = original_stdout # Reset the standard output to its original value"
   ]
  },
  {
   "cell_type": "code",
   "execution_count": null,
   "id": "romantic-exchange",
   "metadata": {},
   "outputs": [],
   "source": [
    "# join the resulting fasta with ASVs from QIIME2\n",
    "#! mkdir ../data/combined_tree\n",
    "#! cat ../data/genomes/16sgenome.fasta ../data/qiime2/filtered/dna-sequences.fasta > ../data/combined_tree/combined.fasta"
   ]
  }
 ],
 "metadata": {
  "kernelspec": {
   "display_name": "Python 3",
   "language": "python",
   "name": "python3"
  },
  "language_info": {
   "codemirror_mode": {
    "name": "ipython",
    "version": 3
   },
   "file_extension": ".py",
   "mimetype": "text/x-python",
   "name": "python",
   "nbconvert_exporter": "python",
   "pygments_lexer": "ipython3",
   "version": "3.9.2"
  }
 },
 "nbformat": 4,
 "nbformat_minor": 5
}
