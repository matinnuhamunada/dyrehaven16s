{
 "cells": [
  {
   "cell_type": "markdown",
   "metadata": {},
   "source": [
    "# 01 - Generate ASVs using DADA2\n",
    "## Pipeline Description\n",
    "This is the 16s rRNA amplicon soil data from CeMiST, re-analyzed using QIIME2 to get Amplicon Sequence Variants (ASVs) for downstream analysis. The V3V4 region of bacterial 16s rRNA was amplified using these primers (the product should be around 464 bp): \n",
    "* _341F (5’-CCTACGGGNGGCWGCAG-3')_ : len 17\n",
    "* _805R (5’-GACTACHVGGGTATCTAATCC-3')_ len 21\n",
    "\n",
    "There are three runs, each containing a paired end FASTQ in this folders:\n",
    "* ../data/raw_files/Psoil_1_L001-ds.be0c008785964521859130b2f2ead9be\n",
    "* ../data/raw_files/Psoil_2_L001-ds.6255278a9f7448a0b3e7c48b80f6d25f\n",
    "* ../data/raw_files/Psoil_3_L001-ds.e31e51f5248b4af4ad90603ebbf46e08\n",
    "\n",
    "And the metadata in this files:\n",
    "* ../data/raw_files/Pool1.barcodes\n",
    "* ../data/raw_files/Pool2.barcodes\n",
    "* ../data/raw_files/Pool3.barcodes\n",
    "\n",
    "Here, Amplicon Sequence Variants was generated from raw FASTQ data using DADA2 in [QIIME2 version 2020.11](https://docs.qiime2.org/2020.11/). \n",
    "\n",
    "Analysis was conducted within Conda environment in NBC Shared machine.\n",
    "\n",
    "## Steps: \n",
    "1. [Check input](#section1)\n",
    "    - [ ] QC Raw Paired End FastQ \n",
    "    - [x] Build Metadata - make it compatible with QIIME2\n",
    "    - [x] Import to QIIME2\n",
    "2. [Demultiplexing](#section2)\n",
    "    - [ ] QC Demultiplexed samples\n",
    "    - [X] Run demultiplexing with cutadapt in QIIME2\n",
    "3. [Denoising with DADA2](#section3)\n",
    "    - [ ] QC denoised data \n",
    "    - [x] Run DADA2\n",
    "4. [Merge outputs](#section4)\n",
    "    - [x] Merge QZA files into 1\n",
    "\n",
    "Notes: \n",
    "* _metadata in Pool3 suggested that the 16s run was mixed with other experiments. Will these affect DADA2 capabilites to denoise the samples?_\n",
    "* _fastq files are mixed forward and reverse reads_"
   ]
  },
  {
   "cell_type": "code",
   "execution_count": 1,
   "metadata": {},
   "outputs": [
    {
     "data": {
      "text/plain": [
       "423"
      ]
     },
     "execution_count": 1,
     "metadata": {},
     "output_type": "execute_result"
    }
   ],
   "source": [
    "_341F = 'CCTACGGGNGGCWGCAG'\n",
    "_805R = 'GACTACHVGGGTATCTAATCC'\n",
    "x = 461 -len(_341F) - len(_805R)\n",
    "x"
   ]
  },
  {
   "cell_type": "code",
   "execution_count": 1,
   "metadata": {},
   "outputs": [],
   "source": [
    "# Load Library\n",
    "import pandas as pd\n",
    "from qiime2 import Artifact, Visualization\n",
    "import os\n",
    "\n",
    "import tempfile\n",
    "from shutil import copyfile"
   ]
  },
  {
   "cell_type": "code",
   "execution_count": 3,
   "metadata": {},
   "outputs": [
    {
     "name": "stdout",
     "output_type": "stream",
     "text": [
      "/home/WIN.DTU.DK/matinnu/miniconda3/envs/qiime2-2021.2/bin/python\n"
     ]
    }
   ],
   "source": [
    "from sys import executable \n",
    "print(executable)  "
   ]
  },
  {
   "cell_type": "markdown",
   "metadata": {},
   "source": [
    "<a id='section1'></a>\n",
    "## Check Input\n",
    "### Build metadata"
   ]
  },
  {
   "cell_type": "code",
   "execution_count": 13,
   "metadata": {},
   "outputs": [
    {
     "name": "stdout",
     "output_type": "stream",
     "text": [
      "mkdir: cannot create directory ‘../data/metadata’: File exists\n"
     ]
    },
    {
     "data": {
      "text/plain": [
       "['psoil1_metadata_fwd.tsv',\n",
       " 'psoil2_metadata_fwd.tsv',\n",
       " 'psoil3_metadata_fwd.tsv']"
      ]
     },
     "execution_count": 13,
     "metadata": {},
     "output_type": "execute_result"
    }
   ],
   "source": [
    "# makedir\n",
    "! mkdir ../data/metadata\n",
    "\n",
    "# create demultiplexing barcodes containing barcodes + the first 5 nucleotides of the forward primer\n",
    "pool = [1, 2, 3]\n",
    "for i in pool:\n",
    "    df_demux = pd.read_csv('../data/raw_files/Pool'+str(i)+'.barcodes', sep='\\t')\n",
    "    try:\n",
    "        df_demux = df_demux.rename(columns={'ID ':'ID'})\n",
    "    except:\n",
    "        pass\n",
    "    df_demux = pd.DataFrame({'#SampleID' : [i for i in df_demux['ID']],\n",
    "                             'BarcodeSequence' : [i for num, i in enumerate(df_demux['#F-tag'])],\n",
    "                             'Sample' : [i.split('_')[0] for i in df_demux['ID']]\n",
    "                             })\n",
    "    df_demux.to_csv('../data/metadata/psoil'+str(i)+'_metadata_fwd.tsv', sep='\\t', index=False) #write into tsv file\n",
    "\n",
    "# metadata is already available\n",
    "[i for i in os.listdir('../data/metadata') if i.endswith('metadata_fwd.tsv')]"
   ]
  },
  {
   "cell_type": "code",
   "execution_count": 6,
   "metadata": {},
   "outputs": [
    {
     "name": "stdout",
     "output_type": "stream",
     "text": [
      "\u001b[32mImported ../../clean_run/data/raw_files/Psoil_1_L001-ds.be0c008785964521859130b2f2ead9be as MultiplexedPairedEndBarcodeInSequenceDirFmt to ../data/qiime2/Psoil1_PE.qza\u001b[0m\n",
      "\u001b[32mImported ../../clean_run/data/raw_files/Psoil_2_L001-ds.6255278a9f7448a0b3e7c48b80f6d25f as MultiplexedPairedEndBarcodeInSequenceDirFmt to ../data/qiime2/Psoil2_PE.qza\u001b[0m\n",
      "\u001b[32mImported ../../clean_run/data/raw_files/Psoil_3_L001-ds.e31e51f5248b4af4ad90603ebbf46e08 as MultiplexedPairedEndBarcodeInSequenceDirFmt to ../data/qiime2/Psoil3_PE.qza\u001b[0m\n"
     ]
    }
   ],
   "source": [
    "# takes in average 5-6 minutes each\n",
    "! mkdir ../data/qiime2\n",
    "# import raw data into qza format\n",
    "#path = '../data/raw_files/'\n",
    "path = '../../clean_run/data/raw_files/'\n",
    "path = [os.path.join(path, i) for i in os.listdir(path) if i.startswith('Psoil')]\n",
    "\n",
    "# create manifest files\n",
    "filepath = []\n",
    "for i in path:\n",
    "    file = os.listdir(i)\n",
    "    try:\n",
    "        file.remove('.ipynb_checkpoints')\n",
    "    except:\n",
    "        pass\n",
    "    \n",
    "    file = [os.path.join(i, x) for x in file]\n",
    "    filepath.append(file)\n",
    "\n",
    "for num, i in enumerate(path):\n",
    "    try:\n",
    "        os.rmdir(os.path.join(i, '.ipynb_checkpoints'))\n",
    "    except:\n",
    "        pass\n",
    "    os.rename(filepath[num][0], os.path.join(i, 'forward.fastq.gz'))\n",
    "    os.rename(filepath[num][1], os.path.join(i, 'reverse.fastq.gz'))\n",
    "    \n",
    "    # Import raw files into QIIME \n",
    "    ! qiime tools import --type MultiplexedPairedEndBarcodeInSequence --input-path {i} --input-format MultiplexedPairedEndBarcodeInSequenceDirFmt --output-path ../data/qiime2/Psoil{num+1}_PE.qza \n",
    "    os.rename(os.path.join(i, 'forward.fastq.gz'), filepath[num][0]) \n",
    "    os.rename(os.path.join(i, 'reverse.fastq.gz'), filepath[num][1]) "
   ]
  },
  {
   "cell_type": "markdown",
   "metadata": {},
   "source": [
    "<a id='section2'></a>\n",
    "## Demultiplexing"
   ]
  },
  {
   "cell_type": "code",
   "execution_count": 7,
   "metadata": {},
   "outputs": [],
   "source": [
    "# demultiplex PE based on metadata\n",
    "def demux(path, metadata, out):\n",
    "    ! mkdir {out}\n",
    "    ! qiime cutadapt demux-paired \\\n",
    "        --i-seqs {path} \\\n",
    "        --m-forward-barcodes-file {metadata} \\\n",
    "        --m-forward-barcodes-column BarcodeSequence \\\n",
    "        --p-error-rate 0.1 \\\n",
    "        --p-minimum-length 150 \\\n",
    "        --p-mixed-orientation \\\n",
    "        --o-per-sample-sequences {out}/demux-0.1.qza \\\n",
    "        --o-untrimmed-sequences {out}/untrimmed-0.1.qza \\\n",
    "        --verbose \\\n",
    "        > {out}/cutadapt-0.1.log\n",
    "    return"
   ]
  },
  {
   "cell_type": "code",
   "execution_count": 16,
   "metadata": {},
   "outputs": [
    {
     "name": "stdout",
     "output_type": "stream",
     "text": [
      "[       8=---] 00:18:02     6,318,906 reads  @    171.3 µs/read;   0.35 M reads/minute\n",
      "[---------->8] 00:00:42       228,836 reads  @    185.9 µs/read;   0.32 M reads/minute\n",
      "[=8          ] 00:25:22     8,795,488 reads  @    173.1 µs/read;   0.35 M reads/minute\n",
      "[--------=8  ] 00:00:53       274,200 reads  @    194.0 µs/read;   0.31 M reads/minute\n",
      "[-------->8  ] 00:14:03     6,869,491 reads  @    122.8 µs/read;   0.49 M reads/minute\n",
      "[---------=8 ] 00:00:37       255,531 reads  @    145.6 µs/read;   0.41 M reads/minute\n"
     ]
    }
   ],
   "source": [
    "paths = [os.path.join('../data/qiime2', i) for i in os.listdir('../data/qiime2') if i.endswith('PE.qza')]\n",
    "for num, i in enumerate(paths):\n",
    "    metadata = '../data/metadata/psoil'+str(num+1)+'_metadata_fwd.tsv'\n",
    "    out = i.replace('.qza', '')\n",
    "    if os.path.isdir(out):\n",
    "        print(out)\n",
    "        pass\n",
    "    else:\n",
    "        demux(i, metadata, out)\n",
    "        \n",
    "#[       8=---] 00:26:18     6,318,906 reads  @    249.9 µs/read;   0.24 M reads/minute\n",
    "#[------>8    ] 00:15:15     3,389,998 reads  @    270.2 µs/read;   0.22 M reads/minute\n",
    "#[=8          ] 00:37:51     8,795,488 reads  @    258.2 µs/read;   0.23 M reads/minute\n",
    "#[---->8      ] 00:22:08     4,747,122 reads  @    279.8 µs/read;   0.21 M reads/minute\n",
    "#[-------->8  ] 00:19:56     6,869,491 reads  @    174.1 µs/read;   0.34 M reads/minute\n",
    "#[------->8   ] 00:12:45     3,801,926 reads  @    201.4 µs/read;   0.30 M reads/minute\n",
    "\n",
    "#[       8=---] 00:18:02     6,318,906 reads  @    171.3 µs/read;   0.35 M reads/minute\n",
    "#[---------->8] 00:00:42       228,836 reads  @    185.9 µs/read;   0.32 M reads/minute\n",
    "#[=8          ] 00:25:22     8,795,488 reads  @    173.1 µs/read;   0.35 M reads/minute\n",
    "#[--------=8  ] 00:00:53       274,200 reads  @    194.0 µs/read;   0.31 M reads/minute\n",
    "#[-------->8  ] 00:14:03     6,869,491 reads  @    122.8 µs/read;   0.49 M reads/minute\n",
    "#[---------=8 ] 00:00:37       255,531 reads  @    145.6 µs/read;   0.41 M reads/minute"
   ]
  },
  {
   "cell_type": "code",
   "execution_count": 17,
   "metadata": {},
   "outputs": [
    {
     "name": "stdout",
     "output_type": "stream",
     "text": [
      "\u001b[32mSaved Visualization to: ../data/qiime2/Psoil1_PE/demux-0.1.qzv\u001b[0m\n",
      "\u001b[32mSaved Visualization to: ../data/qiime2/Psoil2_PE/demux-0.1.qzv\u001b[0m\n",
      "\u001b[32mSaved Visualization to: ../data/qiime2/Psoil3_PE/demux-0.1.qzv\u001b[0m\n"
     ]
    }
   ],
   "source": [
    "# summarize\n",
    "for i in range(3):\n",
    "    ! qiime demux summarize \\\n",
    "        --i-data ../data/qiime2/Psoil{i+1}_PE/demux-0.1.qza \\\n",
    "        --o-visualization ../data/qiime2/Psoil{i+1}_PE/demux-0.1.qzv"
   ]
  },
  {
   "cell_type": "code",
   "execution_count": 18,
   "metadata": {},
   "outputs": [
    {
     "data": {
      "text/html": [
       "<div><img onload=\"(function(div, url){\n",
       "if (typeof require !== 'undefined') {\n",
       "    var baseURL = require.toUrl('').split('/').slice(0, -2).join('/');\n",
       "} else {\n",
       "    var baseURL = JSON.parse(\n",
       "        document.getElementById('jupyter-config-data').innerHTML\n",
       "    ).baseUrl.slice(0, -1);\n",
       "}\n",
       "url = baseURL + url;\n",
       "fetch(url).then(function(res) {\n",
       "    if (res.status === 404) {\n",
       "        div.innerHTML = 'Install QIIME 2 Jupyter extension with:<br />' +\n",
       "                        '<code>jupyter serverextension enable --py qiime2' +\n",
       "                        ' --sys-prefix</code><br />then restart your server.' +\n",
       "                        '<br /><br />(Interactive output not available on ' +\n",
       "                        'static notebook viewer services like nbviewer.)';\n",
       "    } else if (res.status === 409) {\n",
       "        div.innerHTML = 'Visualization no longer in scope. Re-run this cell' +\n",
       "                        ' to see the visualization.';\n",
       "    } else if (res.ok) {\n",
       "        url = res.url;\n",
       "        div.innerHTML = '<iframe src=\\'' + url + '\\' style=\\'' +\n",
       "                        'width: 100%; height: 700px; border: 0;\\'>' +\n",
       "                        '</iframe><hr />Open in a: <a href=\\'' + url + '\\'' +\n",
       "                        ' target=\\'_blank\\'>new window</a>'\n",
       "    } else {\n",
       "        div.innerHTML = 'Something has gone wrong. Check notebook server for' +\n",
       "                        ' errors.';\n",
       "    }\n",
       "});\n",
       "})(this.parentElement, '/qiime2/redirect?location=/tmp/qiime2-archive-3rr8ddaz')\" src=\"data:image/gif;base64,R0lGODlhAQABAIAAAP///wAAACH5BAEAAAAALAAAAAABAAEAAAICRAEAOw==\" /></div>"
      ],
      "text/plain": [
       "<visualization: Visualization uuid: a2a562f1-378e-45bb-bd3a-4afb9d87ba19>"
      ]
     },
     "execution_count": 18,
     "metadata": {},
     "output_type": "execute_result"
    }
   ],
   "source": [
    "Visualization.load('../data/qiime2/Psoil3_PE/demux-0.1.qzv')"
   ]
  },
  {
   "cell_type": "code",
   "execution_count": 20,
   "metadata": {},
   "outputs": [
    {
     "name": "stdout",
     "output_type": "stream",
     "text": [
      "\u001b[32mExported ../data/qiime2/Psoil1_PE/demux-0.1.qza as SingleLanePerSamplePairedEndFastqDirFmt to directory ../data/qiime2/Psoil1_PE/raw_demux\u001b[0m\n",
      "\u001b[32mExported ../data/qiime2/Psoil2_PE/demux-0.1.qza as SingleLanePerSamplePairedEndFastqDirFmt to directory ../data/qiime2/Psoil2_PE/raw_demux\u001b[0m\n",
      "\u001b[32mExported ../data/qiime2/Psoil3_PE/demux-0.1.qza as SingleLanePerSamplePairedEndFastqDirFmt to directory ../data/qiime2/Psoil3_PE/raw_demux\u001b[0m\n"
     ]
    }
   ],
   "source": [
    "# export\n",
    "for i in range(3):\n",
    "    ! qiime tools export \\\n",
    "        --input-path ../data/qiime2/Psoil{i+1}_PE/demux-0.1.qza \\\n",
    "        --output-path ../data/qiime2/Psoil{i+1}_PE/raw_demux"
   ]
  },
  {
   "cell_type": "code",
   "execution_count": 4,
   "metadata": {},
   "outputs": [
    {
     "name": "stdout",
     "output_type": "stream",
     "text": [
      "mkdir: cannot create directory ‘../data/qiime2/Psoil1_PE/reorient’: File exists\n",
      "S1_rep1\n",
      "\u001b[32mImported /tmp/tmpc5e2htkm as MultiplexedPairedEndBarcodeInSequenceDirFmt to /tmp/tmpc5e2htkm/paired-end-demux.qza\u001b[0m\n",
      "[  8<--------] 00:00:07        94,849 reads  @     83.3 µs/read;   0.72 M reads/minute\n",
      "[ 8=---------] 00:00:05        65,766 reads  @     81.1 µs/read;   0.74 M reads/minute\n",
      "S1_rep2\n",
      "\u001b[32mImported /tmp/tmpfbn0z8bh as MultiplexedPairedEndBarcodeInSequenceDirFmt to /tmp/tmpfbn0z8bh/paired-end-demux.qza\u001b[0m\n",
      "[    8=------] 00:00:14       182,017 reads  @     81.3 µs/read;   0.74 M reads/minute\n",
      "[  8=--------] 00:00:09       114,274 reads  @     79.6 µs/read;   0.75 M reads/minute\n",
      "S1_rep3\n",
      "\u001b[32mImported /tmp/tmpqisxg8bc as MultiplexedPairedEndBarcodeInSequenceDirFmt to /tmp/tmpqisxg8bc/paired-end-demux.qza\u001b[0m\n",
      "[   8<-------] 00:00:11       134,229 reads  @     81.9 µs/read;   0.73 M reads/minute\n",
      "[  8<--------] 00:00:07        89,235 reads  @     82.2 µs/read;   0.73 M reads/minute\n",
      "[     8<-----] 00:00:17       206,104 reads  @     82.6 µs/read;   0.73 M reads/minute\n",
      "[   8<-------] 00:00:11       137,663 reads  @     82.5 µs/read;   0.73 M reads/minute\n",
      "S1_rep5\n",
      "\u001b[32mImported /tmp/tmpdtv1zjsx as MultiplexedPairedEndBarcodeInSequenceDirFmt to /tmp/tmpdtv1zjsx/paired-end-demux.qza\u001b[0m\n",
      "[     8=-----] 00:00:19       236,844 reads  @     81.6 µs/read;   0.74 M reads/minute\n",
      "[    8<------] 00:00:12       161,896 reads  @     79.9 µs/read;   0.75 M reads/minute\n",
      "S2_rep1\n",
      "\u001b[32mImported /tmp/tmpjp2wyfne as MultiplexedPairedEndBarcodeInSequenceDirFmt to /tmp/tmpjp2wyfne/paired-end-demux.qza\u001b[0m\n",
      "[  8=--------] 00:00:09       108,558 reads  @     83.1 µs/read;   0.72 M reads/minute\n",
      "[ 8=---------] 00:00:05        71,922 reads  @     83.0 µs/read;   0.72 M reads/minute\n",
      "S2_rep2\n",
      "\u001b[32mImported /tmp/tmpc74bm6zo as MultiplexedPairedEndBarcodeInSequenceDirFmt to /tmp/tmpc74bm6zo/paired-end-demux.qza\u001b[0m\n",
      "[  8=--------] 00:00:08       100,265 reads  @     84.7 µs/read;   0.71 M reads/minute\n",
      "[ 8=---------] 00:00:06        71,666 reads  @     84.9 µs/read;   0.71 M reads/minute\n",
      "S2_rep3\n",
      "\u001b[32mImported /tmp/tmpb0jlih79 as MultiplexedPairedEndBarcodeInSequenceDirFmt to /tmp/tmpb0jlih79/paired-end-demux.qza\u001b[0m\n",
      "[          8=] 00:00:36       427,247 reads  @     85.1 µs/read;   0.71 M reads/minute\n",
      "[        8<--] 00:00:26       326,924 reads  @     80.4 µs/read;   0.75 M reads/minute\n",
      "S2_rep4\n",
      "\u001b[32mImported /tmp/tmp5jsj7h85 as MultiplexedPairedEndBarcodeInSequenceDirFmt to /tmp/tmp5jsj7h85/paired-end-demux.qza\u001b[0m\n",
      "[  8=--------] 00:00:08       102,625 reads  @     82.8 µs/read;   0.72 M reads/minute\n",
      "[ 8=---------] 00:00:05        67,579 reads  @     81.2 µs/read;   0.74 M reads/minute\n",
      "S2_rep5\n",
      "\u001b[32mImported /tmp/tmpwvreiow_ as MultiplexedPairedEndBarcodeInSequenceDirFmt to /tmp/tmpwvreiow_/paired-end-demux.qza\u001b[0m\n",
      "[ 8=---------] 00:00:06        76,357 reads  @     81.3 µs/read;   0.74 M reads/minute\n",
      "[ 8<---------] 00:00:04        51,699 reads  @     80.3 µs/read;   0.75 M reads/minute\n",
      "S3_rep1\n",
      "\u001b[32mImported /tmp/tmpb3s9p0ru as MultiplexedPairedEndBarcodeInSequenceDirFmt to /tmp/tmpb3s9p0ru/paired-end-demux.qza\u001b[0m\n",
      "[  8<--------] 00:00:07        99,804 reads  @     79.6 µs/read;   0.75 M reads/minute\n",
      "[ 8=---------] 00:00:05        68,938 reads  @     80.4 µs/read;   0.75 M reads/minute\n",
      "S3_rep2\n",
      "\u001b[32mImported /tmp/tmph0096401 as MultiplexedPairedEndBarcodeInSequenceDirFmt to /tmp/tmph0096401/paired-end-demux.qza\u001b[0m\n",
      "[     8=-----] 00:00:19       234,453 reads  @     82.7 µs/read;   0.73 M reads/minute\n",
      "[   8=-------] 00:00:11       147,542 reads  @     79.6 µs/read;   0.75 M reads/minute\n",
      "S3_rep3\n",
      "\u001b[32mImported /tmp/tmplfvxtzt8 as MultiplexedPairedEndBarcodeInSequenceDirFmt to /tmp/tmplfvxtzt8/paired-end-demux.qza\u001b[0m\n",
      "[    8=------] 00:00:15       182,773 reads  @     83.0 µs/read;   0.72 M reads/minute\n",
      "[  8=--------] 00:00:09       112,227 reads  @     84.3 µs/read;   0.71 M reads/minute\n",
      "S3_rep4\n",
      "\u001b[32mImported /tmp/tmpb1ctjeti as MultiplexedPairedEndBarcodeInSequenceDirFmt to /tmp/tmpb1ctjeti/paired-end-demux.qza\u001b[0m\n",
      "[     8=-----] 00:00:18       227,398 reads  @     81.2 µs/read;   0.74 M reads/minute\n",
      "[   8<-------] 00:00:10       133,194 reads  @     79.6 µs/read;   0.75 M reads/minute\n",
      "S3_rep5\n",
      "\u001b[32mImported /tmp/tmp5glz1red as MultiplexedPairedEndBarcodeInSequenceDirFmt to /tmp/tmp5glz1red/paired-end-demux.qza\u001b[0m\n",
      "[     8<-----] 00:00:17       206,096 reads  @     82.5 µs/read;   0.73 M reads/minute\n",
      "[   8<-------] 00:00:10       121,443 reads  @     83.2 µs/read;   0.72 M reads/minute\n",
      "S4_rep1\n",
      "\u001b[32mImported /tmp/tmp9a2r72o9 as MultiplexedPairedEndBarcodeInSequenceDirFmt to /tmp/tmp9a2r72o9/paired-end-demux.qza\u001b[0m\n",
      "[       8<---] 00:00:24       298,410 reads  @     81.4 µs/read;   0.74 M reads/minute\n",
      "[    8=------] 00:00:15       188,029 reads  @     82.0 µs/read;   0.73 M reads/minute\n",
      "S4_rep2\n",
      "\u001b[32mImported /tmp/tmpbh45g2eu as MultiplexedPairedEndBarcodeInSequenceDirFmt to /tmp/tmpbh45g2eu/paired-end-demux.qza\u001b[0m\n",
      "[     8<-----] 00:00:17       208,193 reads  @     82.8 µs/read;   0.72 M reads/minute\n",
      "[  8=--------] 00:00:09       119,582 reads  @     82.5 µs/read;   0.73 M reads/minute\n",
      "S4_rep3\n",
      "\u001b[32mImported /tmp/tmpkudkn05q as MultiplexedPairedEndBarcodeInSequenceDirFmt to /tmp/tmpkudkn05q/paired-end-demux.qza\u001b[0m\n",
      "[       8=---] 00:00:25       307,797 reads  @     81.3 µs/read;   0.74 M reads/minute\n",
      "[    8<------] 00:00:13       173,006 reads  @     78.7 µs/read;   0.76 M reads/minute\n",
      "S4_rep4\n",
      "\u001b[32mImported /tmp/tmpa1wwsxla as MultiplexedPairedEndBarcodeInSequenceDirFmt to /tmp/tmpa1wwsxla/paired-end-demux.qza\u001b[0m\n",
      "[ 8=---------] 00:00:06        74,003 reads  @     81.1 µs/read;   0.74 M reads/minute\n",
      "[ 8<---------] 00:00:03        47,727 reads  @     80.4 µs/read;   0.75 M reads/minute\n",
      "S4_rep5\n",
      "\u001b[32mImported /tmp/tmpjau4ead7 as MultiplexedPairedEndBarcodeInSequenceDirFmt to /tmp/tmpjau4ead7/paired-end-demux.qza\u001b[0m\n",
      "[ 8=---------] 00:00:05        64,477 reads  @     82.8 µs/read;   0.72 M reads/minute\n",
      "[ 8<---------] 00:00:03        45,448 reads  @     81.4 µs/read;   0.74 M reads/minute\n",
      "S5_rep1\n",
      "\u001b[32mImported /tmp/tmpy2b9kpxu as MultiplexedPairedEndBarcodeInSequenceDirFmt to /tmp/tmpy2b9kpxu/paired-end-demux.qza\u001b[0m\n",
      "[   8=-------] 00:00:12       148,760 reads  @     81.2 µs/read;   0.74 M reads/minute\n",
      "[  8<--------] 00:00:06        84,917 reads  @     80.6 µs/read;   0.74 M reads/minute\n",
      "S5_rep2\n",
      "\u001b[32mImported /tmp/tmp36wf046v as MultiplexedPairedEndBarcodeInSequenceDirFmt to /tmp/tmp36wf046v/paired-end-demux.qza\u001b[0m\n",
      "[  8=--------] 00:00:09       117,796 reads  @     82.3 µs/read;   0.73 M reads/minute\n",
      "[ 8=---------] 00:00:06        73,021 reads  @     82.2 µs/read;   0.73 M reads/minute\n",
      "S5_rep3\n",
      "\u001b[32mImported /tmp/tmplawljeza as MultiplexedPairedEndBarcodeInSequenceDirFmt to /tmp/tmplawljeza/paired-end-demux.qza\u001b[0m\n",
      "[    8=------] 00:00:15       186,180 reads  @     81.6 µs/read;   0.73 M reads/minute\n",
      "[  8=--------] 00:00:08       102,907 reads  @     79.5 µs/read;   0.75 M reads/minute\n",
      "S5_rep4\n",
      "\u001b[32mImported /tmp/tmpwx4o8at_ as MultiplexedPairedEndBarcodeInSequenceDirFmt to /tmp/tmpwx4o8at_/paired-end-demux.qza\u001b[0m\n",
      "[    8=------] 00:00:15       186,104 reads  @     82.2 µs/read;   0.73 M reads/minute\n",
      "[  8<--------] 00:00:07        99,995 reads  @     79.8 µs/read;   0.75 M reads/minute\n",
      "S5_rep5\n",
      "\u001b[32mImported /tmp/tmpie_v7ma6 as MultiplexedPairedEndBarcodeInSequenceDirFmt to /tmp/tmpie_v7ma6/paired-end-demux.qza\u001b[0m\n",
      "[   8<-------] 00:00:10       130,538 reads  @     81.9 µs/read;   0.73 M reads/minute\n",
      "[  8<--------] 00:00:06        82,278 reads  @     82.2 µs/read;   0.73 M reads/minute\n",
      "S6_rep1\n",
      "\u001b[32mImported /tmp/tmp218nwn6_ as MultiplexedPairedEndBarcodeInSequenceDirFmt to /tmp/tmp218nwn6_/paired-end-demux.qza\u001b[0m\n",
      "[  8=--------] 00:00:08       109,750 reads  @     80.2 µs/read;   0.75 M reads/minute\n",
      "[ 8=---------] 00:00:05        66,412 reads  @     81.7 µs/read;   0.73 M reads/minute\n",
      "S6_rep2\n",
      "\u001b[32mImported /tmp/tmpt8f8mmnu as MultiplexedPairedEndBarcodeInSequenceDirFmt to /tmp/tmpt8f8mmnu/paired-end-demux.qza\u001b[0m\n",
      "[   8=-------] 00:00:13       155,152 reads  @     84.0 µs/read;   0.71 M reads/minute\n",
      "[  8<--------] 00:00:07        99,797 reads  @     79.3 µs/read;   0.76 M reads/minute\n",
      "S6_rep3\n",
      "\u001b[32mImported /tmp/tmpok7bdn8y as MultiplexedPairedEndBarcodeInSequenceDirFmt to /tmp/tmpok7bdn8y/paired-end-demux.qza\u001b[0m\n",
      "[  8<--------] 00:00:07        86,160 reads  @     83.3 µs/read;   0.72 M reads/minute\n",
      "[ 8=---------] 00:00:04        60,353 reads  @     81.9 µs/read;   0.73 M reads/minute\n",
      "S6_rep4\n",
      "\u001b[32mImported /tmp/tmprwsumdmq as MultiplexedPairedEndBarcodeInSequenceDirFmt to /tmp/tmprwsumdmq/paired-end-demux.qza\u001b[0m\n",
      "[       8<---] 00:00:22       280,573 reads  @     81.7 µs/read;   0.73 M reads/minute\n",
      "[    8=------] 00:00:15       192,433 reads  @     81.2 µs/read;   0.74 M reads/minute\n",
      "S6_rep5\n",
      "\u001b[32mImported /tmp/tmp8joy7kw7 as MultiplexedPairedEndBarcodeInSequenceDirFmt to /tmp/tmp8joy7kw7/paired-end-demux.qza\u001b[0m\n",
      "[     8<-----] 00:00:16       204,729 reads  @     81.1 µs/read;   0.74 M reads/minute\n",
      "[  8=--------] 00:00:08       113,732 reads  @     79.0 µs/read;   0.76 M reads/minute\n"
     ]
    }
   ],
   "source": [
    "def fix_mixed_orientation(path, primer, outdir, error_rate=0.1, minlength=150):\n",
    "    '''\n",
    "    Given a directory of demultiplexed FastQ files, re-orient and trim mixed orientation reads according to a given primer. \n",
    "    Utilizes QIIME2 version 20 above.\n",
    "    import pandas as pd\n",
    "    import tempfile\n",
    "    import os\n",
    "    from shutil import copyfile\n",
    "    '''\n",
    "   \n",
    "    #error_rate = 0.1 \n",
    "    #minlength = 150\n",
    "    \n",
    "    def make_manifest(path, out):\n",
    "        manifest = sorted([i for i in os.listdir(path) if i.endswith('.fastq.gz')])\n",
    "        ctr = 0\n",
    "        df = pd.DataFrame(columns=['sample-id','forward-absolute-filepath','reverse-absolute-filepath'])\n",
    "    \n",
    "        for i in range(int(len(manifest)/2)):\n",
    "            forward = manifest[ctr]\n",
    "            reverse = manifest[ctr+1]\n",
    "            sampleid = (manifest[ctr].rsplit('_', 4)[0])\n",
    "            df.loc[i] = [sampleid, os.path.join(path, forward), os.path.join(path, reverse)]\n",
    "            ctr = ctr+2\n",
    "        df.to_csv(out, sep='\\t', index=False)\n",
    "        return\n",
    "\n",
    "    def make_reorient_metadata(sampleid, fprimer, outpath):\n",
    "        df = pd.DataFrame(columns=['#SampleID','BarcodeSequence'])\n",
    "        df.loc[0] = [sampleid, fprimer]\n",
    "        df.to_csv(outpath+'/reorient.tsv', sep='\\t', index=False)\n",
    "        return\n",
    "\n",
    "    manifest = os.path.join(outdir, 'manifest.txt')\n",
    "    make_manifest(path, manifest)\n",
    "        \n",
    "    outdir = os.path.join(outdir, 'reorient')\n",
    "    ! mkdir {outdir}\n",
    "    df = pd.read_csv(manifest, sep='\\t')\n",
    "    \n",
    "    for i in range(len(df)):\n",
    "        with tempfile.TemporaryDirectory() as tmp:\n",
    "            print(df.loc[i, 'sample-id'])\n",
    "            copyfile(df.loc[i, 'forward-absolute-filepath'], os.path.join(tmp, 'forward.fastq.gz'))\n",
    "            copyfile(df.loc[i, 'reverse-absolute-filepath'], os.path.join(tmp, 'reverse.fastq.gz'))\n",
    "            ! qiime tools import \\\n",
    "                --type 'MultiplexedPairedEndBarcodeInSequence' \\\n",
    "                --input-path {tmp} \\\n",
    "                --output-path {tmp}/paired-end-demux.qza \\\n",
    "                --input-format MultiplexedPairedEndBarcodeInSequenceDirFmt \n",
    "            make_reorient_metadata(df.loc[i, 'sample-id'], primer, tmp)\n",
    "            path = os.path.join(tmp,'paired-end-demux.qza')\n",
    "            metadata = os.path.join(tmp, 'reorient.tsv')\n",
    "            sampleid = df.loc[i, 'sample-id']\n",
    "            ! qiime cutadapt demux-paired \\\n",
    "                --i-seqs {path} \\\n",
    "                --m-forward-barcodes-file {metadata} \\\n",
    "                --m-forward-barcodes-column BarcodeSequence \\\n",
    "                --p-error-rate {error_rate} \\\n",
    "                --p-minimum-length {minlength} \\\n",
    "                --p-mixed-orientation \\\n",
    "                --o-per-sample-sequences {outdir+'/'+sampleid}-demux.qza \\\n",
    "                --o-untrimmed-sequences {outdir+'/'+sampleid}-untrimmed.qza \\\n",
    "                --verbose > {outdir+'/'+sampleid}-cutadapt.log\n",
    "            #print(df.loc[i, 'sample-id'], os.listdir(tmp))\n",
    "        # directory and contents have been removed\n",
    "    return"
   ]
  },
  {
   "cell_type": "code",
   "execution_count": 5,
   "metadata": {},
   "outputs": [
    {
     "name": "stdout",
     "output_type": "stream",
     "text": [
      "../data/qiime2/Psoil2_PE/raw_demux/\n",
      "P5_rep1\n",
      "\u001b[32mImported /tmp/tmprg_w3hbq as MultiplexedPairedEndBarcodeInSequenceDirFmt to /tmp/tmprg_w3hbq/paired-end-demux.qza\u001b[0m\n",
      "[    8=------] 00:00:15       183,934 reads  @     82.0 µs/read;   0.73 M reads/minute\n",
      "[  8=--------] 00:00:09       113,843 reads  @     81.3 µs/read;   0.74 M reads/minute\n",
      "P5_rep2\n",
      "\u001b[32mImported /tmp/tmp3697aq7q as MultiplexedPairedEndBarcodeInSequenceDirFmt to /tmp/tmp3697aq7q/paired-end-demux.qza\u001b[0m\n",
      "[       8=---] 00:00:25       309,088 reads  @     82.7 µs/read;   0.73 M reads/minute\n",
      "[    8=------] 00:00:15       196,720 reads  @     80.4 µs/read;   0.75 M reads/minute\n",
      "P5_rep3\n",
      "\u001b[32mImported /tmp/tmpqnxomm9f as MultiplexedPairedEndBarcodeInSequenceDirFmt to /tmp/tmpqnxomm9f/paired-end-demux.qza\u001b[0m\n",
      "[   8<-------] 00:00:11       135,587 reads  @     83.3 µs/read;   0.72 M reads/minute\n",
      "[  8<--------] 00:00:07        87,705 reads  @     81.4 µs/read;   0.74 M reads/minute\n",
      "P5_rep4\n",
      "\u001b[32mImported /tmp/tmpmae9srju as MultiplexedPairedEndBarcodeInSequenceDirFmt to /tmp/tmpmae9srju/paired-end-demux.qza\u001b[0m\n",
      "[      8<----] 00:00:21       258,471 reads  @     82.4 µs/read;   0.73 M reads/minute\n",
      "[   8=-------] 00:00:12       156,832 reads  @     80.4 µs/read;   0.75 M reads/minute\n",
      "P5_rep5\n",
      "\u001b[32mImported /tmp/tmpexe8rx56 as MultiplexedPairedEndBarcodeInSequenceDirFmt to /tmp/tmpexe8rx56/paired-end-demux.qza\u001b[0m\n",
      "[     8<-----] 00:00:18       218,670 reads  @     82.4 µs/read;   0.73 M reads/minute\n",
      "[   8<-------] 00:00:11       139,109 reads  @     81.9 µs/read;   0.73 M reads/minute\n",
      "P8_rep1\n",
      "\u001b[32mImported /tmp/tmp0em0fk__ as MultiplexedPairedEndBarcodeInSequenceDirFmt to /tmp/tmp0em0fk__/paired-end-demux.qza\u001b[0m\n",
      "[  8=--------] 00:00:08       102,491 reads  @     83.3 µs/read;   0.72 M reads/minute\n",
      "[  8<--------] 00:00:06        82,232 reads  @     82.7 µs/read;   0.73 M reads/minute\n",
      "P8_rep2\n",
      "\u001b[32mImported /tmp/tmp6kucexcg as MultiplexedPairedEndBarcodeInSequenceDirFmt to /tmp/tmp6kucexcg/paired-end-demux.qza\u001b[0m\n",
      "[         8<-] 00:00:29       364,266 reads  @     81.4 µs/read;   0.74 M reads/minute\n",
      "[     8=-----] 00:00:18       229,879 reads  @     79.1 µs/read;   0.76 M reads/minute\n",
      "P8_rep3\n",
      "\u001b[32mImported /tmp/tmp5o8lrzce as MultiplexedPairedEndBarcodeInSequenceDirFmt to /tmp/tmp5o8lrzce/paired-end-demux.qza\u001b[0m\n",
      "[      8<----] 00:00:19       240,176 reads  @     81.0 µs/read;   0.74 M reads/minute\n",
      "[   8=-------] 00:00:11       146,520 reads  @     80.0 µs/read;   0.75 M reads/minute\n",
      "P8_rep4\n",
      "\u001b[32mImported /tmp/tmprha7k59v as MultiplexedPairedEndBarcodeInSequenceDirFmt to /tmp/tmprha7k59v/paired-end-demux.qza\u001b[0m\n",
      "[      8=----] 00:00:21       269,526 reads  @     81.6 µs/read;   0.74 M reads/minute\n",
      "[    8<------] 00:00:13       170,308 reads  @     81.3 µs/read;   0.74 M reads/minute\n",
      "P8_rep5\n",
      "\u001b[32mImported /tmp/tmp2nxnkena as MultiplexedPairedEndBarcodeInSequenceDirFmt to /tmp/tmp2nxnkena/paired-end-demux.qza\u001b[0m\n",
      "[       8<---] 00:00:23       282,343 reads  @     82.1 µs/read;   0.73 M reads/minute\n",
      "[    8<------] 00:00:13       168,188 reads  @     79.8 µs/read;   0.75 M reads/minute\n",
      "S10_rep1\n",
      "\u001b[32mImported /tmp/tmpldioivsw as MultiplexedPairedEndBarcodeInSequenceDirFmt to /tmp/tmpldioivsw/paired-end-demux.qza\u001b[0m\n",
      "[---------->8] 00:00:37       453,709 reads  @     82.2 µs/read;   0.73 M reads/minute\n",
      "[      8=----] 00:00:22       277,605 reads  @     82.5 µs/read;   0.73 M reads/minute\n",
      "S10_rep2\n",
      "\u001b[32mImported /tmp/tmp0f49__9_ as MultiplexedPairedEndBarcodeInSequenceDirFmt to /tmp/tmp0f49__9_/paired-end-demux.qza\u001b[0m\n",
      "[    8=------] 00:00:15       187,188 reads  @     83.2 µs/read;   0.72 M reads/minute\n",
      "[   8<-------] 00:00:10       124,136 reads  @     86.5 µs/read;   0.69 M reads/minute\n",
      "S10_rep3\n",
      "\u001b[32mImported /tmp/tmpzjztuuxt as MultiplexedPairedEndBarcodeInSequenceDirFmt to /tmp/tmpzjztuuxt/paired-end-demux.qza\u001b[0m\n",
      "[     8<-----] 00:00:17       210,872 reads  @     82.3 µs/read;   0.73 M reads/minute\n",
      "[   8=-------] 00:00:12       153,043 reads  @     80.0 µs/read;   0.75 M reads/minute\n",
      "S10_rep4\n",
      "\u001b[32mImported /tmp/tmpggk0s8rg as MultiplexedPairedEndBarcodeInSequenceDirFmt to /tmp/tmpggk0s8rg/paired-end-demux.qza\u001b[0m\n",
      "[    8<------] 00:00:13       168,181 reads  @     82.4 µs/read;   0.73 M reads/minute\n",
      "[  8=--------] 00:00:08       106,084 reads  @     82.8 µs/read;   0.72 M reads/minute\n",
      "S10_rep5\n",
      "\u001b[32mImported /tmp/tmpaaonj56e as MultiplexedPairedEndBarcodeInSequenceDirFmt to /tmp/tmpaaonj56e/paired-end-demux.qza\u001b[0m\n",
      "[ 8<---------] 00:00:04        58,730 reads  @     82.7 µs/read;   0.73 M reads/minute\n",
      "[8=----------] 00:00:03        38,888 reads  @     81.7 µs/read;   0.73 M reads/minute\n",
      "S7_rep1\n",
      "\u001b[32mImported /tmp/tmpibeka9r8 as MultiplexedPairedEndBarcodeInSequenceDirFmt to /tmp/tmpibeka9r8/paired-end-demux.qza\u001b[0m\n",
      "[   8=-------] 00:00:13       158,262 reads  @     84.4 µs/read;   0.71 M reads/minute\n",
      "[  8=--------] 00:00:08       100,012 reads  @     84.2 µs/read;   0.71 M reads/minute\n",
      "S7_rep2\n",
      "\u001b[32mImported /tmp/tmperiwjuk7 as MultiplexedPairedEndBarcodeInSequenceDirFmt to /tmp/tmperiwjuk7/paired-end-demux.qza\u001b[0m\n",
      "[         8=-] 00:00:31       388,170 reads  @     80.4 µs/read;   0.75 M reads/minute\n",
      "[     8=-----] 00:00:18       225,477 reads  @     81.4 µs/read;   0.74 M reads/minute\n",
      "S7_rep3\n",
      "\u001b[32mImported /tmp/tmp4zmf8fsj as MultiplexedPairedEndBarcodeInSequenceDirFmt to /tmp/tmp4zmf8fsj/paired-end-demux.qza\u001b[0m\n",
      "[         8<-] 00:00:29       361,970 reads  @     82.6 µs/read;   0.73 M reads/minute\n",
      "[     8<-----] 00:00:17       219,374 reads  @     82.0 µs/read;   0.73 M reads/minute\n",
      "S7_rep4\n",
      "\u001b[32mImported /tmp/tmpn71f366e as MultiplexedPairedEndBarcodeInSequenceDirFmt to /tmp/tmpn71f366e/paired-end-demux.qza\u001b[0m\n",
      "[----=8      ] 00:00:57       702,063 reads  @     81.6 µs/read;   0.74 M reads/minute\n",
      "[         8=-] 00:00:31       391,860 reads  @     80.8 µs/read;   0.74 M reads/minute\n",
      "S7_rep5\n",
      "\u001b[32mImported /tmp/tmpy8366vqj as MultiplexedPairedEndBarcodeInSequenceDirFmt to /tmp/tmpy8366vqj/paired-end-demux.qza\u001b[0m\n",
      "[       8=---] 00:00:26       315,400 reads  @     84.8 µs/read;   0.71 M reads/minute\n",
      "[     8<-----] 00:00:16       203,199 reads  @     82.3 µs/read;   0.73 M reads/minute\n",
      "S8_rep1\n",
      "\u001b[32mImported /tmp/tmp47k7vh82 as MultiplexedPairedEndBarcodeInSequenceDirFmt to /tmp/tmp47k7vh82/paired-end-demux.qza\u001b[0m\n",
      "[      8=----] 00:00:23       276,572 reads  @     84.2 µs/read;   0.71 M reads/minute\n",
      "[    8<------] 00:00:14       175,615 reads  @     82.0 µs/read;   0.73 M reads/minute\n",
      "S8_rep2\n",
      "\u001b[32mImported /tmp/tmpmnuw3zvr as MultiplexedPairedEndBarcodeInSequenceDirFmt to /tmp/tmpmnuw3zvr/paired-end-demux.qza\u001b[0m\n",
      "[   8=-------] 00:00:12       155,694 reads  @     79.6 µs/read;   0.75 M reads/minute\n",
      "[  8<--------] 00:00:07        92,433 reads  @     79.9 µs/read;   0.75 M reads/minute\n",
      "S8_rep3\n",
      "\u001b[32mImported /tmp/tmpkytlyarx as MultiplexedPairedEndBarcodeInSequenceDirFmt to /tmp/tmpkytlyarx/paired-end-demux.qza\u001b[0m\n",
      "[          8<] 00:00:35       419,296 reads  @     84.7 µs/read;   0.71 M reads/minute\n",
      "[         8<-] 00:00:31       364,547 reads  @     85.6 µs/read;   0.70 M reads/minute\n",
      "S8_rep4\n",
      "\u001b[32mImported /tmp/tmpkpnsrsl2 as MultiplexedPairedEndBarcodeInSequenceDirFmt to /tmp/tmpkpnsrsl2/paired-end-demux.qza\u001b[0m\n",
      "[    8<------] 00:00:14       176,534 reads  @     83.4 µs/read;   0.72 M reads/minute\n",
      "[  8=--------] 00:00:09       110,935 reads  @     82.5 µs/read;   0.73 M reads/minute\n",
      "S8_rep5\n",
      "\u001b[32mImported /tmp/tmpjq_i8x44 as MultiplexedPairedEndBarcodeInSequenceDirFmt to /tmp/tmpjq_i8x44/paired-end-demux.qza\u001b[0m\n",
      "[  8=--------] 00:00:08       102,752 reads  @     81.4 µs/read;   0.74 M reads/minute\n",
      "[ 8=---------] 00:00:05        65,644 reads  @     82.3 µs/read;   0.73 M reads/minute\n",
      "S9_rep1\n",
      "\u001b[32mImported /tmp/tmpiy20qkf8 as MultiplexedPairedEndBarcodeInSequenceDirFmt to /tmp/tmpiy20qkf8/paired-end-demux.qza\u001b[0m\n",
      "[  8=--------] 00:00:09       112,506 reads  @     83.8 µs/read;   0.72 M reads/minute\n",
      "[ 8=---------] 00:00:05        70,717 reads  @     81.9 µs/read;   0.73 M reads/minute\n",
      "S9_rep2\n",
      "\u001b[32mImported /tmp/tmpr4ya5xv4 as MultiplexedPairedEndBarcodeInSequenceDirFmt to /tmp/tmpr4ya5xv4/paired-end-demux.qza\u001b[0m\n",
      "[       8<---] 00:00:24       287,691 reads  @     83.5 µs/read;   0.72 M reads/minute\n",
      "[     8<-----] 00:00:16       201,508 reads  @     79.8 µs/read;   0.75 M reads/minute\n",
      "S9_rep3\n",
      "\u001b[32mImported /tmp/tmptal4naf5 as MultiplexedPairedEndBarcodeInSequenceDirFmt to /tmp/tmptal4naf5/paired-end-demux.qza\u001b[0m\n",
      "[    8=------] 00:00:15       190,188 reads  @     82.1 µs/read;   0.73 M reads/minute\n",
      "[   8<-------] 00:00:10       128,736 reads  @     84.5 µs/read;   0.71 M reads/minute\n",
      "S9_rep4\n",
      "\u001b[32mImported /tmp/tmpfo6mhb9s as MultiplexedPairedEndBarcodeInSequenceDirFmt to /tmp/tmpfo6mhb9s/paired-end-demux.qza\u001b[0m\n",
      "[   8=-------] 00:00:12       157,223 reads  @     82.6 µs/read;   0.73 M reads/minute\n",
      "[  8=--------] 00:00:08       103,154 reads  @     79.0 µs/read;   0.76 M reads/minute\n",
      "S9_rep5\n",
      "\u001b[32mImported /tmp/tmpphn9nian as MultiplexedPairedEndBarcodeInSequenceDirFmt to /tmp/tmpphn9nian/paired-end-demux.qza\u001b[0m\n",
      "[  8=--------] 00:00:09       113,062 reads  @     83.2 µs/read;   0.72 M reads/minute\n",
      "[ 8=---------] 00:00:05        68,116 reads  @     83.9 µs/read;   0.72 M reads/minute\n",
      "../data/qiime2/Psoil3_PE/raw_demux/\n",
      "Neg_rep1\n",
      "\u001b[32mImported /tmp/tmp320qrrte as MultiplexedPairedEndBarcodeInSequenceDirFmt to /tmp/tmp320qrrte/paired-end-demux.qza\u001b[0m\n",
      "[  8<--------] 00:00:05        88,581 reads  @     66.3 µs/read;   0.91 M reads/minute\n",
      "[ 8=---------] 00:00:04        78,820 reads  @     61.8 µs/read;   0.97 M reads/minute\n",
      "P9_rep1\n",
      "\u001b[32mImported /tmp/tmpqgbbzl06 as MultiplexedPairedEndBarcodeInSequenceDirFmt to /tmp/tmpqgbbzl06/paired-end-demux.qza\u001b[0m\n",
      "[       8<---] 00:00:23       293,815 reads  @     80.8 µs/read;   0.74 M reads/minute\n",
      "[     8=-----] 00:00:17       222,275 reads  @     77.9 µs/read;   0.77 M reads/minute\n",
      "P9_rep2\n",
      "\u001b[32mImported /tmp/tmpaea0fn2h as MultiplexedPairedEndBarcodeInSequenceDirFmt to /tmp/tmpaea0fn2h/paired-end-demux.qza\u001b[0m\n",
      "[    8<------] 00:00:13       167,749 reads  @     83.3 µs/read;   0.72 M reads/minute\n",
      "[   8<-------] 00:00:11       133,984 reads  @     82.1 µs/read;   0.73 M reads/minute\n",
      "P9_rep3\n",
      "\u001b[32mImported /tmp/tmp7a7e32jg as MultiplexedPairedEndBarcodeInSequenceDirFmt to /tmp/tmp7a7e32jg/paired-end-demux.qza\u001b[0m\n",
      "[----=8      ] 00:00:57       709,250 reads  @     81.2 µs/read;   0.74 M reads/minute\n",
      "[---------->8] 00:00:36       448,650 reads  @     80.7 µs/read;   0.74 M reads/minute\n",
      "P9_rep4\n",
      "\u001b[32mImported /tmp/tmphl9sbzlm as MultiplexedPairedEndBarcodeInSequenceDirFmt to /tmp/tmphl9sbzlm/paired-end-demux.qza\u001b[0m\n",
      "[=8          ] 00:01:13       877,170 reads  @     83.3 µs/read;   0.72 M reads/minute\n",
      "[------=8    ] 00:00:51       628,991 reads  @     81.6 µs/read;   0.74 M reads/minute\n",
      "P9_rep5\n",
      "\u001b[32mImported /tmp/tmpgd3pal9b as MultiplexedPairedEndBarcodeInSequenceDirFmt to /tmp/tmpgd3pal9b/paired-end-demux.qza\u001b[0m\n",
      "[---------=8 ] 00:00:40       500,023 reads  @     80.5 µs/read;   0.75 M reads/minute\n",
      "[        8=--] 00:00:27       352,372 reads  @     77.1 µs/read;   0.78 M reads/minute\n",
      "Pmix_rep1\n",
      "\u001b[32mImported /tmp/tmpn7r7snyk as MultiplexedPairedEndBarcodeInSequenceDirFmt to /tmp/tmpn7r7snyk/paired-end-demux.qza\u001b[0m\n",
      "[   8<-------] 00:00:09       137,039 reads  @     71.6 µs/read;   0.84 M reads/minute\n",
      "[  8<--------] 00:00:06        91,006 reads  @     74.4 µs/read;   0.81 M reads/minute\n",
      "Pmix_rep2\n",
      "\u001b[32mImported /tmp/tmpa2t74_hk as MultiplexedPairedEndBarcodeInSequenceDirFmt to /tmp/tmpa2t74_hk/paired-end-demux.qza\u001b[0m\n",
      "[       8=---] 00:00:19       309,804 reads  @     63.0 µs/read;   0.95 M reads/minute\n",
      "[    8<------] 00:00:10       164,394 reads  @     62.6 µs/read;   0.96 M reads/minute\n",
      "Pmix_rep3\n",
      "\u001b[32mImported /tmp/tmpicmlfj2l as MultiplexedPairedEndBarcodeInSequenceDirFmt to /tmp/tmpicmlfj2l/paired-end-demux.qza\u001b[0m\n",
      "[       8<---] 00:00:23       291,206 reads  @     80.7 µs/read;   0.74 M reads/minute\n",
      "[      8<----] 00:00:21       258,355 reads  @     82.8 µs/read;   0.72 M reads/minute\n",
      "Pmix_rep4\n",
      "\u001b[32mImported /tmp/tmpuk9zj5vs as MultiplexedPairedEndBarcodeInSequenceDirFmt to /tmp/tmpuk9zj5vs/paired-end-demux.qza\u001b[0m\n",
      "[         8=-] 00:00:24       395,783 reads  @     62.6 µs/read;   0.96 M reads/minute\n",
      "[     8<-----] 00:00:13       217,108 reads  @     63.7 µs/read;   0.94 M reads/minute\n",
      "Pmix_rep5\n",
      "\u001b[32mImported /tmp/tmp854bedqc as MultiplexedPairedEndBarcodeInSequenceDirFmt to /tmp/tmp854bedqc/paired-end-demux.qza\u001b[0m\n",
      "[       8=---] 00:00:20       305,874 reads  @     65.7 µs/read;   0.91 M reads/minute\n",
      "[    8<------] 00:00:11       173,138 reads  @     64.4 µs/read;   0.93 M reads/minute\n",
      "Swb_rep1\n",
      "\u001b[32mImported /tmp/tmpzt01kipo as MultiplexedPairedEndBarcodeInSequenceDirFmt to /tmp/tmpzt01kipo/paired-end-demux.qza\u001b[0m\n",
      "[     8<-----] 00:00:17       218,661 reads  @     78.5 µs/read;   0.76 M reads/minute\n",
      "[    8<------] 00:00:13       175,500 reads  @     77.5 µs/read;   0.77 M reads/minute\n",
      "Swb_rep2\n",
      "\u001b[32mImported /tmp/tmpvkxxfezm as MultiplexedPairedEndBarcodeInSequenceDirFmt to /tmp/tmpvkxxfezm/paired-end-demux.qza\u001b[0m\n",
      "[    8<------] 00:00:13       166,878 reads  @     79.7 µs/read;   0.75 M reads/minute\n",
      "[   8<-------] 00:00:10       137,574 reads  @     78.8 µs/read;   0.76 M reads/minute\n",
      "Swb_rep3\n",
      "\u001b[32mImported /tmp/tmpw3fz82k9 as MultiplexedPairedEndBarcodeInSequenceDirFmt to /tmp/tmpw3fz82k9/paired-end-demux.qza\u001b[0m\n",
      "[  8=--------] 00:00:07       100,926 reads  @     77.0 µs/read;   0.78 M reads/minute\n",
      "[ 8=---------] 00:00:05        78,830 reads  @     75.5 µs/read;   0.79 M reads/minute\n",
      "Swc_rep1\n",
      "\u001b[32mImported /tmp/tmp1v0tgaa8 as MultiplexedPairedEndBarcodeInSequenceDirFmt to /tmp/tmp1v0tgaa8/paired-end-demux.qza\u001b[0m\n",
      "[ 8<---------] 00:00:04        47,610 reads  @     86.4 µs/read;   0.69 M reads/minute\n",
      "[ 8<---------] 00:00:03        46,249 reads  @     86.1 µs/read;   0.70 M reads/minute\n",
      "Swc_rep2\n",
      "\u001b[32mImported /tmp/tmpzbo0c680 as MultiplexedPairedEndBarcodeInSequenceDirFmt to /tmp/tmpzbo0c680/paired-end-demux.qza\u001b[0m\n",
      "[   8=-------] 00:00:12       152,776 reads  @     84.5 µs/read;   0.71 M reads/minute\n",
      "[   8=-------] 00:00:12       149,904 reads  @     81.1 µs/read;   0.74 M reads/minute\n",
      "Swc_rep3\n",
      "\u001b[32mImported /tmp/tmpw5s5bp32 as MultiplexedPairedEndBarcodeInSequenceDirFmt to /tmp/tmpw5s5bp32/paired-end-demux.qza\u001b[0m\n",
      "[   8<-------] 00:00:09       124,088 reads  @     79.6 µs/read;   0.75 M reads/minute\n",
      "[  8=--------] 00:00:08       100,825 reads  @     80.8 µs/read;   0.74 M reads/minute\n",
      "Swo_rep1\n",
      "\u001b[32mImported /tmp/tmp2r8qiwpx as MultiplexedPairedEndBarcodeInSequenceDirFmt to /tmp/tmp2r8qiwpx/paired-end-demux.qza\u001b[0m\n",
      "[  8<--------] 00:00:07        91,920 reads  @     76.7 µs/read;   0.78 M reads/minute\n",
      "[ 8=---------] 00:00:05        67,509 reads  @     77.8 µs/read;   0.77 M reads/minute\n",
      "Swo_rep2\n",
      "\u001b[32mImported /tmp/tmpo7il1y3a as MultiplexedPairedEndBarcodeInSequenceDirFmt to /tmp/tmpo7il1y3a/paired-end-demux.qza\u001b[0m\n",
      "[ 8<---------] 00:00:04        52,335 reads  @     82.0 µs/read;   0.73 M reads/minute\n",
      "[ 8<---------] 00:00:03        48,246 reads  @     79.6 µs/read;   0.75 M reads/minute\n",
      "Swo_rep3\n",
      "\u001b[32mImported /tmp/tmp28jdlhx_ as MultiplexedPairedEndBarcodeInSequenceDirFmt to /tmp/tmp28jdlhx_/paired-end-demux.qza\u001b[0m\n",
      "[8=----------] 00:00:02        24,452 reads  @     84.6 µs/read;   0.71 M reads/minute\n",
      "[8=----------] 00:00:02        24,395 reads  @     84.2 µs/read;   0.71 M reads/minute\n"
     ]
    }
   ],
   "source": [
    "for i in range(2):\n",
    "    path = '../data/qiime2/Psoil'+str(i+2)+'_PE/raw_demux/'\n",
    "    primer = 'CCTACGGGNGGCWGCAG'\n",
    "    outdir = '../data/qiime2/Psoil'+str(i+2)+'_PE/'\n",
    "    print(path)\n",
    "    fix_mixed_orientation(path, primer, outdir)"
   ]
  },
  {
   "cell_type": "code",
   "execution_count": null,
   "metadata": {},
   "outputs": [
    {
     "name": "stdout",
     "output_type": "stream",
     "text": [
      "../data/qiime2/Psoil2_PE\n",
      "mkdir: cannot create directory ‘../data/qiime2/Psoil2_PE/cleaned’: File exists\n",
      "P5_rep1\n",
      "../data/qiime2/Psoil2_PE/reorient/P5_rep1-demux.qza\n",
      "\u001b[32mExported ../data/qiime2/Psoil2_PE/reorient/P5_rep1-demux.qza as SingleLanePerSamplePairedEndFastqDirFmt to directory tmp\u001b[0m\n",
      "cutadapt\n",
      "[   8=-------] 00:00:11       151,668 reads  @     77.8 µs/read;   0.77 M reads/minute\n",
      "\u001b[32mExported ../data/qiime2/Psoil2_PE/cleaned/P5_rep1-trimmed.qza as SingleLanePerSamplePairedEndFastqDirFmt to directory tmp2\u001b[0m\n",
      "P5_rep2\n",
      "../data/qiime2/Psoil2_PE/reorient/P5_rep2-demux.qza\n",
      "\u001b[32mExported ../data/qiime2/Psoil2_PE/reorient/P5_rep2-demux.qza as SingleLanePerSamplePairedEndFastqDirFmt to directory tmp\u001b[0m\n",
      "cutadapt\n",
      "[      8=----] 00:00:21       262,531 reads  @     80.5 µs/read;   0.75 M reads/minute\n",
      "\u001b[32mExported ../data/qiime2/Psoil2_PE/cleaned/P5_rep2-trimmed.qza as SingleLanePerSamplePairedEndFastqDirFmt to directory tmp2\u001b[0m\n",
      "P5_rep3\n",
      "../data/qiime2/Psoil2_PE/reorient/P5_rep3-demux.qza\n",
      "\u001b[32mExported ../data/qiime2/Psoil2_PE/reorient/P5_rep3-demux.qza as SingleLanePerSamplePairedEndFastqDirFmt to directory tmp\u001b[0m\n",
      "cutadapt\n",
      "[  8=--------] 00:00:08       103,716 reads  @     77.9 µs/read;   0.77 M reads/minute\n",
      "\u001b[32mExported ../data/qiime2/Psoil2_PE/cleaned/P5_rep3-trimmed.qza as SingleLanePerSamplePairedEndFastqDirFmt to directory tmp2\u001b[0m\n",
      "P5_rep4\n",
      "../data/qiime2/Psoil2_PE/reorient/P5_rep4-demux.qza\n",
      "\u001b[32mExported ../data/qiime2/Psoil2_PE/reorient/P5_rep4-demux.qza as SingleLanePerSamplePairedEndFastqDirFmt to directory tmp\u001b[0m\n",
      "cutadapt\n",
      "[     8=-----] 00:00:17       222,084 reads  @     79.4 µs/read;   0.76 M reads/minute\n",
      "\u001b[32mExported ../data/qiime2/Psoil2_PE/cleaned/P5_rep4-trimmed.qza as SingleLanePerSamplePairedEndFastqDirFmt to directory tmp2\u001b[0m\n",
      "P5_rep5\n",
      "../data/qiime2/Psoil2_PE/reorient/P5_rep5-demux.qza\n",
      "\u001b[32mExported ../data/qiime2/Psoil2_PE/reorient/P5_rep5-demux.qza as SingleLanePerSamplePairedEndFastqDirFmt to directory tmp\u001b[0m\n",
      "cutadapt\n",
      "[    8<------] 00:00:13       170,151 reads  @     80.3 µs/read;   0.75 M reads/minute\n",
      "\u001b[32mExported ../data/qiime2/Psoil2_PE/cleaned/P5_rep5-trimmed.qza as SingleLanePerSamplePairedEndFastqDirFmt to directory tmp2\u001b[0m\n",
      "P8_rep1\n",
      "../data/qiime2/Psoil2_PE/reorient/P8_rep1-demux.qza\n",
      "\u001b[32mExported ../data/qiime2/Psoil2_PE/reorient/P8_rep1-demux.qza as SingleLanePerSamplePairedEndFastqDirFmt to directory tmp\u001b[0m\n",
      "cutadapt\n",
      "[ 8=---------] 00:00:04        84,990 reads  @     49.8 µs/read;   1.21 M reads/minute\n",
      "\u001b[32mExported ../data/qiime2/Psoil2_PE/cleaned/P8_rep1-trimmed.qza as SingleLanePerSamplePairedEndFastqDirFmt to directory tmp2\u001b[0m\n",
      "P8_rep2\n",
      "../data/qiime2/Psoil2_PE/reorient/P8_rep2-demux.qza\n",
      "\u001b[32mExported ../data/qiime2/Psoil2_PE/reorient/P8_rep2-demux.qza as SingleLanePerSamplePairedEndFastqDirFmt to directory tmp\u001b[0m\n",
      "cutadapt\n",
      "[       8=---] 00:00:24       306,513 reads  @     80.2 µs/read;   0.75 M reads/minute\n",
      "\u001b[32mExported ../data/qiime2/Psoil2_PE/cleaned/P8_rep2-trimmed.qza as SingleLanePerSamplePairedEndFastqDirFmt to directory tmp2\u001b[0m\n",
      "P8_rep3\n",
      "../data/qiime2/Psoil2_PE/reorient/P8_rep3-demux.qza\n",
      "\u001b[32mExported ../data/qiime2/Psoil2_PE/reorient/P8_rep3-demux.qza as SingleLanePerSamplePairedEndFastqDirFmt to directory tmp\u001b[0m\n",
      "cutadapt\n",
      "[     8<-----] 00:00:14       200,547 reads  @     73.8 µs/read;   0.81 M reads/minute\n",
      "\u001b[32mExported ../data/qiime2/Psoil2_PE/cleaned/P8_rep3-trimmed.qza as SingleLanePerSamplePairedEndFastqDirFmt to directory tmp2\u001b[0m\n",
      "P8_rep4\n",
      "../data/qiime2/Psoil2_PE/reorient/P8_rep4-demux.qza\n",
      "\u001b[32mExported ../data/qiime2/Psoil2_PE/reorient/P8_rep4-demux.qza as SingleLanePerSamplePairedEndFastqDirFmt to directory tmp\u001b[0m\n",
      "cutadapt\n",
      "[     8=-----] 00:00:17       221,265 reads  @     77.6 µs/read;   0.77 M reads/minute\n",
      "\u001b[32mExported ../data/qiime2/Psoil2_PE/cleaned/P8_rep4-trimmed.qza as SingleLanePerSamplePairedEndFastqDirFmt to directory tmp2\u001b[0m\n",
      "P8_rep5\n",
      "../data/qiime2/Psoil2_PE/reorient/P8_rep5-demux.qza\n",
      "\u001b[32mExported ../data/qiime2/Psoil2_PE/reorient/P8_rep5-demux.qza as SingleLanePerSamplePairedEndFastqDirFmt to directory tmp\u001b[0m\n",
      "cutadapt\n",
      "[     8=-----] 00:00:18       237,915 reads  @     77.5 µs/read;   0.77 M reads/minute\n",
      "\u001b[32mExported ../data/qiime2/Psoil2_PE/cleaned/P8_rep5-trimmed.qza as SingleLanePerSamplePairedEndFastqDirFmt to directory tmp2\u001b[0m\n"
     ]
    }
   ],
   "source": [
    "def clean_reverse_primer(path, primer):\n",
    "    df = pd.read_csv(os.path.join(path, 'manifest.txt'), sep='\\t')\n",
    "\n",
    "    ! mkdir {path}/cleaned\n",
    "\n",
    "    for i in df['sample-id']:\n",
    "        print(i)\n",
    "        with tempfile.TemporaryDirectory() as tmp:\n",
    "            ! echo {path}/reorient/{i}-demux.qza\n",
    "            ! qiime tools export \\\n",
    "                --input-path {path}/reorient/{i}-demux.qza \\\n",
    "                --output-path tmp\n",
    "            ! fastqc tmp/*.fastq.gz -o {path}/reorient -q\n",
    "            print('cutadapt')\n",
    "            ! qiime cutadapt trim-paired \\\n",
    "                --i-demultiplexed-sequences {path}/reorient/{i}-demux.qza \\\n",
    "                --p-front-r {primer} \\\n",
    "                --p-discard-untrimmed \\\n",
    "                --p-minimum-length 150 \\\n",
    "                --p-error-rate 0.1 \\\n",
    "                --o-trimmed-sequences {path}/cleaned/{i}-trimmed.qza \\\n",
    "                --verbose > {path}/cleaned/{i}-cutadapt.log\n",
    "\n",
    "        with tempfile.TemporaryDirectory() as tmp2:\n",
    "            ! qiime tools export \\\n",
    "                --input-path {path}/cleaned/{i}-trimmed.qza \\\n",
    "                --output-path tmp2\n",
    "            ! fastqc tmp2/*.fastq.gz -q -o {path}/cleaned -q\n",
    "    return\n",
    "\n",
    "for i in range(2):\n",
    "    path = '../data/qiime2/Psoil'+str(i+2)+'_PE'\n",
    "    primer = 'GACTACHVGGGTATCTAATCC'\n",
    "    print(path)\n",
    "    clean_reverse_primer(path, primer)"
   ]
  },
  {
   "cell_type": "code",
   "execution_count": 5,
   "metadata": {},
   "outputs": [
    {
     "name": "stdout",
     "output_type": "stream",
     "text": [
      "Usage: \u001b[34mqiime feature-table merge-seqs\u001b[0m [OPTIONS]\n",
      "\n",
      "  Combines feature data objects which may or may not contain data for the\n",
      "  same features. If different feature data is present for the same feature\n",
      "  id in the inputs, the data from the first will be propagated to the\n",
      "  result.\n",
      "\n",
      "\u001b[1mInputs\u001b[0m:\n",
      "  \u001b[34m\u001b[4m--i-data\u001b[0m ARTIFACTS... \u001b[32mList[FeatureData[Sequence]]\u001b[0m\n",
      "                         The collection of feature sequences to be merged.\n",
      "                                                                    \u001b[35m[required]\u001b[0m\n",
      "\u001b[1mOutputs\u001b[0m:\n",
      "  \u001b[34m\u001b[4m--o-merged-data\u001b[0m ARTIFACT \u001b[32mFeatureData[Sequence]\u001b[0m\n",
      "                         The resulting collection of feature sequences\n",
      "                         containing all feature sequences provided. \u001b[35m[required]\u001b[0m\n",
      "\u001b[1mMiscellaneous\u001b[0m:\n",
      "  \u001b[34m--output-dir\u001b[0m PATH      Output unspecified results to a directory\n",
      "  \u001b[34m--verbose\u001b[0m / \u001b[34m--quiet\u001b[0m    Display verbose output to stdout and/or stderr\n",
      "                         during execution of this action. Or silence output if\n",
      "                         execution is successful (silence is golden).\n",
      "  \u001b[34m--examples\u001b[0m             Show usage examples and exit.\n",
      "  \u001b[34m--citations\u001b[0m            Show citations and exit.\n",
      "  \u001b[34m--help\u001b[0m                 Show this message and exit.\n",
      "\n",
      "\u001b[33m                    There was a problem with the command:                     \u001b[0m\n",
      "\u001b[31m\u001b[1m (1/1) Invalid value for '--i-data': received\n",
      "  <SampleData[PairedEndSequencesWithQuality],\n",
      "  SampleData[PairedEndSequencesWithQuality]> as an argument, which is\n",
      "  incompatible with parameter type: List[FeatureData[Sequence]]\u001b[0m\n"
     ]
    }
   ],
   "source": [
    "# merge\n",
    "! qiime feature-table merge-seqs \\\n",
    "    --i-data ../data/qiime2/Psoil1_PE/cleaned/S6_rep1-trimmed.qza ../data/qiime2/Psoil1_PE/cleaned/S6_rep2-trimmed.qza \\\n",
    "    --o-merged-data ../data/tryout.qza"
   ]
  },
  {
   "cell_type": "markdown",
   "metadata": {},
   "source": [
    "<a id='section2'></a>\n",
    "## Denoising"
   ]
  },
  {
   "cell_type": "code",
   "execution_count": 25,
   "metadata": {},
   "outputs": [],
   "source": [
    "def denoise(path):\n",
    "    ! qiime dada2 denoise-paired \\\n",
    "        --i-demultiplexed-seqs {path}/demux-0.1.qza \\\n",
    "        --p-trim-left-f 12 \\\n",
    "        --p-trim-left-r 29 \\\n",
    "        --p-trunc-len-f 200 \\\n",
    "        --p-trunc-len-r 250 \\\n",
    "        --p-n-threads 6 \\\n",
    "        --o-table {path}/table-0.1.qza \\\n",
    "        --o-representative-sequences {path}/rep-seqs-0.1.qza \\\n",
    "        --o-denoising-stats {path}/denoising-stats-0.1.qza \\\n",
    "        --verbose\n",
    "    return"
   ]
  },
  {
   "cell_type": "code",
   "execution_count": 9,
   "metadata": {},
   "outputs": [],
   "source": [
    "# sample 3 contains runs that are not part of the data, so we need to clean it up first\n",
    "## create metadata for filtering\n",
    "df_psoil3 = pd.read_csv('../data/metadata/psoil3_metadata_fwd.tsv', delimiter='\\t')\n",
    "sample = ['P9', 'Pmix', 'Neg']\n",
    "df_psoil3 = df_psoil3[df_psoil3.Sample.isin(sample)]\n",
    "df_psoil3.to_csv('../data/metadata/psoil3_metadata_fwd_filtered.tsv', sep='\\t', index=False) #write into tsv file\n",
    "## filtering using qiime2\n",
    "! mv ../data/qiime2/Psoil3_PE/demux-0.1.qza ../data/qiime2/Psoil3_PE/demux-0.1-unfiltered.qza\n",
    "! mv ../data/metadata/psoil3_metadata_fwd.tsv ../data/metadata/psoil3_metadata_fwd_unfiltered.tsv\n",
    "! mv ../data/metadata/psoil3_metadata_fwd_filtered.tsv ../data/metadata/psoil3_metadata_fwd.tsv"
   ]
  },
  {
   "cell_type": "code",
   "execution_count": null,
   "metadata": {},
   "outputs": [],
   "source": [
    "## filtering using qiime2\n",
    "! qiime demux filter-samples \\\n",
    "    --i-demux ./data/qiime2/Psoil3_PE/demux-0.1-unfiltered.qza \\\n",
    "    --m-metadata-file ../data/metadata/psoil3_metadata_fwd.tsv \\\n",
    "    --o-filtered-demux ../data/qiime2/Psoil3_PE/demux-0.1.qza \\\n",
    "    --verbose"
   ]
  },
  {
   "cell_type": "code",
   "execution_count": 30,
   "metadata": {},
   "outputs": [
    {
     "name": "stdout",
     "output_type": "stream",
     "text": [
      "already denoised ../data/qiime2/Psoil2_PE\n",
      "already denoised ../data/qiime2/Psoil1_PE\n",
      "already denoised ../data/qiime2/Psoil3_PE\n"
     ]
    }
   ],
   "source": [
    "# run denoising for all samples\n",
    "paths = [os.path.join('../data/qiime2', i) for i in os.listdir('../data/qiime2') if os.path.isdir(os.path.join('../data/qiime2', i))]\n",
    "paths = [i for i in paths if i.endswith('PE')]\n",
    "for num, i in enumerate(paths):\n",
    "    pe = os.path.join(i, 'demux-0.1.qza')\n",
    "    if 'rep-seqs-0.1.qza' in os.listdir(i):\n",
    "        print('already denoised', i)\n",
    "        pass\n",
    "    else:\n",
    "        print('denoising', i)\n",
    "        denoise(i)"
   ]
  },
  {
   "cell_type": "raw",
   "metadata": {},
   "source": [
    "df = pd.read_csv('metadata/psoil2_metadata_fwd.tsv', sep='\\t')\n",
    "df['#SampleID'] = df['#SampleID'].str.replace('_','-')\n",
    "df.to_csv('metadata/psoil2_metadata_fwd.tsv', sep='\\t', index=False) #write into tsv file"
   ]
  },
  {
   "cell_type": "code",
   "execution_count": 22,
   "metadata": {},
   "outputs": [
    {
     "name": "stdout",
     "output_type": "stream",
     "text": [
      "\u001b[32mSaved Visualization to: qiime2/Psoil1_PE/table-0.1.qzv\u001b[0m\n",
      "\u001b[32mSaved Visualization to: qiime2/Psoil1_PE/rep-seqs-0.1.qzv\u001b[0m\n",
      "\u001b[32mSaved Visualization to: qiime2/Psoil1_PE/denoising-stats-0.1.qzv\u001b[0m\n",
      "\u001b[32mSaved Visualization to: qiime2/Psoil2_PE/table-0.1.qzv\u001b[0m\n",
      "\u001b[32mSaved Visualization to: qiime2/Psoil2_PE/rep-seqs-0.1.qzv\u001b[0m\n",
      "\u001b[32mSaved Visualization to: qiime2/Psoil2_PE/denoising-stats-0.1.qzv\u001b[0m\n",
      "\u001b[32mSaved Visualization to: qiime2/Psoil3_PE/table-0.1.qzv\u001b[0m\n",
      "\u001b[32mSaved Visualization to: qiime2/Psoil3_PE/rep-seqs-0.1.qzv\u001b[0m\n",
      "\u001b[32mSaved Visualization to: qiime2/Psoil3_PE/denoising-stats-0.1.qzv\u001b[0m\n"
     ]
    }
   ],
   "source": [
    "# summarizing denoising results\n",
    "# summarize\n",
    "for i in range(3):   \n",
    "    ! qiime feature-table summarize \\\n",
    "        --i-table ../data/qiime2/Psoil{i+1}_PE/table-0.1.qza \\\n",
    "        --o-visualization ../data/qiime2/Psoil{i+1}_PE/table-0.1.qzv \\\n",
    "        --m-sample-metadata-file ../data/metadata/psoil{i+1}_metadata_fwd.tsv\n",
    "\n",
    "    ! qiime feature-table tabulate-seqs \\\n",
    "        --i-data ../data/qiime2/Psoil{i+1}_PE/rep-seqs-0.1.qza \\\n",
    "        --o-visualization ../data/qiime2/Psoil{i+1}_PE/rep-seqs-0.1.qzv\n",
    "\n",
    "    ! qiime metadata tabulate \\\n",
    "        --m-input-file ../data/qiime2/Psoil{i+1}_PE/denoising-stats-0.1.qza \\\n",
    "        --o-visualization ../data/qiime2/Psoil{i+1}_PE/denoising-stats-0.1.qzv"
   ]
  },
  {
   "cell_type": "markdown",
   "metadata": {},
   "source": [
    "<a id='section4'></a>\n",
    "## Merge Outputs"
   ]
  },
  {
   "cell_type": "code",
   "execution_count": 24,
   "metadata": {},
   "outputs": [
    {
     "name": "stdout",
     "output_type": "stream",
     "text": [
      "\u001b[32mSaved FeatureTable[Frequency] to: qiime2/table.qza\u001b[0m\n",
      "\u001b[32mSaved FeatureData[Sequence] to: qiime2/rep-seqs.qza\u001b[0m\n"
     ]
    }
   ],
   "source": [
    "! qiime feature-table merge \\\n",
    "  --i-tables ../data/qiime2/Psoil1_PE/table-0.1.qza \\\n",
    "  --i-tables ../data/qiime2/Psoil2_PE/table-0.1.qza \\\n",
    "  --i-tables ../data/qiime2/Psoil3_PE/table-0.1.qza \\\n",
    "  --o-merged-table ../data/qiime2/table.qza\n",
    "\n",
    "! qiime feature-table merge-seqs \\\n",
    "  --i-data ../data/qiime2/Psoil1_PE/rep-seqs-0.1.qza \\\n",
    "  --i-data ../data/qiime2/Psoil2_PE/rep-seqs-0.1.qza \\\n",
    "  --i-data ../data/qiime2/Psoil3_PE/rep-seqs-0.1.qza \\\n",
    "  --o-merged-data ../data/qiime2/rep-seqs.qza"
   ]
  },
  {
   "cell_type": "code",
   "execution_count": 32,
   "metadata": {},
   "outputs": [],
   "source": [
    "df1 = pd.read_csv('../data/metadata/psoil1_metadata_fwd.tsv', sep='\\t')\n",
    "df2 = pd.read_csv('../data/metadata/psoil2_metadata_fwd.tsv', sep='\\t')\n",
    "df3 = pd.read_csv('../data/metadata/psoil3_metadata_fwd.tsv', sep='\\t')\n",
    "df = df1.append([df2, df3])\n",
    "df.to_csv('../data/metadata/sample-metadata.tsv', sep='\\t', index=False) #write into tsv file"
   ]
  },
  {
   "cell_type": "code",
   "execution_count": 33,
   "metadata": {},
   "outputs": [
    {
     "name": "stdout",
     "output_type": "stream",
     "text": [
      "\u001b[32mSaved Visualization to: qiime2/table.qzv\u001b[0m\n",
      "\u001b[32mSaved Visualization to: qiime2/rep-seqs.qzv\u001b[0m\n"
     ]
    }
   ],
   "source": [
    "! qiime feature-table summarize \\\n",
    "    --i-table ../data/qiime2/table.qza \\\n",
    "    --o-visualization ../data/qiime2/table.qzv \\\n",
    "    --m-sample-metadata-file ../data/metadata/sample-metadata.tsv\n",
    "\n",
    "! qiime feature-table tabulate-seqs \\\n",
    "    --i-data ../data/qiime2/rep-seqs.qza \\\n",
    "    --o-visualization ../data/qiime2/rep-seqs.qzv"
   ]
  },
  {
   "cell_type": "code",
   "execution_count": 31,
   "metadata": {},
   "outputs": [
    {
     "data": {
      "text/html": [
       "<div><img onload=\"(function(div, url){\n",
       "if (typeof require !== 'undefined') {\n",
       "    var baseURL = require.toUrl('').split('/').slice(0, -2).join('/');\n",
       "} else {\n",
       "    var baseURL = JSON.parse(\n",
       "        document.getElementById('jupyter-config-data').innerHTML\n",
       "    ).baseUrl.slice(0, -1);\n",
       "}\n",
       "url = baseURL + url;\n",
       "fetch(url).then(function(res) {\n",
       "    if (res.status === 404) {\n",
       "        div.innerHTML = 'Install QIIME 2 Jupyter extension with:<br />' +\n",
       "                        '<code>jupyter serverextension enable --py qiime2' +\n",
       "                        ' --sys-prefix</code><br />then restart your server.' +\n",
       "                        '<br /><br />(Interactive output not available on ' +\n",
       "                        'static notebook viewer services like nbviewer.)';\n",
       "    } else if (res.status === 409) {\n",
       "        div.innerHTML = 'Visualization no longer in scope. Re-run this cell' +\n",
       "                        ' to see the visualization.';\n",
       "    } else if (res.ok) {\n",
       "        url = res.url;\n",
       "        div.innerHTML = '<iframe src=\\'' + url + '\\' style=\\'' +\n",
       "                        'width: 100%; height: 700px; border: 0;\\'>' +\n",
       "                        '</iframe><hr />Open in a: <a href=\\'' + url + '\\'' +\n",
       "                        ' target=\\'_blank\\'>new window</a>'\n",
       "    } else {\n",
       "        div.innerHTML = 'Something has gone wrong. Check notebook server for' +\n",
       "                        ' errors.';\n",
       "    }\n",
       "});\n",
       "})(this.parentElement, '/qiime2/redirect?location=/tmp/qiime2-archive-e7s3hzbh')\" src=\"data:image/gif;base64,R0lGODlhAQABAIAAAP///wAAACH5BAEAAAAALAAAAAABAAEAAAICRAEAOw==\" /></div>"
      ],
      "text/plain": [
       "<visualization: Visualization uuid: dfcc0943-7407-4519-98d9-e62faab82e08>"
      ]
     },
     "execution_count": 31,
     "metadata": {},
     "output_type": "execute_result"
    }
   ],
   "source": [
    "Visualization.load('../data/qiime2/table.qzv')"
   ]
  },
  {
   "cell_type": "code",
   "execution_count": 32,
   "metadata": {},
   "outputs": [
    {
     "data": {
      "text/html": [
       "<div><img onload=\"(function(div, url){\n",
       "if (typeof require !== 'undefined') {\n",
       "    var baseURL = require.toUrl('').split('/').slice(0, -2).join('/');\n",
       "} else {\n",
       "    var baseURL = JSON.parse(\n",
       "        document.getElementById('jupyter-config-data').innerHTML\n",
       "    ).baseUrl.slice(0, -1);\n",
       "}\n",
       "url = baseURL + url;\n",
       "fetch(url).then(function(res) {\n",
       "    if (res.status === 404) {\n",
       "        div.innerHTML = 'Install QIIME 2 Jupyter extension with:<br />' +\n",
       "                        '<code>jupyter serverextension enable --py qiime2' +\n",
       "                        ' --sys-prefix</code><br />then restart your server.' +\n",
       "                        '<br /><br />(Interactive output not available on ' +\n",
       "                        'static notebook viewer services like nbviewer.)';\n",
       "    } else if (res.status === 409) {\n",
       "        div.innerHTML = 'Visualization no longer in scope. Re-run this cell' +\n",
       "                        ' to see the visualization.';\n",
       "    } else if (res.ok) {\n",
       "        url = res.url;\n",
       "        div.innerHTML = '<iframe src=\\'' + url + '\\' style=\\'' +\n",
       "                        'width: 100%; height: 700px; border: 0;\\'>' +\n",
       "                        '</iframe><hr />Open in a: <a href=\\'' + url + '\\'' +\n",
       "                        ' target=\\'_blank\\'>new window</a>'\n",
       "    } else {\n",
       "        div.innerHTML = 'Something has gone wrong. Check notebook server for' +\n",
       "                        ' errors.';\n",
       "    }\n",
       "});\n",
       "})(this.parentElement, '/qiime2/redirect?location=/tmp/qiime2-archive-v6l61eev')\" src=\"data:image/gif;base64,R0lGODlhAQABAIAAAP///wAAACH5BAEAAAAALAAAAAABAAEAAAICRAEAOw==\" /></div>"
      ],
      "text/plain": [
       "<visualization: Visualization uuid: e5966c42-af5c-4d7e-8036-a0a3da05dda5>"
      ]
     },
     "execution_count": 32,
     "metadata": {},
     "output_type": "execute_result"
    }
   ],
   "source": [
    "Visualization.load('../data/qiime2/rep-seqs.qzv')"
   ]
  },
  {
   "cell_type": "code",
   "execution_count": 6,
   "metadata": {},
   "outputs": [],
   "source": [
    "! biom add-metadata \\\n",
    "    -i ../../clean_run/data/qiime2/filtered/exported-feature-table/feature-table.biom \\\n",
    "    -o ../../clean_run/data/qiime2/filtered/exported-feature-table/mix.biom \\\n",
    "    --observation-metadata-fp ../../clean_run/data/qiime2/filtered/exported-feature-table/taxonomy.tsv \\\n",
    "    --observation-header OTUID,taxonomy,confidence"
   ]
  },
  {
   "cell_type": "code",
   "execution_count": 7,
   "metadata": {},
   "outputs": [],
   "source": [
    "! biom convert \\\n",
    "    -i ../../clean_run/data/qiime2/filtered/exported-feature-table/mix.biom \\\n",
    "    -o ../../clean_run/data/qiime2/filtered/exported-feature-table/json.biom \\\n",
    "    --table-type=\"OTU table\" --to-json"
   ]
  },
  {
   "cell_type": "code",
   "execution_count": null,
   "metadata": {},
   "outputs": [],
   "source": []
  }
 ],
 "metadata": {
  "kernelspec": {
   "display_name": "Python 3",
   "language": "python",
   "name": "python3"
  },
  "language_info": {
   "codemirror_mode": {
    "name": "ipython",
    "version": 3
   },
   "file_extension": ".py",
   "mimetype": "text/x-python",
   "name": "python",
   "nbconvert_exporter": "python",
   "pygments_lexer": "ipython3",
   "version": "3.6.13"
  }
 },
 "nbformat": 4,
 "nbformat_minor": 4
}
