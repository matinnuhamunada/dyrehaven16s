{
 "cells": [
  {
   "cell_type": "markdown",
   "metadata": {},
   "source": [
    "# 01 - Generate ASVs using DADA2\n",
    "## Pipeline Description\n",
    "This is the 16s rRNA amplicon soil data from CeMiST, re-analyzed using QIIME2 to get Amplicon Sequence Variants (ASVs) for downstream analysis. The V3V4 region of bacterial 16s rRNA was amplified using these primers (the product should be around 464 bp): \n",
    "* _341F (5’-CCTACGGGNGGCWGCAG-3')_ : len 17\n",
    "* _805R (5’-GACTACHVGGGTATCTAATCC-3')_ len 21\n",
    "\n",
    "There are three runs, each containing a paired end FASTQ in this folders:\n",
    "* ../data/raw_files/Psoil_1_L001-ds.be0c008785964521859130b2f2ead9be\n",
    "* ../data/raw_files/Psoil_2_L001-ds.6255278a9f7448a0b3e7c48b80f6d25f\n",
    "* ../data/raw_files/Psoil_3_L001-ds.e31e51f5248b4af4ad90603ebbf46e08\n",
    "\n",
    "And the metadata in this files:\n",
    "* ../data/raw_files/Pool1.barcodes\n",
    "* ../data/raw_files/Pool2.barcodes\n",
    "* ../data/raw_files/Pool3.barcodes\n",
    "\n",
    "Here, Amplicon Sequence Variants was generated from raw FASTQ data using DADA2 in [QIIME2 version 2020.11](https://docs.qiime2.org/2020.11/). \n",
    "\n",
    "Analysis was conducted within Conda environment in NBC Shared machine.\n",
    "\n",
    "## Steps: \n",
    "1. [Check input](#section1)\n",
    "    - [ ] QC Raw Paired End FastQ \n",
    "    - [x] Build Metadata - make it compatible with QIIME2\n",
    "    - [x] Import to QIIME2\n",
    "2. [Demultiplexing](#section2)\n",
    "    - [ ] QC Demultiplexed samples\n",
    "    - [X] Run demultiplexing with cutadapt in QIIME2\n",
    "3. [Denoising with DADA2](#section3)\n",
    "    - [ ] QC denoised data \n",
    "    - [x] Run DADA2\n",
    "4. [Merge outputs](#section4)\n",
    "    - [x] Merge QZA files into 1\n",
    "\n",
    "Notes: \n",
    "* _metadata in Pool3 suggested that the 16s run was mixed with other experiments. Will these affect DADA2 capabilites to denoise the samples?_\n",
    "* _fastq files are mixed forward and reverse reads_"
   ]
  },
  {
   "cell_type": "code",
   "execution_count": 37,
   "metadata": {},
   "outputs": [
    {
     "data": {
      "text/plain": [
       "423"
      ]
     },
     "execution_count": 37,
     "metadata": {},
     "output_type": "execute_result"
    }
   ],
   "source": [
    "_341F = 'CCTACGGGNGGCWGCAG'\n",
    "_805R = 'GACTACHVGGGTATCTAATCC'\n",
    "x = 461 -len(_341F) - len(_805R)\n",
    "x"
   ]
  },
  {
   "cell_type": "code",
   "execution_count": 2,
   "metadata": {},
   "outputs": [],
   "source": [
    "# Load Library\n",
    "import pandas as pd\n",
    "from qiime2 import Artifact, Visualization\n",
    "import os"
   ]
  },
  {
   "cell_type": "markdown",
   "metadata": {},
   "source": [
    "<a id='section1'></a>\n",
    "## Check Input\n",
    "### Build metadata"
   ]
  },
  {
   "cell_type": "raw",
   "metadata": {},
   "source": [
    "# read metadata\n",
    "df = pd.read_csv('metadata/metadata_KEEMEI.tsv', delimiter='\\t') # this is the metadata for sample 2 only\n",
    "df.head(3)\n",
    "\n",
    "# create demultiplexing barcodes containing barcodes + the first 5 nucleotides of the forward primer\n",
    "df_demux = df[['#SampleID', 'BarcodeSequence']].drop(0)\n",
    "df_demux = pd.DataFrame({'#SampleID' : [i for i in df_demux['#SampleID']],\n",
    "                       'BarcodeSequence' : [i+df.loc[num+1, 'primer-f'][0:5] for num, i in enumerate(df_demux['BarcodeSequence'])],\n",
    "                         'Sample' : [i.split('_')[0] for i in df_demux['#SampleID']]\n",
    "                      })\n",
    "df_demux.to_csv('metadata/psoil2_metadata_fwd.tsv', sep='\\t', index=False) #write into tsv file\n",
    "df_demux.head(2)"
   ]
  },
  {
   "cell_type": "code",
   "execution_count": 4,
   "metadata": {},
   "outputs": [],
   "source": [
    "# create demultiplexing barcodes containing barcodes + the first 5 nucleotides of the forward primer\n",
    "pool = [1, 2, 3]\n",
    "for i in pool:\n",
    "    df_demux = pd.read_csv('../data/raw_files/Pool'+str(i)+'.barcodes', sep='\\t')\n",
    "    try:\n",
    "        df_demux = df_demux.rename(columns={'ID ':'ID'})\n",
    "    except:\n",
    "        pass\n",
    "    df_demux = pd.DataFrame({'#SampleID' : [i for i in df_demux['ID']],\n",
    "                             'BarcodeSequence' : [i+'CCTAC' for num, i in enumerate(df_demux['#F-tag'])],\n",
    "                             'Sample' : [i.split('_')[0] for i in df_demux['ID']]\n",
    "                             })\n",
    "    df_demux.to_csv('../data/metadata/psoil'+str(i)+'_metadata_fwd.tsv', sep='\\t', index=False) #write into tsv file"
   ]
  },
  {
   "cell_type": "code",
   "execution_count": 4,
   "metadata": {},
   "outputs": [
    {
     "data": {
      "text/plain": [
       "['psoil1_metadata_fwd.tsv',\n",
       " 'psoil3_metadata_fwd.tsv',\n",
       " 'psoil2_metadata_fwd.tsv']"
      ]
     },
     "execution_count": 4,
     "metadata": {},
     "output_type": "execute_result"
    }
   ],
   "source": [
    "# metadata is already available\n",
    "[i for i in os.listdir('../data/metadata') if i.endswith('metadata_fwd.tsv')]"
   ]
  },
  {
   "cell_type": "code",
   "execution_count": 5,
   "metadata": {},
   "outputs": [
    {
     "name": "stdout",
     "output_type": "stream",
     "text": [
      "../data/raw_files/Psoil_1_L001-ds.be0c008785964521859130b2f2ead9be\n",
      "../data/raw_files/Psoil_2_L001-ds.6255278a9f7448a0b3e7c48b80f6d25f\n",
      "../data/raw_files/Psoil_3_L001-ds.e31e51f5248b4af4ad90603ebbf46e08\n"
     ]
    }
   ],
   "source": [
    "# import raw data into qza format\n",
    "path = '../data/raw_files/'\n",
    "path = [os.path.join(path, i) for i in os.listdir(path) if i.startswith('Psoil')]\n",
    "\n",
    "# create manifest files\n",
    "filepath = []\n",
    "for i in path:\n",
    "    file = os.listdir(i)\n",
    "    try:\n",
    "        file.remove('.ipynb_checkpoints')\n",
    "    except:\n",
    "        pass\n",
    "    file = [os.path.join(i, x) for x in file]\n",
    "    filepath.append(file)\n",
    "\n",
    "for num, i in enumerate(path):\n",
    "    try:\n",
    "        os.rmdir(os.path.join(i, '.ipynb_checkpoints'))\n",
    "    except:\n",
    "        pass\n",
    "    os.rename(filepath[num][0], os.path.join(i, 'forward.fastq.gz'))\n",
    "    os.rename(filepath[num][1], os.path.join(i, 'reverse.fastq.gz'))\n",
    "    print(i)\n",
    "    \n",
    "    # Import raw files into QIIME \n",
    "    #! qiime tools import --type MultiplexedPairedEndBarcodeInSequence --input-path {i} --input-format MultiplexedPairedEndBarcodeInSequenceDirFmt --output-path ../data/qiime2/Psoil{num+1}_PE.qza \n",
    "    os.rename(os.path.join(i, 'forward.fastq.gz'), filepath[num][0]) \n",
    "    os.rename(os.path.join(i, 'reverse.fastq.gz'), filepath[num][1]) "
   ]
  },
  {
   "cell_type": "markdown",
   "metadata": {},
   "source": [
    "<a id='section2'></a>\n",
    "## Demultiplexing"
   ]
  },
  {
   "cell_type": "code",
   "execution_count": 6,
   "metadata": {},
   "outputs": [],
   "source": [
    "# demultiplex PE based on metadata\n",
    "def demux(path, metadata, out):\n",
    "    ! mkdir {out}\n",
    "    ! qiime cutadapt demux-paired \\\n",
    "        --i-seqs {path} \\\n",
    "        --m-forward-barcodes-file {metadata} \\\n",
    "        --m-forward-barcodes-column BarcodeSequence \\\n",
    "        --p-error-rate 0.1 \\\n",
    "        --p-minimum-length 150 \\\n",
    "        --p-mixed-orientation \\\n",
    "        --o-per-sample-sequences {out}/demux-0.1.qza \\\n",
    "        --o-untrimmed-sequences {out}/untrimmed-0.1.qza \\\n",
    "        --verbose \\\n",
    "        > {out}/cutadapt-0.1.log\n",
    "    return"
   ]
  },
  {
   "cell_type": "code",
   "execution_count": 12,
   "metadata": {},
   "outputs": [
    {
     "name": "stdout",
     "output_type": "stream",
     "text": [
      "../data/qiime2/Psoil1_PE\n",
      "../data/qiime2/Psoil2_PE\n",
      "../data/qiime2/Psoil3_PE\n"
     ]
    }
   ],
   "source": [
    "paths = [os.path.join('../data/qiime2', i) for i in os.listdir('../data/qiime2') if i.endswith('PE.qza')]\n",
    "for num, i in enumerate(paths):\n",
    "    metadata = '../data/metadata/psoil'+str(num+1)+'_metadata_fwd.tsv'\n",
    "    out = i.replace('.qza', '')\n",
    "    if os.path.isdir(out):\n",
    "        print(out)\n",
    "        pass\n",
    "    else:\n",
    "        print('done')#demux(i, metadata, out)\n",
    "        \n",
    "#[       8=---] 00:26:18     6,318,906 reads  @    249.9 µs/read;   0.24 M reads/minute\n",
    "#[------>8    ] 00:15:15     3,389,998 reads  @    270.2 µs/read;   0.22 M reads/minute\n",
    "#[=8          ] 00:37:51     8,795,488 reads  @    258.2 µs/read;   0.23 M reads/minute\n",
    "#[---->8      ] 00:22:08     4,747,122 reads  @    279.8 µs/read;   0.21 M reads/minute\n",
    "#[-------->8  ] 00:19:56     6,869,491 reads  @    174.1 µs/read;   0.34 M reads/minute\n",
    "#[------->8   ] 00:12:45     3,801,926 reads  @    201.4 µs/read;   0.30 M reads/minute"
   ]
  },
  {
   "cell_type": "code",
   "execution_count": null,
   "metadata": {},
   "outputs": [],
   "source": [
    "# summarize\n",
    "for i in range(3):\n",
    "    ! qiime demux summarize \\\n",
    "        --i-data ../data/qiime2/Psoil{i+1}_PE/demux-0.1.qza \\\n",
    "        --o-visualization ../data/qiime2/Psoil{i+1}_PE/demux-0.1.qzv"
   ]
  },
  {
   "cell_type": "code",
   "execution_count": null,
   "metadata": {},
   "outputs": [],
   "source": [
    "Visualization.load('../data/qiime2/Psoil3_PE/demux-0.1.qzv')"
   ]
  },
  {
   "cell_type": "markdown",
   "metadata": {},
   "source": [
    "<a id='section2'></a>\n",
    "## Denoising"
   ]
  },
  {
   "cell_type": "code",
   "execution_count": 25,
   "metadata": {},
   "outputs": [],
   "source": [
    "def denoise(path):\n",
    "    ! qiime dada2 denoise-paired \\\n",
    "        --i-demultiplexed-seqs {path}/demux-0.1.qza \\\n",
    "        --p-trim-left-f 12 \\\n",
    "        --p-trim-left-r 29 \\\n",
    "        --p-trunc-len-f 200 \\\n",
    "        --p-trunc-len-r 250 \\\n",
    "        --p-n-threads 6 \\\n",
    "        --o-table {path}/table-0.1.qza \\\n",
    "        --o-representative-sequences {path}/rep-seqs-0.1.qza \\\n",
    "        --o-denoising-stats {path}/denoising-stats-0.1.qza \\\n",
    "        --verbose\n",
    "    return"
   ]
  },
  {
   "cell_type": "code",
   "execution_count": 9,
   "metadata": {},
   "outputs": [],
   "source": [
    "# sample 3 contains runs that are not part of the data, so we need to clean it up first\n",
    "## create metadata for filtering\n",
    "df_psoil3 = pd.read_csv('../data/metadata/psoil3_metadata_fwd.tsv', delimiter='\\t')\n",
    "sample = ['P9', 'Pmix', 'Neg']\n",
    "df_psoil3 = df_psoil3[df_psoil3.Sample.isin(sample)]\n",
    "df_psoil3.to_csv('../data/metadata/psoil3_metadata_fwd_filtered.tsv', sep='\\t', index=False) #write into tsv file\n",
    "## filtering using qiime2\n",
    "! mv ../data/qiime2/Psoil3_PE/demux-0.1.qza ../data/qiime2/Psoil3_PE/demux-0.1-unfiltered.qza\n",
    "! mv ../data/metadata/psoil3_metadata_fwd.tsv ../data/metadata/psoil3_metadata_fwd_unfiltered.tsv\n",
    "! mv ../data/metadata/psoil3_metadata_fwd_filtered.tsv ../data/metadata/psoil3_metadata_fwd.tsv"
   ]
  },
  {
   "cell_type": "code",
   "execution_count": null,
   "metadata": {},
   "outputs": [],
   "source": [
    "## filtering using qiime2\n",
    "! qiime demux filter-samples \\\n",
    "    --i-demux ./data/qiime2/Psoil3_PE/demux-0.1-unfiltered.qza \\\n",
    "    --m-metadata-file ../data/metadata/psoil3_metadata_fwd.tsv \\\n",
    "    --o-filtered-demux ../data/qiime2/Psoil3_PE/demux-0.1.qza \\\n",
    "    --verbose"
   ]
  },
  {
   "cell_type": "code",
   "execution_count": 30,
   "metadata": {},
   "outputs": [
    {
     "name": "stdout",
     "output_type": "stream",
     "text": [
      "already denoised ../data/qiime2/Psoil2_PE\n",
      "already denoised ../data/qiime2/Psoil1_PE\n",
      "already denoised ../data/qiime2/Psoil3_PE\n"
     ]
    }
   ],
   "source": [
    "# run denoising for all samples\n",
    "paths = [os.path.join('../data/qiime2', i) for i in os.listdir('../data/qiime2') if os.path.isdir(os.path.join('../data/qiime2', i))]\n",
    "paths = [i for i in paths if i.endswith('PE')]\n",
    "for num, i in enumerate(paths):\n",
    "    pe = os.path.join(i, 'demux-0.1.qza')\n",
    "    if 'rep-seqs-0.1.qza' in os.listdir(i):\n",
    "        print('already denoised', i)\n",
    "        pass\n",
    "    else:\n",
    "        print('denoising', i)\n",
    "        denoise(i)"
   ]
  },
  {
   "cell_type": "raw",
   "metadata": {},
   "source": [
    "df = pd.read_csv('metadata/psoil2_metadata_fwd.tsv', sep='\\t')\n",
    "df['#SampleID'] = df['#SampleID'].str.replace('_','-')\n",
    "df.to_csv('metadata/psoil2_metadata_fwd.tsv', sep='\\t', index=False) #write into tsv file"
   ]
  },
  {
   "cell_type": "code",
   "execution_count": 22,
   "metadata": {},
   "outputs": [
    {
     "name": "stdout",
     "output_type": "stream",
     "text": [
      "\u001b[32mSaved Visualization to: qiime2/Psoil1_PE/table-0.1.qzv\u001b[0m\n",
      "\u001b[32mSaved Visualization to: qiime2/Psoil1_PE/rep-seqs-0.1.qzv\u001b[0m\n",
      "\u001b[32mSaved Visualization to: qiime2/Psoil1_PE/denoising-stats-0.1.qzv\u001b[0m\n",
      "\u001b[32mSaved Visualization to: qiime2/Psoil2_PE/table-0.1.qzv\u001b[0m\n",
      "\u001b[32mSaved Visualization to: qiime2/Psoil2_PE/rep-seqs-0.1.qzv\u001b[0m\n",
      "\u001b[32mSaved Visualization to: qiime2/Psoil2_PE/denoising-stats-0.1.qzv\u001b[0m\n",
      "\u001b[32mSaved Visualization to: qiime2/Psoil3_PE/table-0.1.qzv\u001b[0m\n",
      "\u001b[32mSaved Visualization to: qiime2/Psoil3_PE/rep-seqs-0.1.qzv\u001b[0m\n",
      "\u001b[32mSaved Visualization to: qiime2/Psoil3_PE/denoising-stats-0.1.qzv\u001b[0m\n"
     ]
    }
   ],
   "source": [
    "# summarizing denoising results\n",
    "# summarize\n",
    "for i in range(3):   \n",
    "    ! qiime feature-table summarize \\\n",
    "        --i-table ../data/qiime2/Psoil{i+1}_PE/table-0.1.qza \\\n",
    "        --o-visualization ../data/qiime2/Psoil{i+1}_PE/table-0.1.qzv \\\n",
    "        --m-sample-metadata-file ../data/metadata/psoil{i+1}_metadata_fwd.tsv\n",
    "\n",
    "    ! qiime feature-table tabulate-seqs \\\n",
    "        --i-data ../data/qiime2/Psoil{i+1}_PE/rep-seqs-0.1.qza \\\n",
    "        --o-visualization ../data/qiime2/Psoil{i+1}_PE/rep-seqs-0.1.qzv\n",
    "\n",
    "    ! qiime metadata tabulate \\\n",
    "        --m-input-file ../data/qiime2/Psoil{i+1}_PE/denoising-stats-0.1.qza \\\n",
    "        --o-visualization ../data/qiime2/Psoil{i+1}_PE/denoising-stats-0.1.qzv"
   ]
  },
  {
   "cell_type": "markdown",
   "metadata": {},
   "source": [
    "<a id='section4'></a>\n",
    "## Merge Outputs"
   ]
  },
  {
   "cell_type": "code",
   "execution_count": 24,
   "metadata": {},
   "outputs": [
    {
     "name": "stdout",
     "output_type": "stream",
     "text": [
      "\u001b[32mSaved FeatureTable[Frequency] to: qiime2/table.qza\u001b[0m\n",
      "\u001b[32mSaved FeatureData[Sequence] to: qiime2/rep-seqs.qza\u001b[0m\n"
     ]
    }
   ],
   "source": [
    "! qiime feature-table merge \\\n",
    "  --i-tables ../data/qiime2/Psoil1_PE/table-0.1.qza \\\n",
    "  --i-tables ../data/qiime2/Psoil2_PE/table-0.1.qza \\\n",
    "  --i-tables ../data/qiime2/Psoil3_PE/table-0.1.qza \\\n",
    "  --o-merged-table ../data/qiime2/table.qza\n",
    "\n",
    "! qiime feature-table merge-seqs \\\n",
    "  --i-data ../data/qiime2/Psoil1_PE/rep-seqs-0.1.qza \\\n",
    "  --i-data ../data/qiime2/Psoil2_PE/rep-seqs-0.1.qza \\\n",
    "  --i-data ../data/qiime2/Psoil3_PE/rep-seqs-0.1.qza \\\n",
    "  --o-merged-data ../data/qiime2/rep-seqs.qza"
   ]
  },
  {
   "cell_type": "code",
   "execution_count": 32,
   "metadata": {},
   "outputs": [],
   "source": [
    "df1 = pd.read_csv('../data/metadata/psoil1_metadata_fwd.tsv', sep='\\t')\n",
    "df2 = pd.read_csv('../data/metadata/psoil2_metadata_fwd.tsv', sep='\\t')\n",
    "df3 = pd.read_csv('../data/metadata/psoil3_metadata_fwd.tsv', sep='\\t')\n",
    "df = df1.append([df2, df3])\n",
    "df.to_csv('../data/metadata/sample-metadata.tsv', sep='\\t', index=False) #write into tsv file"
   ]
  },
  {
   "cell_type": "code",
   "execution_count": 33,
   "metadata": {},
   "outputs": [
    {
     "name": "stdout",
     "output_type": "stream",
     "text": [
      "\u001b[32mSaved Visualization to: qiime2/table.qzv\u001b[0m\n",
      "\u001b[32mSaved Visualization to: qiime2/rep-seqs.qzv\u001b[0m\n"
     ]
    }
   ],
   "source": [
    "! qiime feature-table summarize \\\n",
    "    --i-table ../data/qiime2/table.qza \\\n",
    "    --o-visualization ../data/qiime2/table.qzv \\\n",
    "    --m-sample-metadata-file ../data/metadata/sample-metadata.tsv\n",
    "\n",
    "! qiime feature-table tabulate-seqs \\\n",
    "    --i-data ../data/qiime2/rep-seqs.qza \\\n",
    "    --o-visualization ../data/qiime2/rep-seqs.qzv"
   ]
  },
  {
   "cell_type": "code",
   "execution_count": 31,
   "metadata": {},
   "outputs": [
    {
     "data": {
      "text/html": [
       "<div><img onload=\"(function(div, url){\n",
       "if (typeof require !== 'undefined') {\n",
       "    var baseURL = require.toUrl('').split('/').slice(0, -2).join('/');\n",
       "} else {\n",
       "    var baseURL = JSON.parse(\n",
       "        document.getElementById('jupyter-config-data').innerHTML\n",
       "    ).baseUrl.slice(0, -1);\n",
       "}\n",
       "url = baseURL + url;\n",
       "fetch(url).then(function(res) {\n",
       "    if (res.status === 404) {\n",
       "        div.innerHTML = 'Install QIIME 2 Jupyter extension with:<br />' +\n",
       "                        '<code>jupyter serverextension enable --py qiime2' +\n",
       "                        ' --sys-prefix</code><br />then restart your server.' +\n",
       "                        '<br /><br />(Interactive output not available on ' +\n",
       "                        'static notebook viewer services like nbviewer.)';\n",
       "    } else if (res.status === 409) {\n",
       "        div.innerHTML = 'Visualization no longer in scope. Re-run this cell' +\n",
       "                        ' to see the visualization.';\n",
       "    } else if (res.ok) {\n",
       "        url = res.url;\n",
       "        div.innerHTML = '<iframe src=\\'' + url + '\\' style=\\'' +\n",
       "                        'width: 100%; height: 700px; border: 0;\\'>' +\n",
       "                        '</iframe><hr />Open in a: <a href=\\'' + url + '\\'' +\n",
       "                        ' target=\\'_blank\\'>new window</a>'\n",
       "    } else {\n",
       "        div.innerHTML = 'Something has gone wrong. Check notebook server for' +\n",
       "                        ' errors.';\n",
       "    }\n",
       "});\n",
       "})(this.parentElement, '/qiime2/redirect?location=/tmp/qiime2-archive-e7s3hzbh')\" src=\"data:image/gif;base64,R0lGODlhAQABAIAAAP///wAAACH5BAEAAAAALAAAAAABAAEAAAICRAEAOw==\" /></div>"
      ],
      "text/plain": [
       "<visualization: Visualization uuid: dfcc0943-7407-4519-98d9-e62faab82e08>"
      ]
     },
     "execution_count": 31,
     "metadata": {},
     "output_type": "execute_result"
    }
   ],
   "source": [
    "Visualization.load('../data/qiime2/table.qzv')"
   ]
  },
  {
   "cell_type": "code",
   "execution_count": 32,
   "metadata": {},
   "outputs": [
    {
     "data": {
      "text/html": [
       "<div><img onload=\"(function(div, url){\n",
       "if (typeof require !== 'undefined') {\n",
       "    var baseURL = require.toUrl('').split('/').slice(0, -2).join('/');\n",
       "} else {\n",
       "    var baseURL = JSON.parse(\n",
       "        document.getElementById('jupyter-config-data').innerHTML\n",
       "    ).baseUrl.slice(0, -1);\n",
       "}\n",
       "url = baseURL + url;\n",
       "fetch(url).then(function(res) {\n",
       "    if (res.status === 404) {\n",
       "        div.innerHTML = 'Install QIIME 2 Jupyter extension with:<br />' +\n",
       "                        '<code>jupyter serverextension enable --py qiime2' +\n",
       "                        ' --sys-prefix</code><br />then restart your server.' +\n",
       "                        '<br /><br />(Interactive output not available on ' +\n",
       "                        'static notebook viewer services like nbviewer.)';\n",
       "    } else if (res.status === 409) {\n",
       "        div.innerHTML = 'Visualization no longer in scope. Re-run this cell' +\n",
       "                        ' to see the visualization.';\n",
       "    } else if (res.ok) {\n",
       "        url = res.url;\n",
       "        div.innerHTML = '<iframe src=\\'' + url + '\\' style=\\'' +\n",
       "                        'width: 100%; height: 700px; border: 0;\\'>' +\n",
       "                        '</iframe><hr />Open in a: <a href=\\'' + url + '\\'' +\n",
       "                        ' target=\\'_blank\\'>new window</a>'\n",
       "    } else {\n",
       "        div.innerHTML = 'Something has gone wrong. Check notebook server for' +\n",
       "                        ' errors.';\n",
       "    }\n",
       "});\n",
       "})(this.parentElement, '/qiime2/redirect?location=/tmp/qiime2-archive-v6l61eev')\" src=\"data:image/gif;base64,R0lGODlhAQABAIAAAP///wAAACH5BAEAAAAALAAAAAABAAEAAAICRAEAOw==\" /></div>"
      ],
      "text/plain": [
       "<visualization: Visualization uuid: e5966c42-af5c-4d7e-8036-a0a3da05dda5>"
      ]
     },
     "execution_count": 32,
     "metadata": {},
     "output_type": "execute_result"
    }
   ],
   "source": [
    "Visualization.load('../data/qiime2/rep-seqs.qzv')"
   ]
  },
  {
   "cell_type": "code",
   "execution_count": null,
   "metadata": {},
   "outputs": [],
   "source": []
  }
 ],
 "metadata": {
  "kernelspec": {
   "display_name": "Python 3",
   "language": "python",
   "name": "python3"
  },
  "language_info": {
   "codemirror_mode": {
    "name": "ipython",
    "version": 3
   },
   "file_extension": ".py",
   "mimetype": "text/x-python",
   "name": "python",
   "nbconvert_exporter": "python",
   "pygments_lexer": "ipython3",
   "version": "3.6.12"
  }
 },
 "nbformat": 4,
 "nbformat_minor": 4
}
