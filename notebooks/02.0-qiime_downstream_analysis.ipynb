{
 "cells": [
  {
   "cell_type": "markdown",
   "metadata": {},
   "source": [
    "To do:\n",
    "*  [x] Filtering\n",
    "    * [x] Filter rep seqs\n",
    "    * [x] Filter tables\n",
    "*  [x] Build Phylogenetic Tree\n",
    "    - [x] Build tree for PICRUST & Downstream Analysis\n",
    "    - [x] Build Tree (with genomes)\n",
    "* [x] Alpha rarefaction\n",
    "* [ ] Calculate and explore diversity metrics\n",
    "* [x] Assign taxonomy"
   ]
  },
  {
   "cell_type": "code",
   "execution_count": 2,
   "metadata": {},
   "outputs": [],
   "source": [
    "import os\n",
    "import pandas as pd\n",
    "\n",
    "from qiime2 import Visualization"
   ]
  },
  {
   "cell_type": "code",
   "execution_count": 2,
   "metadata": {},
   "outputs": [
    {
     "name": "stdout",
     "output_type": "stream",
     "text": [
      "mkdir: cannot create directory ‘../data/qiime2/filtered’: File exists\n",
      "mkdir: cannot create directory ‘../data/qiime2/filtered/tree’: File exists\n",
      "\u001b[32mSaved FeatureData[AlignedSequence] to: ../data/qiime2/filtered/tree/aligned-rep-seqs.qza\u001b[0m\n",
      "\u001b[32mSaved FeatureData[AlignedSequence] to: ../data/qiime2/filtered/tree/masked-aligned-rep-seqs.qza\u001b[0m\n",
      "\u001b[32mSaved Phylogeny[Unrooted] to: ../data/qiime2/filtered/tree/unrooted-tree.qza\u001b[0m\n",
      "\u001b[32mSaved Phylogeny[Rooted] to: ../data/qiime2/filtered/tree/rooted-tree.qza\u001b[0m\n"
     ]
    }
   ],
   "source": [
    "#carry out a multiple seqeunce alignment using Mafft\n",
    "! mkdir ../data/qiime2/filtered\n",
    "! mkdir ../data/qiime2/filtered/tree\n",
    "\n",
    "! qiime alignment mafft \\\n",
    "  --i-sequences ../data/qiime2/rep-seqs-deblur.qza \\\n",
    "  --o-alignment ../data/qiime2/filtered/tree/aligned-rep-seqs.qza\n",
    "\n",
    "#mask (or filter) the alignment to remove positions that are highly variable. These positions are generally considered to add noise to a resulting phylogenetic tree.\n",
    "! qiime alignment mask \\\n",
    "  --i-alignment ../data/qiime2/filtered/tree/aligned-rep-seqs.qza \\\n",
    "  --o-masked-alignment ../data/qiime2/filtered/tree/masked-aligned-rep-seqs.qza\n",
    "\n",
    "#create the tree using the Fasttree program\n",
    "! qiime phylogeny fasttree \\\n",
    "  --i-alignment ../data/qiime2/filtered/tree/masked-aligned-rep-seqs.qza \\\n",
    "  --o-tree ../data/qiime2/filtered/tree/unrooted-tree.qza\n",
    "\n",
    "#root the tree using the longest root\n",
    "! qiime phylogeny midpoint-root \\\n",
    "  --i-tree ../data/qiime2/filtered/tree/unrooted-tree.qza \\\n",
    "  --o-rooted-tree ../data/qiime2/filtered/tree/rooted-tree.qza"
   ]
  },
  {
   "cell_type": "code",
   "execution_count": 7,
   "metadata": {},
   "outputs": [
    {
     "data": {
      "text/html": [
       "<div><img onload=\"(function(div, url){\n",
       "if (typeof require !== 'undefined') {\n",
       "    var baseURL = require.toUrl('').split('/').slice(0, -2).join('/');\n",
       "} else {\n",
       "    var baseURL = JSON.parse(\n",
       "        document.getElementById('jupyter-config-data').innerHTML\n",
       "    ).baseUrl.slice(0, -1);\n",
       "}\n",
       "url = baseURL + url;\n",
       "fetch(url).then(function(res) {\n",
       "    if (res.status === 404) {\n",
       "        div.innerHTML = 'Install QIIME 2 Jupyter extension with:<br />' +\n",
       "                        '<code>jupyter serverextension enable --py qiime2' +\n",
       "                        ' --sys-prefix</code><br />then restart your server.' +\n",
       "                        '<br /><br />(Interactive output not available on ' +\n",
       "                        'static notebook viewer services like nbviewer.)';\n",
       "    } else if (res.status === 409) {\n",
       "        div.innerHTML = 'Visualization no longer in scope. Re-run this cell' +\n",
       "                        ' to see the visualization.';\n",
       "    } else if (res.ok) {\n",
       "        url = res.url;\n",
       "        div.innerHTML = '<iframe src=\\'' + url + '\\' style=\\'' +\n",
       "                        'width: 100%; height: 700px; border: 0;\\'>' +\n",
       "                        '</iframe><hr />Open in a: <a href=\\'' + url + '\\'' +\n",
       "                        ' target=\\'_blank\\'>new window</a>'\n",
       "    } else {\n",
       "        div.innerHTML = 'Something has gone wrong. Check notebook server for' +\n",
       "                        ' errors.';\n",
       "    }\n",
       "});\n",
       "})(this.parentElement, '/qiime2/redirect?location=/tmp/qiime2-archive-4n1l100c')\" src=\"data:image/gif;base64,R0lGODlhAQABAIAAAP///wAAACH5BAEAAAAALAAAAAABAAEAAAICRAEAOw==\" /></div>"
      ],
      "text/plain": [
       "<visualization: Visualization uuid: 3bd393c6-526b-44cb-a321-dcd5ee481d48>"
      ]
     },
     "execution_count": 7,
     "metadata": {},
     "output_type": "execute_result"
    }
   ],
   "source": [
    "Visualization.load('../data/qiime2/rep-seqs-deblur.qzv')"
   ]
  },
  {
   "cell_type": "raw",
   "metadata": {},
   "source": [
    "! qiime tools import \\\n",
    "  --input-path ../data/genomes/16sgenome.fasta \\\n",
    "  --output-path ../data/genomes/16sgenome.qza \\\n",
    "  --type 'FeatureData[Sequence]'"
   ]
  },
  {
   "cell_type": "raw",
   "metadata": {},
   "source": [
    "! qiime feature-table merge-seqs \\\n",
    "    --i-data ../data/genomes/16sgenome.qza ../data/qiime2/rep-seqs-deblur.qza \\\n",
    "    --o-merged-data ../data/qiime2/filtered/rep-seqs-with-genome.qza"
   ]
  },
  {
   "cell_type": "raw",
   "metadata": {},
   "source": [
    "#carry out a multiple seqeunce alignment using Mafft\n",
    "! mkdir ../data/qiime2/filtered/tree_with_genomes\n",
    "\n",
    "! qiime alignment mafft \\\n",
    "  --i-sequences ../data/qiime2/filtered/rep-seqs-with-genome.qza \\\n",
    "  --o-alignment ../data/qiime2/filtered/tree_with_genomes/aligned-rep-seqs.qza\n",
    "\n",
    "#mask (or filter) the alignment to remove positions that are highly variable. These positions are generally considered to add noise to a resulting phylogenetic tree.\n",
    "! qiime alignment mask \\\n",
    "  --i-alignment ../data/qiime2/filtered/tree_with_genomes/aligned-rep-seqs.qza \\\n",
    "  --o-masked-alignment ../data/qiime2/filtered/tree_with_genomes/masked-aligned-rep-seqs.qza\n",
    "\n",
    "#create the tree using the Fasttree program\n",
    "! qiime phylogeny fasttree \\\n",
    "  --i-alignment ../data/qiime2/filtered/tree_with_genomes/masked-aligned-rep-seqs.qza \\\n",
    "  --o-tree ../data/qiime2/filtered/tree_with_genomes/unrooted-tree.qza\n",
    "\n",
    "#root the tree using the longest root\n",
    "! qiime phylogeny midpoint-root \\\n",
    "  --i-tree ../data/qiime2/filtered/tree_with_genomes/unrooted-tree.qza \\\n",
    "  --o-rooted-tree ../data/qiime2/filtered/tree_with_genomes/rooted-tree.qza"
   ]
  },
  {
   "cell_type": "raw",
   "metadata": {},
   "source": [
    "! qiime tools export \\\n",
    "    --input-path ../data/qiime2/filtered/tree_with_genomes/rooted-tree.qza \\\n",
    "    --output-path ../data/qiime2/filtered/tree_with_genomes/rooted-tree"
   ]
  },
  {
   "cell_type": "raw",
   "metadata": {},
   "source": [
    "! qiime tools export \\\n",
    "    --input-path ../data/qiime2/filtered/tree_with_genomes/masked-aligned-rep-seqs.qza \\\n",
    "    --output-path ../data/qiime2/filtered/tree_with_genomes/masked-aligned-rep-seqs"
   ]
  },
  {
   "cell_type": "raw",
   "metadata": {},
   "source": [
    "! qiime tools export \\\n",
    "    --input-path ../data/qiime2/filtered/tree_with_genomes/unrooted-tree.qza \\\n",
    "    --output-path ../data/qiime2/filtered/tree_with_genomes/unrooted-tree"
   ]
  },
  {
   "cell_type": "markdown",
   "metadata": {},
   "source": [
    "# Alpha Rarefaction"
   ]
  },
  {
   "cell_type": "code",
   "execution_count": 6,
   "metadata": {},
   "outputs": [
    {
     "data": {
      "text/html": [
       "<div><img onload=\"(function(div, url){\n",
       "if (typeof require !== 'undefined') {\n",
       "    var baseURL = require.toUrl('').split('/').slice(0, -2).join('/');\n",
       "} else {\n",
       "    var baseURL = JSON.parse(\n",
       "        document.getElementById('jupyter-config-data').innerHTML\n",
       "    ).baseUrl.slice(0, -1);\n",
       "}\n",
       "url = baseURL + url;\n",
       "fetch(url).then(function(res) {\n",
       "    if (res.status === 404) {\n",
       "        div.innerHTML = 'Install QIIME 2 Jupyter extension with:<br />' +\n",
       "                        '<code>jupyter serverextension enable --py qiime2' +\n",
       "                        ' --sys-prefix</code><br />then restart your server.' +\n",
       "                        '<br /><br />(Interactive output not available on ' +\n",
       "                        'static notebook viewer services like nbviewer.)';\n",
       "    } else if (res.status === 409) {\n",
       "        div.innerHTML = 'Visualization no longer in scope. Re-run this cell' +\n",
       "                        ' to see the visualization.';\n",
       "    } else if (res.ok) {\n",
       "        url = res.url;\n",
       "        div.innerHTML = '<iframe src=\\'' + url + '\\' style=\\'' +\n",
       "                        'width: 100%; height: 700px; border: 0;\\'>' +\n",
       "                        '</iframe><hr />Open in a: <a href=\\'' + url + '\\'' +\n",
       "                        ' target=\\'_blank\\'>new window</a>'\n",
       "    } else {\n",
       "        div.innerHTML = 'Something has gone wrong. Check notebook server for' +\n",
       "                        ' errors.';\n",
       "    }\n",
       "});\n",
       "})(this.parentElement, '/qiime2/redirect?location=/tmp/qiime2-archive-wxw7a1xv')\" src=\"data:image/gif;base64,R0lGODlhAQABAIAAAP///wAAACH5BAEAAAAALAAAAAABAAEAAAICRAEAOw==\" /></div>"
      ],
      "text/plain": [
       "<visualization: Visualization uuid: 0b373b64-aae6-41c4-a086-22ad3d43911f>"
      ]
     },
     "execution_count": 6,
     "metadata": {},
     "output_type": "execute_result"
    }
   ],
   "source": [
    "Visualization.load('../data/qiime2/table-deblur.qzv')"
   ]
  },
  {
   "cell_type": "code",
   "execution_count": 8,
   "metadata": {},
   "outputs": [
    {
     "name": "stdout",
     "output_type": "stream",
     "text": [
      "\u001b[32mSaved Visualization to: ../data/qiime2/filtered/alpha-rarefaction.qzv\u001b[0m\n"
     ]
    }
   ],
   "source": [
    "! qiime diversity alpha-rarefaction \\\n",
    "  --i-table ../data/qiime2/table-deblur.qza \\\n",
    "  --i-phylogeny ../data/qiime2/filtered/tree/rooted-tree.qza \\\n",
    "  --p-max-depth 13593 \\\n",
    "  --m-metadata-file ../data/metadata/metadata-selection.tsv \\\n",
    "  --o-visualization ../data/qiime2/filtered/alpha-rarefaction.qzv"
   ]
  },
  {
   "cell_type": "code",
   "execution_count": 9,
   "metadata": {},
   "outputs": [
    {
     "data": {
      "text/html": [
       "<div><img onload=\"(function(div, url){\n",
       "if (typeof require !== 'undefined') {\n",
       "    var baseURL = require.toUrl('').split('/').slice(0, -2).join('/');\n",
       "} else {\n",
       "    var baseURL = JSON.parse(\n",
       "        document.getElementById('jupyter-config-data').innerHTML\n",
       "    ).baseUrl.slice(0, -1);\n",
       "}\n",
       "url = baseURL + url;\n",
       "fetch(url).then(function(res) {\n",
       "    if (res.status === 404) {\n",
       "        div.innerHTML = 'Install QIIME 2 Jupyter extension with:<br />' +\n",
       "                        '<code>jupyter serverextension enable --py qiime2' +\n",
       "                        ' --sys-prefix</code><br />then restart your server.' +\n",
       "                        '<br /><br />(Interactive output not available on ' +\n",
       "                        'static notebook viewer services like nbviewer.)';\n",
       "    } else if (res.status === 409) {\n",
       "        div.innerHTML = 'Visualization no longer in scope. Re-run this cell' +\n",
       "                        ' to see the visualization.';\n",
       "    } else if (res.ok) {\n",
       "        url = res.url;\n",
       "        div.innerHTML = '<iframe src=\\'' + url + '\\' style=\\'' +\n",
       "                        'width: 100%; height: 700px; border: 0;\\'>' +\n",
       "                        '</iframe><hr />Open in a: <a href=\\'' + url + '\\'' +\n",
       "                        ' target=\\'_blank\\'>new window</a>'\n",
       "    } else {\n",
       "        div.innerHTML = 'Something has gone wrong. Check notebook server for' +\n",
       "                        ' errors.';\n",
       "    }\n",
       "});\n",
       "})(this.parentElement, '/qiime2/redirect?location=/tmp/qiime2-archive-v4ake8rk')\" src=\"data:image/gif;base64,R0lGODlhAQABAIAAAP///wAAACH5BAEAAAAALAAAAAABAAEAAAICRAEAOw==\" /></div>"
      ],
      "text/plain": [
       "<visualization: Visualization uuid: 8b99791e-4862-4eaf-b24e-67353bc047f7>"
      ]
     },
     "execution_count": 9,
     "metadata": {},
     "output_type": "execute_result"
    }
   ],
   "source": [
    "Visualization.load('../data/qiime2/filtered/alpha-rarefaction.qzv')"
   ]
  },
  {
   "cell_type": "markdown",
   "metadata": {},
   "source": [
    "# Calculate and explore diversity metrics"
   ]
  },
  {
   "cell_type": "code",
   "execution_count": 10,
   "metadata": {},
   "outputs": [
    {
     "name": "stdout",
     "output_type": "stream",
     "text": [
      "\u001b[32mSaved FeatureTable[Frequency] to: ../data/qiime2/filtered/core-metrics-results/rarefied_table.qza\u001b[0m\n",
      "\u001b[32mSaved SampleData[AlphaDiversity] to: ../data/qiime2/filtered/core-metrics-results/faith_pd_vector.qza\u001b[0m\n",
      "\u001b[32mSaved SampleData[AlphaDiversity] to: ../data/qiime2/filtered/core-metrics-results/observed_features_vector.qza\u001b[0m\n",
      "\u001b[32mSaved SampleData[AlphaDiversity] to: ../data/qiime2/filtered/core-metrics-results/shannon_vector.qza\u001b[0m\n",
      "\u001b[32mSaved SampleData[AlphaDiversity] to: ../data/qiime2/filtered/core-metrics-results/evenness_vector.qza\u001b[0m\n",
      "\u001b[32mSaved DistanceMatrix to: ../data/qiime2/filtered/core-metrics-results/unweighted_unifrac_distance_matrix.qza\u001b[0m\n",
      "\u001b[32mSaved DistanceMatrix to: ../data/qiime2/filtered/core-metrics-results/weighted_unifrac_distance_matrix.qza\u001b[0m\n",
      "\u001b[32mSaved DistanceMatrix to: ../data/qiime2/filtered/core-metrics-results/jaccard_distance_matrix.qza\u001b[0m\n",
      "\u001b[32mSaved DistanceMatrix to: ../data/qiime2/filtered/core-metrics-results/bray_curtis_distance_matrix.qza\u001b[0m\n",
      "\u001b[32mSaved PCoAResults to: ../data/qiime2/filtered/core-metrics-results/unweighted_unifrac_pcoa_results.qza\u001b[0m\n",
      "\u001b[32mSaved PCoAResults to: ../data/qiime2/filtered/core-metrics-results/weighted_unifrac_pcoa_results.qza\u001b[0m\n",
      "\u001b[32mSaved PCoAResults to: ../data/qiime2/filtered/core-metrics-results/jaccard_pcoa_results.qza\u001b[0m\n",
      "\u001b[32mSaved PCoAResults to: ../data/qiime2/filtered/core-metrics-results/bray_curtis_pcoa_results.qza\u001b[0m\n",
      "\u001b[32mSaved Visualization to: ../data/qiime2/filtered/core-metrics-results/unweighted_unifrac_emperor.qzv\u001b[0m\n",
      "\u001b[32mSaved Visualization to: ../data/qiime2/filtered/core-metrics-results/weighted_unifrac_emperor.qzv\u001b[0m\n",
      "\u001b[32mSaved Visualization to: ../data/qiime2/filtered/core-metrics-results/jaccard_emperor.qzv\u001b[0m\n",
      "\u001b[32mSaved Visualization to: ../data/qiime2/filtered/core-metrics-results/bray_curtis_emperor.qzv\u001b[0m\n"
     ]
    }
   ],
   "source": [
    "! rm -rf ../data/qiime2/filtered/core-metrics-results\n",
    "! qiime diversity core-metrics-phylogenetic \\\n",
    "  --i-phylogeny ../data/qiime2/filtered/tree/rooted-tree.qza \\\n",
    "  --i-table ../data/qiime2/table-deblur.qza \\\n",
    "  --p-sampling-depth 13593 \\\n",
    "  --m-metadata-file ../data/metadata/metadata-selection.tsv \\\n",
    "  --output-dir ../data/qiime2/filtered/core-metrics-results"
   ]
  },
  {
   "cell_type": "code",
   "execution_count": 19,
   "metadata": {},
   "outputs": [
    {
     "data": {
      "text/html": [
       "<div><img onload=\"(function(div, url){\n",
       "if (typeof require !== 'undefined') {\n",
       "    var baseURL = require.toUrl('').split('/').slice(0, -2).join('/');\n",
       "} else {\n",
       "    var baseURL = JSON.parse(\n",
       "        document.getElementById('jupyter-config-data').innerHTML\n",
       "    ).baseUrl.slice(0, -1);\n",
       "}\n",
       "url = baseURL + url;\n",
       "fetch(url).then(function(res) {\n",
       "    if (res.status === 404) {\n",
       "        div.innerHTML = 'Install QIIME 2 Jupyter extension with:<br />' +\n",
       "                        '<code>jupyter serverextension enable --py qiime2' +\n",
       "                        ' --sys-prefix</code><br />then restart your server.' +\n",
       "                        '<br /><br />(Interactive output not available on ' +\n",
       "                        'static notebook viewer services like nbviewer.)';\n",
       "    } else if (res.status === 409) {\n",
       "        div.innerHTML = 'Visualization no longer in scope. Re-run this cell' +\n",
       "                        ' to see the visualization.';\n",
       "    } else if (res.ok) {\n",
       "        url = res.url;\n",
       "        div.innerHTML = '<iframe src=\\'' + url + '\\' style=\\'' +\n",
       "                        'width: 100%; height: 700px; border: 0;\\'>' +\n",
       "                        '</iframe><hr />Open in a: <a href=\\'' + url + '\\'' +\n",
       "                        ' target=\\'_blank\\'>new window</a>'\n",
       "    } else {\n",
       "        div.innerHTML = 'Something has gone wrong. Check notebook server for' +\n",
       "                        ' errors.';\n",
       "    }\n",
       "});\n",
       "})(this.parentElement, '/qiime2/redirect?location=/tmp/qiime2-archive-bgmccsok')\" src=\"data:image/gif;base64,R0lGODlhAQABAIAAAP///wAAACH5BAEAAAAALAAAAAABAAEAAAICRAEAOw==\" /></div>"
      ],
      "text/plain": [
       "<visualization: Visualization uuid: c1b2390f-b6e0-48d3-85bc-c4a17cae68e6>"
      ]
     },
     "execution_count": 19,
     "metadata": {},
     "output_type": "execute_result"
    }
   ],
   "source": [
    "#Visualization.load('../data/qiime2/filtered/core-metrics-results/unweighted_unifrac_emperor.qzv')\n",
    "Visualization.load('../data/qiime2/filtered/core-metrics-results/weighted_unifrac_emperor.qzv')\n",
    "#Visualization.load('../data/qiime2/filtered/core-metrics-results/jaccard_emperor.qzv')\n",
    "#Visualization.load('../data/qiime2/filtered/core-metrics-results/bray_curtis_emperor.qzv')"
   ]
  },
  {
   "cell_type": "code",
   "execution_count": 11,
   "metadata": {},
   "outputs": [
    {
     "name": "stdout",
     "output_type": "stream",
     "text": [
      "\u001b[32mSaved Visualization to: ../data/qiime2/filtered/core-metrics-results/faith-pd-group-significance.qzv\u001b[0m\n",
      "\u001b[32mSaved Visualization to: ../data/qiime2/filtered/core-metrics-results/evenness-group-significance.qzv\u001b[0m\n",
      "\u001b[32mSaved Visualization to: ../data/qiime2/filtered/core-metrics-results/shannon_group-significance.qzv\u001b[0m\n"
     ]
    }
   ],
   "source": [
    "! qiime diversity alpha-group-significance \\\n",
    "  --i-alpha-diversity ../data/qiime2/filtered/core-metrics-results/faith_pd_vector.qza \\\n",
    "  --m-metadata-file ../data/metadata/metadata-selection.tsv \\\n",
    "  --o-visualization ../data/qiime2/filtered/core-metrics-results/faith-pd-group-significance.qzv\n",
    "\n",
    "! qiime diversity alpha-group-significance \\\n",
    "  --i-alpha-diversity ../data/qiime2/filtered/core-metrics-results/evenness_vector.qza \\\n",
    "  --m-metadata-file ../data/metadata/metadata-selection.tsv \\\n",
    "  --o-visualization ../data/qiime2/filtered/core-metrics-results/evenness-group-significance.qzv\n",
    "\n",
    "! qiime diversity alpha-group-significance \\\n",
    "  --i-alpha-diversity ../data/qiime2/filtered/core-metrics-results/shannon_vector.qza \\\n",
    "  --m-metadata-file ../data/metadata/metadata-selection.tsv \\\n",
    "  --o-visualization ../data/qiime2/filtered/core-metrics-results/shannon_group-significance.qzv"
   ]
  },
  {
   "cell_type": "code",
   "execution_count": 15,
   "metadata": {},
   "outputs": [
    {
     "data": {
      "text/html": [
       "<div><img onload=\"(function(div, url){\n",
       "if (typeof require !== 'undefined') {\n",
       "    var baseURL = require.toUrl('').split('/').slice(0, -2).join('/');\n",
       "} else {\n",
       "    var baseURL = JSON.parse(\n",
       "        document.getElementById('jupyter-config-data').innerHTML\n",
       "    ).baseUrl.slice(0, -1);\n",
       "}\n",
       "url = baseURL + url;\n",
       "fetch(url).then(function(res) {\n",
       "    if (res.status === 404) {\n",
       "        div.innerHTML = 'Install QIIME 2 Jupyter extension with:<br />' +\n",
       "                        '<code>jupyter serverextension enable --py qiime2' +\n",
       "                        ' --sys-prefix</code><br />then restart your server.' +\n",
       "                        '<br /><br />(Interactive output not available on ' +\n",
       "                        'static notebook viewer services like nbviewer.)';\n",
       "    } else if (res.status === 409) {\n",
       "        div.innerHTML = 'Visualization no longer in scope. Re-run this cell' +\n",
       "                        ' to see the visualization.';\n",
       "    } else if (res.ok) {\n",
       "        url = res.url;\n",
       "        div.innerHTML = '<iframe src=\\'' + url + '\\' style=\\'' +\n",
       "                        'width: 100%; height: 700px; border: 0;\\'>' +\n",
       "                        '</iframe><hr />Open in a: <a href=\\'' + url + '\\'' +\n",
       "                        ' target=\\'_blank\\'>new window</a>'\n",
       "    } else {\n",
       "        div.innerHTML = 'Something has gone wrong. Check notebook server for' +\n",
       "                        ' errors.';\n",
       "    }\n",
       "});\n",
       "})(this.parentElement, '/qiime2/redirect?location=/tmp/qiime2-archive-444kiibi')\" src=\"data:image/gif;base64,R0lGODlhAQABAIAAAP///wAAACH5BAEAAAAALAAAAAABAAEAAAICRAEAOw==\" /></div>"
      ],
      "text/plain": [
       "<visualization: Visualization uuid: 8a0a3381-782d-4009-84a4-2c7be00b140b>"
      ]
     },
     "execution_count": 15,
     "metadata": {},
     "output_type": "execute_result"
    }
   ],
   "source": [
    "#Visualization.load('../data/qiime2/filtered/core-metrics-results/faith-pd-group-significance.qzv')\n",
    "#Visualization.load('../data/qiime2/filtered/core-metrics-results/evenness-group-significance.qzv')\n",
    "Visualization.load('../data/qiime2/filtered/core-metrics-results/shannon_group-significance.qzv')"
   ]
  },
  {
   "cell_type": "markdown",
   "metadata": {},
   "source": [
    "# Assign Taxonomy"
   ]
  },
  {
   "cell_type": "code",
   "execution_count": 16,
   "metadata": {},
   "outputs": [
    {
     "name": "stdout",
     "output_type": "stream",
     "text": [
      "\u001b[32mSaved FeatureData[Taxonomy] to: ../data/qiime2/filtered/taxonomy.qza\u001b[0m\n"
     ]
    }
   ],
   "source": [
    "! qiime feature-classifier classify-sklearn \\\n",
    "    --p-n-jobs 8 \\\n",
    "    --i-classifier ../data/classifier/gg_13_8_otus/classifier.qza \\\n",
    "    --i-reads ../data/qiime2/rep-seqs-deblur.qza \\\n",
    "    --o-classification ../data/qiime2/filtered/taxonomy.qza \\\n",
    "    --verbose"
   ]
  },
  {
   "cell_type": "code",
   "execution_count": 17,
   "metadata": {},
   "outputs": [
    {
     "name": "stdout",
     "output_type": "stream",
     "text": [
      "\u001b[32mSaved Visualization to: ../data/qiime2/filtered/taxonomy.qzv\u001b[0m\n",
      "\u001b[32mSaved Visualization to: ../data/qiime2/filtered/taxa-bar-plots.qzv\u001b[0m\n"
     ]
    },
    {
     "data": {
      "text/plain": [
       "'\\n#first, export your data as a .biom\\n! qiime tools export   ../data/qiime2/filtered/feature-table.qza   --output-dir ../data/qiime2/filtered/exported-feature-table\\n\\n#then export taxonomy info\\n! qiime tools export   ../data/qiime2/filtered/taxonomy.qza   --output-dir ../data/qiime2/filtered/exported-feature-table\\n\\n#then combine the two using the biome package (dependence loaded as part of QIIME2 install)\\n'"
      ]
     },
     "execution_count": 17,
     "metadata": {},
     "output_type": "execute_result"
    }
   ],
   "source": [
    "! qiime metadata tabulate \\\n",
    "  --m-input-file ../data/qiime2/filtered/taxonomy.qza \\\n",
    "  --o-visualization ../data/qiime2/filtered/taxonomy.qzv\n",
    "\n",
    "! qiime taxa barplot \\\n",
    "  --i-table ../data/qiime2/table-deblur.qza \\\n",
    "  --i-taxonomy ../data/qiime2/filtered/taxonomy.qza \\\n",
    "  --m-metadata-file ../data/metadata/metadata-selection.tsv \\\n",
    "  --o-visualization ../data/qiime2/filtered/taxa-bar-plots.qzv"
   ]
  },
  {
   "cell_type": "code",
   "execution_count": 20,
   "metadata": {},
   "outputs": [
    {
     "data": {
      "text/html": [
       "<div><img onload=\"(function(div, url){\n",
       "if (typeof require !== 'undefined') {\n",
       "    var baseURL = require.toUrl('').split('/').slice(0, -2).join('/');\n",
       "} else {\n",
       "    var baseURL = JSON.parse(\n",
       "        document.getElementById('jupyter-config-data').innerHTML\n",
       "    ).baseUrl.slice(0, -1);\n",
       "}\n",
       "url = baseURL + url;\n",
       "fetch(url).then(function(res) {\n",
       "    if (res.status === 404) {\n",
       "        div.innerHTML = 'Install QIIME 2 Jupyter extension with:<br />' +\n",
       "                        '<code>jupyter serverextension enable --py qiime2' +\n",
       "                        ' --sys-prefix</code><br />then restart your server.' +\n",
       "                        '<br /><br />(Interactive output not available on ' +\n",
       "                        'static notebook viewer services like nbviewer.)';\n",
       "    } else if (res.status === 409) {\n",
       "        div.innerHTML = 'Visualization no longer in scope. Re-run this cell' +\n",
       "                        ' to see the visualization.';\n",
       "    } else if (res.ok) {\n",
       "        url = res.url;\n",
       "        div.innerHTML = '<iframe src=\\'' + url + '\\' style=\\'' +\n",
       "                        'width: 100%; height: 700px; border: 0;\\'>' +\n",
       "                        '</iframe><hr />Open in a: <a href=\\'' + url + '\\'' +\n",
       "                        ' target=\\'_blank\\'>new window</a>'\n",
       "    } else {\n",
       "        div.innerHTML = 'Something has gone wrong. Check notebook server for' +\n",
       "                        ' errors.';\n",
       "    }\n",
       "});\n",
       "})(this.parentElement, '/qiime2/redirect?location=/tmp/qiime2-archive-j3lk3kkx')\" src=\"data:image/gif;base64,R0lGODlhAQABAIAAAP///wAAACH5BAEAAAAALAAAAAABAAEAAAICRAEAOw==\" /></div>"
      ],
      "text/plain": [
       "<visualization: Visualization uuid: 54cfb191-91db-4bce-b77a-06a399692ad4>"
      ]
     },
     "execution_count": 20,
     "metadata": {},
     "output_type": "execute_result"
    }
   ],
   "source": [
    "Visualization.load('../data/qiime2/filtered/taxonomy.qzv')"
   ]
  },
  {
   "cell_type": "code",
   "execution_count": 3,
   "metadata": {},
   "outputs": [
    {
     "data": {
      "text/html": [
       "<div><img onload=\"(function(div, url){\n",
       "if (typeof require !== 'undefined') {\n",
       "    var baseURL = require.toUrl('').split('/').slice(0, -2).join('/');\n",
       "} else {\n",
       "    var baseURL = JSON.parse(\n",
       "        document.getElementById('jupyter-config-data').innerHTML\n",
       "    ).baseUrl.slice(0, -1);\n",
       "}\n",
       "url = baseURL + url;\n",
       "fetch(url).then(function(res) {\n",
       "    if (res.status === 404) {\n",
       "        div.innerHTML = 'Install QIIME 2 Jupyter extension with:<br />' +\n",
       "                        '<code>jupyter serverextension enable --py qiime2' +\n",
       "                        ' --sys-prefix</code><br />then restart your server.' +\n",
       "                        '<br /><br />(Interactive output not available on ' +\n",
       "                        'static notebook viewer services like nbviewer.)';\n",
       "    } else if (res.status === 409) {\n",
       "        div.innerHTML = 'Visualization no longer in scope. Re-run this cell' +\n",
       "                        ' to see the visualization.';\n",
       "    } else if (res.ok) {\n",
       "        url = res.url;\n",
       "        div.innerHTML = '<iframe src=\\'' + url + '\\' style=\\'' +\n",
       "                        'width: 100%; height: 700px; border: 0;\\'>' +\n",
       "                        '</iframe><hr />Open in a: <a href=\\'' + url + '\\'' +\n",
       "                        ' target=\\'_blank\\'>new window</a>'\n",
       "    } else {\n",
       "        div.innerHTML = 'Something has gone wrong. Check notebook server for' +\n",
       "                        ' errors.';\n",
       "    }\n",
       "});\n",
       "})(this.parentElement, '/qiime2/redirect?location=/tmp/qiime2-archive-3dn5a1ng')\" src=\"data:image/gif;base64,R0lGODlhAQABAIAAAP///wAAACH5BAEAAAAALAAAAAABAAEAAAICRAEAOw==\" /></div>"
      ],
      "text/plain": [
       "<visualization: Visualization uuid: b88dd34d-5501-4ab7-8c39-708dfce06172>"
      ]
     },
     "execution_count": 3,
     "metadata": {},
     "output_type": "execute_result"
    }
   ],
   "source": [
    "Visualization.load('../data/qiime2/filtered/taxa-bar-plots.qzv')"
   ]
  },
  {
   "cell_type": "code",
   "execution_count": 19,
   "metadata": {},
   "outputs": [
    {
     "name": "stdout",
     "output_type": "stream",
     "text": [
      "\u001b[32mExported ../data/qiime2/table-deblur.qza as BIOMV210DirFmt to directory ../data/qiime2/filtered/exported-feature-table\u001b[0m\n",
      "\u001b[32mExported ../data/qiime2/filtered/taxonomy.qza as TSVTaxonomyDirectoryFormat to directory ../data/qiime2/filtered/exported-feature-table\u001b[0m\n",
      "\u001b[32mExported ../data/qiime2/rep-seqs-deblur.qza as DNASequencesDirectoryFormat to directory ../data/qiime2/filtered/exported-feature-table\u001b[0m\n"
     ]
    }
   ],
   "source": [
    "#first, export your data as a .biom\n",
    "! qiime tools export \\\n",
    "  --input-path ../data/qiime2/table-deblur.qza \\\n",
    "  --output-path ../data/qiime2/filtered/exported-feature-table\n",
    "\n",
    "#then export taxonomy info\n",
    "! qiime tools export \\\n",
    "  --input-path ../data/qiime2/filtered/taxonomy.qza \\\n",
    "  --output-path ../data/qiime2/filtered/exported-feature-table\n",
    "\n",
    "! qiime tools export \\\n",
    "    --input-path ../data/qiime2/rep-seqs-deblur.qza \\\n",
    "    --output-path ../data/qiime2/filtered/exported-feature-table"
   ]
  },
  {
   "cell_type": "code",
   "execution_count": 20,
   "metadata": {},
   "outputs": [],
   "source": [
    "! biom convert -i ../data/qiime2/filtered/exported-feature-table/feature-table.biom \\\n",
    "    -o ../data/qiime2/filtered/exported-feature-table/feature-table.tsv \\\n",
    "    --to-tsv"
   ]
  },
  {
   "cell_type": "code",
   "execution_count": 21,
   "metadata": {},
   "outputs": [
    {
     "data": {
      "text/html": [
       "<div>\n",
       "<style scoped>\n",
       "    .dataframe tbody tr th:only-of-type {\n",
       "        vertical-align: middle;\n",
       "    }\n",
       "\n",
       "    .dataframe tbody tr th {\n",
       "        vertical-align: top;\n",
       "    }\n",
       "\n",
       "    .dataframe thead th {\n",
       "        text-align: right;\n",
       "    }\n",
       "</style>\n",
       "<table border=\"1\" class=\"dataframe\">\n",
       "  <thead>\n",
       "    <tr style=\"text-align: right;\">\n",
       "      <th></th>\n",
       "      <th>P8_rep4</th>\n",
       "      <th>P5_rep4</th>\n",
       "      <th>P9_rep1</th>\n",
       "      <th>P9_rep5</th>\n",
       "      <th>P9_rep4</th>\n",
       "      <th>P5_rep1</th>\n",
       "      <th>P8_rep2</th>\n",
       "      <th>P8_rep1</th>\n",
       "      <th>P9_rep2</th>\n",
       "      <th>P9_rep3</th>\n",
       "      <th>P8_rep3</th>\n",
       "      <th>P5_rep5</th>\n",
       "      <th>P5_rep2</th>\n",
       "      <th>P5_rep3</th>\n",
       "      <th>P8_rep5</th>\n",
       "    </tr>\n",
       "    <tr>\n",
       "      <th>asv</th>\n",
       "      <th></th>\n",
       "      <th></th>\n",
       "      <th></th>\n",
       "      <th></th>\n",
       "      <th></th>\n",
       "      <th></th>\n",
       "      <th></th>\n",
       "      <th></th>\n",
       "      <th></th>\n",
       "      <th></th>\n",
       "      <th></th>\n",
       "      <th></th>\n",
       "      <th></th>\n",
       "      <th></th>\n",
       "      <th></th>\n",
       "    </tr>\n",
       "  </thead>\n",
       "  <tbody>\n",
       "    <tr>\n",
       "      <th>e5400356daabbc5a41f935af70513043</th>\n",
       "      <td>1598.0</td>\n",
       "      <td>630.0</td>\n",
       "      <td>297.0</td>\n",
       "      <td>795.0</td>\n",
       "      <td>1449.0</td>\n",
       "      <td>359.0</td>\n",
       "      <td>2160.0</td>\n",
       "      <td>265.0</td>\n",
       "      <td>220.0</td>\n",
       "      <td>1736.0</td>\n",
       "      <td>1673.0</td>\n",
       "      <td>420.0</td>\n",
       "      <td>714.0</td>\n",
       "      <td>234.0</td>\n",
       "      <td>1850.0</td>\n",
       "    </tr>\n",
       "    <tr>\n",
       "      <th>7cbebea20e305a557ffc3dc23bae61ae</th>\n",
       "      <td>1111.0</td>\n",
       "      <td>36.0</td>\n",
       "      <td>127.0</td>\n",
       "      <td>335.0</td>\n",
       "      <td>610.0</td>\n",
       "      <td>24.0</td>\n",
       "      <td>1502.0</td>\n",
       "      <td>202.0</td>\n",
       "      <td>54.0</td>\n",
       "      <td>699.0</td>\n",
       "      <td>1089.0</td>\n",
       "      <td>26.0</td>\n",
       "      <td>43.0</td>\n",
       "      <td>19.0</td>\n",
       "      <td>1216.0</td>\n",
       "    </tr>\n",
       "    <tr>\n",
       "      <th>4dc5023fdc00f325e169fced16dca21c</th>\n",
       "      <td>1022.0</td>\n",
       "      <td>93.0</td>\n",
       "      <td>323.0</td>\n",
       "      <td>863.0</td>\n",
       "      <td>2013.0</td>\n",
       "      <td>50.0</td>\n",
       "      <td>1855.0</td>\n",
       "      <td>212.0</td>\n",
       "      <td>254.0</td>\n",
       "      <td>1387.0</td>\n",
       "      <td>1048.0</td>\n",
       "      <td>88.0</td>\n",
       "      <td>108.0</td>\n",
       "      <td>48.0</td>\n",
       "      <td>1028.0</td>\n",
       "    </tr>\n",
       "    <tr>\n",
       "      <th>4c076cffb4dc7aaae47cb237d7067066</th>\n",
       "      <td>739.0</td>\n",
       "      <td>942.0</td>\n",
       "      <td>104.0</td>\n",
       "      <td>347.0</td>\n",
       "      <td>814.0</td>\n",
       "      <td>590.0</td>\n",
       "      <td>611.0</td>\n",
       "      <td>113.0</td>\n",
       "      <td>183.0</td>\n",
       "      <td>1069.0</td>\n",
       "      <td>476.0</td>\n",
       "      <td>546.0</td>\n",
       "      <td>832.0</td>\n",
       "      <td>331.0</td>\n",
       "      <td>742.0</td>\n",
       "    </tr>\n",
       "    <tr>\n",
       "      <th>3c4c98cf9b1264b89f9ecd0812a0f7d8</th>\n",
       "      <td>632.0</td>\n",
       "      <td>195.0</td>\n",
       "      <td>224.0</td>\n",
       "      <td>571.0</td>\n",
       "      <td>1259.0</td>\n",
       "      <td>113.0</td>\n",
       "      <td>615.0</td>\n",
       "      <td>88.0</td>\n",
       "      <td>157.0</td>\n",
       "      <td>1190.0</td>\n",
       "      <td>530.0</td>\n",
       "      <td>135.0</td>\n",
       "      <td>200.0</td>\n",
       "      <td>76.0</td>\n",
       "      <td>611.0</td>\n",
       "    </tr>\n",
       "    <tr>\n",
       "      <th>...</th>\n",
       "      <td>...</td>\n",
       "      <td>...</td>\n",
       "      <td>...</td>\n",
       "      <td>...</td>\n",
       "      <td>...</td>\n",
       "      <td>...</td>\n",
       "      <td>...</td>\n",
       "      <td>...</td>\n",
       "      <td>...</td>\n",
       "      <td>...</td>\n",
       "      <td>...</td>\n",
       "      <td>...</td>\n",
       "      <td>...</td>\n",
       "      <td>...</td>\n",
       "      <td>...</td>\n",
       "    </tr>\n",
       "    <tr>\n",
       "      <th>1b5c982a1bb0eb9715fa9be2ed108bf6</th>\n",
       "      <td>0.0</td>\n",
       "      <td>0.0</td>\n",
       "      <td>0.0</td>\n",
       "      <td>0.0</td>\n",
       "      <td>0.0</td>\n",
       "      <td>0.0</td>\n",
       "      <td>0.0</td>\n",
       "      <td>0.0</td>\n",
       "      <td>0.0</td>\n",
       "      <td>0.0</td>\n",
       "      <td>0.0</td>\n",
       "      <td>0.0</td>\n",
       "      <td>6.0</td>\n",
       "      <td>5.0</td>\n",
       "      <td>0.0</td>\n",
       "    </tr>\n",
       "    <tr>\n",
       "      <th>19f24683ed9a487906f6a50bd09181a4</th>\n",
       "      <td>0.0</td>\n",
       "      <td>0.0</td>\n",
       "      <td>0.0</td>\n",
       "      <td>0.0</td>\n",
       "      <td>0.0</td>\n",
       "      <td>0.0</td>\n",
       "      <td>0.0</td>\n",
       "      <td>0.0</td>\n",
       "      <td>0.0</td>\n",
       "      <td>0.0</td>\n",
       "      <td>0.0</td>\n",
       "      <td>0.0</td>\n",
       "      <td>0.0</td>\n",
       "      <td>11.0</td>\n",
       "      <td>0.0</td>\n",
       "    </tr>\n",
       "    <tr>\n",
       "      <th>7e2632e260efa3086386801f5b1484ef</th>\n",
       "      <td>0.0</td>\n",
       "      <td>0.0</td>\n",
       "      <td>0.0</td>\n",
       "      <td>0.0</td>\n",
       "      <td>0.0</td>\n",
       "      <td>0.0</td>\n",
       "      <td>0.0</td>\n",
       "      <td>0.0</td>\n",
       "      <td>0.0</td>\n",
       "      <td>0.0</td>\n",
       "      <td>0.0</td>\n",
       "      <td>0.0</td>\n",
       "      <td>0.0</td>\n",
       "      <td>0.0</td>\n",
       "      <td>43.0</td>\n",
       "    </tr>\n",
       "    <tr>\n",
       "      <th>af6122ff00ffab21a39e62cbb656e011</th>\n",
       "      <td>0.0</td>\n",
       "      <td>0.0</td>\n",
       "      <td>0.0</td>\n",
       "      <td>0.0</td>\n",
       "      <td>0.0</td>\n",
       "      <td>0.0</td>\n",
       "      <td>0.0</td>\n",
       "      <td>0.0</td>\n",
       "      <td>0.0</td>\n",
       "      <td>0.0</td>\n",
       "      <td>0.0</td>\n",
       "      <td>0.0</td>\n",
       "      <td>0.0</td>\n",
       "      <td>0.0</td>\n",
       "      <td>15.0</td>\n",
       "    </tr>\n",
       "    <tr>\n",
       "      <th>58b21c767eb21c6049f31ce76a95b641</th>\n",
       "      <td>0.0</td>\n",
       "      <td>0.0</td>\n",
       "      <td>0.0</td>\n",
       "      <td>0.0</td>\n",
       "      <td>0.0</td>\n",
       "      <td>0.0</td>\n",
       "      <td>0.0</td>\n",
       "      <td>0.0</td>\n",
       "      <td>0.0</td>\n",
       "      <td>0.0</td>\n",
       "      <td>0.0</td>\n",
       "      <td>0.0</td>\n",
       "      <td>0.0</td>\n",
       "      <td>0.0</td>\n",
       "      <td>10.0</td>\n",
       "    </tr>\n",
       "  </tbody>\n",
       "</table>\n",
       "<p>8820 rows × 15 columns</p>\n",
       "</div>"
      ],
      "text/plain": [
       "                                  P8_rep4  P5_rep4  P9_rep1  P9_rep5  P9_rep4  \\\n",
       "asv                                                                             \n",
       "e5400356daabbc5a41f935af70513043   1598.0    630.0    297.0    795.0   1449.0   \n",
       "7cbebea20e305a557ffc3dc23bae61ae   1111.0     36.0    127.0    335.0    610.0   \n",
       "4dc5023fdc00f325e169fced16dca21c   1022.0     93.0    323.0    863.0   2013.0   \n",
       "4c076cffb4dc7aaae47cb237d7067066    739.0    942.0    104.0    347.0    814.0   \n",
       "3c4c98cf9b1264b89f9ecd0812a0f7d8    632.0    195.0    224.0    571.0   1259.0   \n",
       "...                                   ...      ...      ...      ...      ...   \n",
       "1b5c982a1bb0eb9715fa9be2ed108bf6      0.0      0.0      0.0      0.0      0.0   \n",
       "19f24683ed9a487906f6a50bd09181a4      0.0      0.0      0.0      0.0      0.0   \n",
       "7e2632e260efa3086386801f5b1484ef      0.0      0.0      0.0      0.0      0.0   \n",
       "af6122ff00ffab21a39e62cbb656e011      0.0      0.0      0.0      0.0      0.0   \n",
       "58b21c767eb21c6049f31ce76a95b641      0.0      0.0      0.0      0.0      0.0   \n",
       "\n",
       "                                  P5_rep1  P8_rep2  P8_rep1  P9_rep2  P9_rep3  \\\n",
       "asv                                                                             \n",
       "e5400356daabbc5a41f935af70513043    359.0   2160.0    265.0    220.0   1736.0   \n",
       "7cbebea20e305a557ffc3dc23bae61ae     24.0   1502.0    202.0     54.0    699.0   \n",
       "4dc5023fdc00f325e169fced16dca21c     50.0   1855.0    212.0    254.0   1387.0   \n",
       "4c076cffb4dc7aaae47cb237d7067066    590.0    611.0    113.0    183.0   1069.0   \n",
       "3c4c98cf9b1264b89f9ecd0812a0f7d8    113.0    615.0     88.0    157.0   1190.0   \n",
       "...                                   ...      ...      ...      ...      ...   \n",
       "1b5c982a1bb0eb9715fa9be2ed108bf6      0.0      0.0      0.0      0.0      0.0   \n",
       "19f24683ed9a487906f6a50bd09181a4      0.0      0.0      0.0      0.0      0.0   \n",
       "7e2632e260efa3086386801f5b1484ef      0.0      0.0      0.0      0.0      0.0   \n",
       "af6122ff00ffab21a39e62cbb656e011      0.0      0.0      0.0      0.0      0.0   \n",
       "58b21c767eb21c6049f31ce76a95b641      0.0      0.0      0.0      0.0      0.0   \n",
       "\n",
       "                                  P8_rep3  P5_rep5  P5_rep2  P5_rep3  P8_rep5  \n",
       "asv                                                                            \n",
       "e5400356daabbc5a41f935af70513043   1673.0    420.0    714.0    234.0   1850.0  \n",
       "7cbebea20e305a557ffc3dc23bae61ae   1089.0     26.0     43.0     19.0   1216.0  \n",
       "4dc5023fdc00f325e169fced16dca21c   1048.0     88.0    108.0     48.0   1028.0  \n",
       "4c076cffb4dc7aaae47cb237d7067066    476.0    546.0    832.0    331.0    742.0  \n",
       "3c4c98cf9b1264b89f9ecd0812a0f7d8    530.0    135.0    200.0     76.0    611.0  \n",
       "...                                   ...      ...      ...      ...      ...  \n",
       "1b5c982a1bb0eb9715fa9be2ed108bf6      0.0      0.0      6.0      5.0      0.0  \n",
       "19f24683ed9a487906f6a50bd09181a4      0.0      0.0      0.0     11.0      0.0  \n",
       "7e2632e260efa3086386801f5b1484ef      0.0      0.0      0.0      0.0     43.0  \n",
       "af6122ff00ffab21a39e62cbb656e011      0.0      0.0      0.0      0.0     15.0  \n",
       "58b21c767eb21c6049f31ce76a95b641      0.0      0.0      0.0      0.0     10.0  \n",
       "\n",
       "[8820 rows x 15 columns]"
      ]
     },
     "execution_count": 21,
     "metadata": {},
     "output_type": "execute_result"
    }
   ],
   "source": [
    "df_biom = pd.read_csv('../data/qiime2/filtered/exported-feature-table/feature-table.tsv', sep='\\t', skiprows=1, index_col=0)\n",
    "df_biom.columns = [i.replace('-','_') for i in df_biom.columns.values]\n",
    "df_biom.index.name = 'asv'\n",
    "df_biom"
   ]
  },
  {
   "cell_type": "code",
   "execution_count": 22,
   "metadata": {},
   "outputs": [],
   "source": [
    "df_tax = pd.read_csv('../data/qiime2/filtered/exported-feature-table/taxonomy.tsv', sep='\\t', index_col=0)"
   ]
  },
  {
   "cell_type": "code",
   "execution_count": 23,
   "metadata": {},
   "outputs": [
    {
     "data": {
      "text/html": [
       "<div>\n",
       "<style scoped>\n",
       "    .dataframe tbody tr th:only-of-type {\n",
       "        vertical-align: middle;\n",
       "    }\n",
       "\n",
       "    .dataframe tbody tr th {\n",
       "        vertical-align: top;\n",
       "    }\n",
       "\n",
       "    .dataframe thead th {\n",
       "        text-align: right;\n",
       "    }\n",
       "</style>\n",
       "<table border=\"1\" class=\"dataframe\">\n",
       "  <thead>\n",
       "    <tr style=\"text-align: right;\">\n",
       "      <th></th>\n",
       "      <th>Taxon</th>\n",
       "      <th>Confidence</th>\n",
       "    </tr>\n",
       "    <tr>\n",
       "      <th>Feature ID</th>\n",
       "      <th></th>\n",
       "      <th></th>\n",
       "    </tr>\n",
       "  </thead>\n",
       "  <tbody>\n",
       "    <tr>\n",
       "      <th>e5400356daabbc5a41f935af70513043</th>\n",
       "      <td>k__Bacteria; p__Proteobacteria; c__Alphaproteo...</td>\n",
       "      <td>0.776749</td>\n",
       "    </tr>\n",
       "    <tr>\n",
       "      <th>7cbebea20e305a557ffc3dc23bae61ae</th>\n",
       "      <td>k__Bacteria; p__Actinobacteria; c__Actinobacte...</td>\n",
       "      <td>0.994210</td>\n",
       "    </tr>\n",
       "    <tr>\n",
       "      <th>4dc5023fdc00f325e169fced16dca21c</th>\n",
       "      <td>k__Bacteria; p__Verrucomicrobia; c__[Spartobac...</td>\n",
       "      <td>1.000000</td>\n",
       "    </tr>\n",
       "    <tr>\n",
       "      <th>4c076cffb4dc7aaae47cb237d7067066</th>\n",
       "      <td>k__Bacteria; p__Firmicutes; c__Bacilli; o__Bac...</td>\n",
       "      <td>0.999167</td>\n",
       "    </tr>\n",
       "    <tr>\n",
       "      <th>3c4c98cf9b1264b89f9ecd0812a0f7d8</th>\n",
       "      <td>k__Bacteria; p__Proteobacteria; c__Alphaproteo...</td>\n",
       "      <td>0.999924</td>\n",
       "    </tr>\n",
       "    <tr>\n",
       "      <th>...</th>\n",
       "      <td>...</td>\n",
       "      <td>...</td>\n",
       "    </tr>\n",
       "    <tr>\n",
       "      <th>1b5c982a1bb0eb9715fa9be2ed108bf6</th>\n",
       "      <td>k__Bacteria; p__Acidobacteria; c__iii1-8; o__D...</td>\n",
       "      <td>1.000000</td>\n",
       "    </tr>\n",
       "    <tr>\n",
       "      <th>19f24683ed9a487906f6a50bd09181a4</th>\n",
       "      <td>k__Bacteria; p__Proteobacteria; c__Alphaproteo...</td>\n",
       "      <td>0.794185</td>\n",
       "    </tr>\n",
       "    <tr>\n",
       "      <th>7e2632e260efa3086386801f5b1484ef</th>\n",
       "      <td>k__Bacteria; p__Verrucomicrobia; c__[Spartobac...</td>\n",
       "      <td>0.999990</td>\n",
       "    </tr>\n",
       "    <tr>\n",
       "      <th>af6122ff00ffab21a39e62cbb656e011</th>\n",
       "      <td>k__Bacteria; p__Acidobacteria; c__Acidobacteri...</td>\n",
       "      <td>0.999949</td>\n",
       "    </tr>\n",
       "    <tr>\n",
       "      <th>58b21c767eb21c6049f31ce76a95b641</th>\n",
       "      <td>k__Bacteria; p__TM7; c__TM7-1; o__; f__; g__; s__</td>\n",
       "      <td>1.000000</td>\n",
       "    </tr>\n",
       "  </tbody>\n",
       "</table>\n",
       "<p>8820 rows × 2 columns</p>\n",
       "</div>"
      ],
      "text/plain": [
       "                                                                              Taxon  \\\n",
       "Feature ID                                                                            \n",
       "e5400356daabbc5a41f935af70513043  k__Bacteria; p__Proteobacteria; c__Alphaproteo...   \n",
       "7cbebea20e305a557ffc3dc23bae61ae  k__Bacteria; p__Actinobacteria; c__Actinobacte...   \n",
       "4dc5023fdc00f325e169fced16dca21c  k__Bacteria; p__Verrucomicrobia; c__[Spartobac...   \n",
       "4c076cffb4dc7aaae47cb237d7067066  k__Bacteria; p__Firmicutes; c__Bacilli; o__Bac...   \n",
       "3c4c98cf9b1264b89f9ecd0812a0f7d8  k__Bacteria; p__Proteobacteria; c__Alphaproteo...   \n",
       "...                                                                             ...   \n",
       "1b5c982a1bb0eb9715fa9be2ed108bf6  k__Bacteria; p__Acidobacteria; c__iii1-8; o__D...   \n",
       "19f24683ed9a487906f6a50bd09181a4  k__Bacteria; p__Proteobacteria; c__Alphaproteo...   \n",
       "7e2632e260efa3086386801f5b1484ef  k__Bacteria; p__Verrucomicrobia; c__[Spartobac...   \n",
       "af6122ff00ffab21a39e62cbb656e011  k__Bacteria; p__Acidobacteria; c__Acidobacteri...   \n",
       "58b21c767eb21c6049f31ce76a95b641  k__Bacteria; p__TM7; c__TM7-1; o__; f__; g__; s__   \n",
       "\n",
       "                                  Confidence  \n",
       "Feature ID                                    \n",
       "e5400356daabbc5a41f935af70513043    0.776749  \n",
       "7cbebea20e305a557ffc3dc23bae61ae    0.994210  \n",
       "4dc5023fdc00f325e169fced16dca21c    1.000000  \n",
       "4c076cffb4dc7aaae47cb237d7067066    0.999167  \n",
       "3c4c98cf9b1264b89f9ecd0812a0f7d8    0.999924  \n",
       "...                                      ...  \n",
       "1b5c982a1bb0eb9715fa9be2ed108bf6    1.000000  \n",
       "19f24683ed9a487906f6a50bd09181a4    0.794185  \n",
       "7e2632e260efa3086386801f5b1484ef    0.999990  \n",
       "af6122ff00ffab21a39e62cbb656e011    0.999949  \n",
       "58b21c767eb21c6049f31ce76a95b641    1.000000  \n",
       "\n",
       "[8820 rows x 2 columns]"
      ]
     },
     "execution_count": 23,
     "metadata": {},
     "output_type": "execute_result"
    }
   ],
   "source": [
    "df_tax"
   ]
  }
 ],
 "metadata": {
  "kernelspec": {
   "display_name": "Python 3",
   "language": "python",
   "name": "python3"
  },
  "language_info": {
   "codemirror_mode": {
    "name": "ipython",
    "version": 3
   },
   "file_extension": ".py",
   "mimetype": "text/x-python",
   "name": "python",
   "nbconvert_exporter": "python",
   "pygments_lexer": "ipython3",
   "version": "3.6.13"
  }
 },
 "nbformat": 4,
 "nbformat_minor": 4
}
