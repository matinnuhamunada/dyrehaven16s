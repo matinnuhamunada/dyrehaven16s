{
 "cells": [
  {
   "cell_type": "code",
   "execution_count": 8,
   "id": "waiting-shanghai",
   "metadata": {},
   "outputs": [],
   "source": [
    "#! wget -O ../data/classifier/gg_13_8_otus.tar.gz ftp://greengenes.microbio.me/greengenes_release/gg_13_5/gg_13_8_otus.tar.gz\n",
    "#! wget -O ../data/classifier/Silva_132_release.zip https://www.arb-silva.de/fileadmin/silva_databases/qiime/Silva_132_release.zip\n",
    "#! tar -xvf ../data/classifier/gg_13_8_otus.tar.gz -C ../data/classifier/\n",
    "#! unzip ../data/classifier/Silva_132_release.zip -d ../data/classifier/\n",
    "! find ../data/classifier/ -maxdepth 1 -name \"*.tar.gz\" -type f -delete\n",
    "! find ../data/classifier/ -maxdepth 1 -name \"*.zip\" -type f  -delete"
   ]
  },
  {
   "cell_type": "code",
   "execution_count": 12,
   "id": "present-intersection",
   "metadata": {},
   "outputs": [
    {
     "name": "stdout",
     "output_type": "stream",
     "text": [
      "\u001b[32mImported ../data/classifier/gg_13_8_otus/rep_set/99_otus.fasta as DNASequencesDirectoryFormat to ../data/classifier/gg_13_8_otus/99_otus.qza\u001b[0m\n",
      "\u001b[32mImported ../data/classifier/gg_13_8_otus/taxonomy/99_otu_taxonomy.txt as HeaderlessTSVTaxonomyFormat to ../data/classifier/gg_13_8_otus/ref-taxonomy.qza\u001b[0m\n"
     ]
    }
   ],
   "source": [
    "! qiime tools import \\\n",
    "  --type 'FeatureData[Sequence]' \\\n",
    "  --input-path ../data/classifier/gg_13_8_otus/rep_set/99_otus.fasta \\\n",
    "  --output-path ../data/classifier/gg_13_8_otus/99_otus.qza\n",
    "\n",
    "! qiime tools import \\\n",
    "  --type 'FeatureData[Taxonomy]' \\\n",
    "  --input-format HeaderlessTSVTaxonomyFormat \\\n",
    "  --input-path ../data/classifier/gg_13_8_otus/taxonomy/99_otu_taxonomy.txt \\\n",
    "  --output-path ../data/classifier/gg_13_8_otus/ref-taxonomy.qza"
   ]
  },
  {
   "cell_type": "code",
   "execution_count": 16,
   "id": "according-anime",
   "metadata": {},
   "outputs": [
    {
     "name": "stdout",
     "output_type": "stream",
     "text": [
      "\u001b[32mSaved FeatureData[Sequence] to: ../data/classifier/gg_13_8_otus/ref-seqs.qza\u001b[0m\n"
     ]
    }
   ],
   "source": [
    "! qiime feature-classifier extract-reads \\\n",
    "  --i-sequences ../data/classifier/gg_13_8_otus/99_otus.qza \\\n",
    "  --p-f-primer CCTACGGGNGGCWGCAG \\\n",
    "  --p-r-primer GACTACHVGGGTATCTAATCC \\\n",
    "  --p-trunc-len 400 \\\n",
    "  --p-min-length 370 \\\n",
    "  --p-max-length 470 \\\n",
    "  --o-reads ../data/classifier/gg_13_8_otus/ref-seqs.qza \\\n",
    "  --p-n-jobs 8 --verbose\n"
   ]
  },
  {
   "cell_type": "code",
   "execution_count": 19,
   "id": "baking-hunter",
   "metadata": {},
   "outputs": [
    {
     "name": "stdout",
     "output_type": "stream",
     "text": [
      "/home/WIN.DTU.DK/matinnu/miniconda3/envs/qiime2-2021.2/lib/python3.6/site-packages/q2_feature_classifier/classifier.py:102: UserWarning: The TaxonomicClassifier artifact that results from this method was trained using scikit-learn version 0.23.1. It cannot be used with other versions of scikit-learn. (While the classifier may complete successfully, the results will be unreliable.)\n",
      "  warnings.warn(warning, UserWarning)\n",
      "\u001b[32mSaved TaxonomicClassifier to: ../data/classifier/gg_13_8_otus/classifier.qza\u001b[0m\n"
     ]
    }
   ],
   "source": [
    "! qiime feature-classifier fit-classifier-naive-bayes \\\n",
    "  --i-reference-reads ../data/classifier/gg_13_8_otus/ref-seqs.qza \\\n",
    "  --i-reference-taxonomy ../data/classifier/gg_13_8_otus/ref-taxonomy.qza \\\n",
    "  --o-classifier ../data/classifier/gg_13_8_otus/classifier.qza \\\n",
    "  --verbose "
   ]
  },
  {
   "cell_type": "code",
   "execution_count": 37,
   "id": "subject-hometown",
   "metadata": {},
   "outputs": [
    {
     "name": "stdout",
     "output_type": "stream",
     "text": [
      "\u001b[32mImported ../data/classifier/SILVA_132_QIIME_release/taxonomy/16S_only/99/majority_taxonomy_7_levels_corrected.txt as HeaderlessTSVTaxonomyFormat to ../data/classifier/SILVA_132_QIIME_release/ref-majority_taxonomy_7_levels.qza\u001b[0m\n"
     ]
    }
   ],
   "source": [
    "import sys\n",
    "import codecs\n",
    "\n",
    "! rm ../data/classifier/SILVA_132_QIIME_release/taxonomy/16S_only/99/majority_taxonomy_7_levels_corrected.txt\n",
    "with open(\"../data/classifier/SILVA_132_QIIME_release/taxonomy/16S_only/99/majority_taxonomy_7_levels_corrected.txt\", \"a\") as f:\n",
    "    path = \"../data/classifier/SILVA_132_QIIME_release/taxonomy/16S_only/99/majority_taxonomy_7_levels.txt\"\n",
    "    fin = codecs.open(path,encoding='utf-8')\n",
    "    contents = fin.read()\n",
    "    newcontents = contents.replace('#','_')\n",
    "    print(newcontents, file=f)\n",
    "    \n",
    "! qiime tools import \\\n",
    "  --type 'FeatureData[Taxonomy]' \\\n",
    "  --input-format HeaderlessTSVTaxonomyFormat \\\n",
    "  --input-path ../data/classifier/SILVA_132_QIIME_release/taxonomy/16S_only/99/majority_taxonomy_7_levels_corrected.txt \\\n",
    "  --output-path ../data/classifier/SILVA_132_QIIME_release/ref-majority_taxonomy_7_levels.qza"
   ]
  },
  {
   "cell_type": "code",
   "execution_count": 20,
   "id": "comparative-variation",
   "metadata": {},
   "outputs": [
    {
     "name": "stdout",
     "output_type": "stream",
     "text": [
      "\u001b[32mImported ../data/classifier/SILVA_132_QIIME_release/rep_set/rep_set_16S_only/99/silva_132_99_16S.fna as DNASequencesDirectoryFormat to ../data/classifier/SILVA_132_QIIME_release/99_otus.qza\u001b[0m\n",
      "\u001b[32mImported ../data/classifier/SILVA_132_QIIME_release/taxonomy/16S_only/99/majority_taxonomy_7_levels.txt as HeaderlessTSVTaxonomyFormat to ../data/classifier/SILVA_132_QIIME_release/ref-majority_taxonomy_7_levels.qza\u001b[0m\n"
     ]
    }
   ],
   "source": [
    "! qiime tools import \\\n",
    "  --type 'FeatureData[Sequence]' \\\n",
    "  --input-path ../data/classifier/SILVA_132_QIIME_release/rep_set/rep_set_16S_only/99/silva_132_99_16S.fna \\\n",
    "  --output-path ../data/classifier/SILVA_132_QIIME_release/99_otus.qza\n",
    "\n"
   ]
  },
  {
   "cell_type": "code",
   "execution_count": 21,
   "id": "systematic-deviation",
   "metadata": {},
   "outputs": [
    {
     "name": "stdout",
     "output_type": "stream",
     "text": [
      "\u001b[32mSaved FeatureData[Sequence] to: ../data/classifier/SILVA_132_QIIME_release/ref-seqs.qza\u001b[0m\n"
     ]
    }
   ],
   "source": [
    "! qiime feature-classifier extract-reads \\\n",
    "  --i-sequences ../data/classifier/SILVA_132_QIIME_release/99_otus.qza \\\n",
    "  --p-f-primer CCTACGGGNGGCWGCAG \\\n",
    "  --p-r-primer GACTACHVGGGTATCTAATCC \\\n",
    "  --p-trunc-len 400 \\\n",
    "  --p-min-length 370 \\\n",
    "  --p-max-length 470 \\\n",
    "  --o-reads ../data/classifier/SILVA_132_QIIME_release/ref-seqs.qza \\\n",
    "  --p-n-jobs 8 --verbose"
   ]
  },
  {
   "cell_type": "code",
   "execution_count": 38,
   "id": "systematic-integration",
   "metadata": {},
   "outputs": [
    {
     "name": "stdout",
     "output_type": "stream",
     "text": [
      "/home/WIN.DTU.DK/matinnu/miniconda3/envs/qiime2-2021.2/lib/python3.6/site-packages/q2_feature_classifier/classifier.py:102: UserWarning: The TaxonomicClassifier artifact that results from this method was trained using scikit-learn version 0.23.1. It cannot be used with other versions of scikit-learn. (While the classifier may complete successfully, the results will be unreliable.)\n",
      "  warnings.warn(warning, UserWarning)\n",
      "Traceback (most recent call last):\n",
      "  File \"/home/WIN.DTU.DK/matinnu/miniconda3/envs/qiime2-2021.2/lib/python3.6/site-packages/q2cli/commands.py\", line 329, in __call__\n",
      "    results = action(**arguments)\n",
      "  File \"<decorator-gen-361>\", line 2, in fit_classifier_naive_bayes\n",
      "  File \"/home/WIN.DTU.DK/matinnu/miniconda3/envs/qiime2-2021.2/lib/python3.6/site-packages/qiime2/sdk/action.py\", line 245, in bound_callable\n",
      "    output_types, provenance)\n",
      "  File \"/home/WIN.DTU.DK/matinnu/miniconda3/envs/qiime2-2021.2/lib/python3.6/site-packages/qiime2/sdk/action.py\", line 390, in _callable_executor_\n",
      "    output_views = self._callable(**view_args)\n",
      "  File \"/home/WIN.DTU.DK/matinnu/miniconda3/envs/qiime2-2021.2/lib/python3.6/site-packages/q2_feature_classifier/classifier.py\", line 331, in generic_fitter\n",
      "    pipeline)\n",
      "  File \"/home/WIN.DTU.DK/matinnu/miniconda3/envs/qiime2-2021.2/lib/python3.6/site-packages/q2_feature_classifier/_skl.py\", line 31, in fit_pipeline\n",
      "    y, X = list(zip(*data))\n",
      "ValueError: not enough values to unpack (expected 2, got 0)\n",
      "\n",
      "\u001b[31m\u001b[1mPlugin error from feature-classifier:\n",
      "\n",
      "  not enough values to unpack (expected 2, got 0)\n",
      "\n",
      "See above for debug info.\u001b[0m\n"
     ]
    }
   ],
   "source": [
    "! qiime feature-classifier fit-classifier-naive-bayes \\\n",
    "  --i-reference-reads ../data/classifier/SILVA_132_QIIME_release/ref-seqs.qza \\\n",
    "  --i-reference-taxonomy ../data/classifier/gg_13_8_otus/ref-taxonomy.qza \\\n",
    "  --o-classifier ../data/classifier/SILVA_132_QIIME_release/ref-majority_taxonomy_7_levels.qza \\\n",
    "  --verbose "
   ]
  }
 ],
 "metadata": {
  "kernelspec": {
   "display_name": "Python 3",
   "language": "python",
   "name": "python3"
  },
  "language_info": {
   "codemirror_mode": {
    "name": "ipython",
    "version": 3
   },
   "file_extension": ".py",
   "mimetype": "text/x-python",
   "name": "python",
   "nbconvert_exporter": "python",
   "pygments_lexer": "ipython3",
   "version": "3.6.13"
  }
 },
 "nbformat": 4,
 "nbformat_minor": 5
}
